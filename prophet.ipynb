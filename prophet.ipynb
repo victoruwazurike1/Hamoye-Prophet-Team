{
  "cells": [
    {
      "cell_type": "markdown",
      "metadata": {
        "id": "l7TvacLpAacq"
      },
      "source": [
        "# HDSC2022 Capstone Project\n",
        "## by Team Prophet\n",
        "\n",
        "The dataset contains information about the scholarship programs in China as of May 2019. <br>\n",
        "The data was collected through by scraping the [CUCAS website](https://www.cucas.edu.cn/china_scholarships/). <br>\n",
        "The code to the web scraping program and data cleaning program can be found [here](https://github.com/mcmuralishclint/CUCAS). <br>"
      ]
    },
    {
      "cell_type": "code",
      "execution_count": 1,
      "metadata": {
        "id": "kl39rwxS_nhI"
      },
      "outputs": [
        {
          "ename": "ModuleNotFoundError",
          "evalue": "No module named 'xgboost'",
          "output_type": "error",
          "traceback": [
            "\u001b[1;31m---------------------------------------------------------------------------\u001b[0m",
            "\u001b[1;31mModuleNotFoundError\u001b[0m                       Traceback (most recent call last)",
            "\u001b[1;32mC:\\Users\\DIMARI~1\\AppData\\Local\\Temp/ipykernel_9252/2987336201.py\u001b[0m in \u001b[0;36m<module>\u001b[1;34m\u001b[0m\n\u001b[0;32m     12\u001b[0m \u001b[1;32mfrom\u001b[0m \u001b[0msklearn\u001b[0m\u001b[1;33m.\u001b[0m\u001b[0mimpute\u001b[0m \u001b[1;32mimport\u001b[0m \u001b[0mSimpleImputer\u001b[0m\u001b[1;33m\u001b[0m\u001b[1;33m\u001b[0m\u001b[0m\n\u001b[0;32m     13\u001b[0m \u001b[1;33m\u001b[0m\u001b[0m\n\u001b[1;32m---> 14\u001b[1;33m \u001b[1;32mfrom\u001b[0m \u001b[0mxgboost\u001b[0m \u001b[1;32mimport\u001b[0m \u001b[0mXGBRegressor\u001b[0m\u001b[1;33m\u001b[0m\u001b[1;33m\u001b[0m\u001b[0m\n\u001b[0m\u001b[0;32m     15\u001b[0m \u001b[1;32mfrom\u001b[0m \u001b[0msklearn\u001b[0m\u001b[1;33m.\u001b[0m\u001b[0mensemble\u001b[0m \u001b[1;32mimport\u001b[0m \u001b[0mRandomForestRegressor\u001b[0m\u001b[1;33m\u001b[0m\u001b[1;33m\u001b[0m\u001b[0m\n\u001b[0;32m     16\u001b[0m \u001b[1;33m\u001b[0m\u001b[0m\n",
            "\u001b[1;31mModuleNotFoundError\u001b[0m: No module named 'xgboost'"
          ]
        }
      ],
      "source": [
        "# Import libraries\n",
        "import pandas as pd\n",
        "import numpy as np\n",
        "import matplotlib.pyplot as plt\n",
        "import seaborn as sns\n",
        "\n",
        "from sklearn.preprocessing import OneHotEncoder, MinMaxScaler, OrdinalEncoder\n",
        "from sklearn.metrics import mean_absolute_error, mean_squared_error, r2_score\n",
        "from sklearn.model_selection import train_test_split, cross_val_score\n",
        "from sklearn.compose import ColumnTransformer\n",
        "from sklearn.pipeline import Pipeline\n",
        "from sklearn.impute import SimpleImputer\n",
        "\n",
        "from xgboost import XGBRegressor\n",
        "from sklearn.ensemble import RandomForestRegressor\n",
        "\n",
        "import optuna\n",
        "from optuna import Trial, visualization\n",
        "from optuna.samplers import TPESampler\n",
        "\n",
        "plt.style.use('seaborn')\n",
        "from colorama import Style, Fore, Back\n",
        "\n",
        "%matplotlib inline\n",
        "import warnings\n",
        "warnings.filterwarnings('ignore')"
      ]
    },
    {
      "cell_type": "code",
      "execution_count": 1,
      "metadata": {
        "colab": {
          "base_uri": "https://localhost:8080/",
          "height": 1000
        },
        "id": "9DCdronLBVYV",
        "outputId": "470430ad-4c56-46bd-9b12-b9aa87e84518"
      },
      "outputs": [
        {
          "ename": "NameError",
          "evalue": "name 'pd' is not defined",
          "output_type": "error",
          "traceback": [
            "\u001b[1;31m---------------------------------------------------------------------------\u001b[0m",
            "\u001b[1;31mNameError\u001b[0m                                 Traceback (most recent call last)",
            "\u001b[1;32mC:\\Users\\DIMARI~1\\AppData\\Local\\Temp/ipykernel_9896/3227145750.py\u001b[0m in \u001b[0;36m<module>\u001b[1;34m\u001b[0m\n\u001b[0;32m      1\u001b[0m \u001b[1;31m# We are going to read the csv file using read_csv() function\u001b[0m\u001b[1;33m\u001b[0m\u001b[1;33m\u001b[0m\u001b[1;33m\u001b[0m\u001b[0m\n\u001b[1;32m----> 2\u001b[1;33m \u001b[0minitial_data\u001b[0m \u001b[1;33m=\u001b[0m \u001b[0mpd\u001b[0m\u001b[1;33m.\u001b[0m\u001b[0mread_csv\u001b[0m\u001b[1;33m(\u001b[0m\u001b[1;34m'original.csv'\u001b[0m\u001b[1;33m)\u001b[0m\u001b[1;33m\u001b[0m\u001b[1;33m\u001b[0m\u001b[0m\n\u001b[0m\u001b[0;32m      3\u001b[0m \u001b[0minitial_data\u001b[0m\u001b[1;33m\u001b[0m\u001b[1;33m\u001b[0m\u001b[0m\n",
            "\u001b[1;31mNameError\u001b[0m: name 'pd' is not defined"
          ]
        }
      ],
      "source": [
        "# We are going to read the csv file using read_csv() function \n",
        "initial_data = pd.read_csv('original.csv')\n",
        "initial_data"
      ]
    },
    {
      "cell_type": "markdown",
      "metadata": {
        "id": "qPyuP7iqB17z"
      },
      "source": [
        "To have a perfect model, we decided to add more information to the dataset."
      ]
    },
    {
      "cell_type": "code",
      "execution_count": null,
      "metadata": {
        "id": "9TkI1rLCBunQ"
      },
      "outputs": [],
      "source": [
        "# We are going to read the csv file using read_excel() function \n",
        "data = pd.read_excel('china_scholarship.xls')\n",
        "#data is our upgraded dataset"
      ]
    },
    {
      "cell_type": "markdown",
      "metadata": {
        "id": "-6nd__7pPyEK"
      },
      "source": [
        "# Exploratory Data Analysis"
      ]
    },
    {
      "cell_type": "code",
      "execution_count": null,
      "metadata": {
        "colab": {
          "base_uri": "https://localhost:8080/",
          "height": 652
        },
        "id": "DjlXZDYvCHUF",
        "outputId": "57dd60b9-745d-4d3b-e96b-233e6f59424b"
      },
      "outputs": [
        {
          "data": {
            "text/html": [
              "\n",
              "  <div id=\"df-3d3c4837-f989-406d-9347-f7fb59c0c25a\">\n",
              "    <div class=\"colab-df-container\">\n",
              "      <div>\n",
              "<style scoped>\n",
              "    .dataframe tbody tr th:only-of-type {\n",
              "        vertical-align: middle;\n",
              "    }\n",
              "\n",
              "    .dataframe tbody tr th {\n",
              "        vertical-align: top;\n",
              "    }\n",
              "\n",
              "    .dataframe thead th {\n",
              "        text-align: right;\n",
              "    }\n",
              "</style>\n",
              "<table border=\"1\" class=\"dataframe\">\n",
              "  <thead>\n",
              "    <tr style=\"text-align: right;\">\n",
              "      <th></th>\n",
              "      <th>schol_id</th>\n",
              "      <th>University</th>\n",
              "      <th>Major</th>\n",
              "      <th>Location / District</th>\n",
              "      <th>Province / City</th>\n",
              "      <th>Level</th>\n",
              "      <th>Language</th>\n",
              "      <th>Tuition Covered</th>\n",
              "      <th>Accomodation covered?</th>\n",
              "      <th>Living Expense Covered?</th>\n",
              "      <th>Tuition fees to pay</th>\n",
              "      <th>Original Tuition fee</th>\n",
              "      <th>Start_Month</th>\n",
              "      <th>Start_Year</th>\n",
              "      <th>Accomodation_To_Pay</th>\n",
              "      <th>Accomodation_duration</th>\n",
              "      <th>Expense_To_Pay</th>\n",
              "      <th>Expense_duration</th>\n",
              "    </tr>\n",
              "  </thead>\n",
              "  <tbody>\n",
              "    <tr>\n",
              "      <th>0</th>\n",
              "      <td>1</td>\n",
              "      <td>Shanghai University of Traditional Chinese Med...</td>\n",
              "      <td>Summer School (TCM)</td>\n",
              "      <td>Xuhui</td>\n",
              "      <td>Shanghai</td>\n",
              "      <td>Non-Degree</td>\n",
              "      <td>English</td>\n",
              "      <td>7500.0</td>\n",
              "      <td>0</td>\n",
              "      <td>0</td>\n",
              "      <td>0</td>\n",
              "      <td>7500.0</td>\n",
              "      <td>Jun</td>\n",
              "      <td>2020</td>\n",
              "      <td>9750</td>\n",
              "      <td>MONTH</td>\n",
              "      <td>1000</td>\n",
              "      <td>MONTH</td>\n",
              "    </tr>\n",
              "    <tr>\n",
              "      <th>1</th>\n",
              "      <td>2</td>\n",
              "      <td>Changchun University of Science and Technology</td>\n",
              "      <td>Preparatory Program of Humanities Direction(Pa...</td>\n",
              "      <td>Chaoyang</td>\n",
              "      <td>Jilin</td>\n",
              "      <td>Non-Degree</td>\n",
              "      <td>Chinese</td>\n",
              "      <td>10000.0</td>\n",
              "      <td>0</td>\n",
              "      <td>0</td>\n",
              "      <td>10000</td>\n",
              "      <td>20000.0</td>\n",
              "      <td>Sep</td>\n",
              "      <td>2019</td>\n",
              "      <td>1500</td>\n",
              "      <td>MONTH</td>\n",
              "      <td>1500</td>\n",
              "      <td>MONTH</td>\n",
              "    </tr>\n",
              "    <tr>\n",
              "      <th>2</th>\n",
              "      <td>3</td>\n",
              "      <td>Changchun University of Science and Technology</td>\n",
              "      <td>Preparatory Program of Business Direction(Path A)</td>\n",
              "      <td>Chaoyang</td>\n",
              "      <td>Jilin</td>\n",
              "      <td>Non-Degree</td>\n",
              "      <td>Chinese</td>\n",
              "      <td>10000.0</td>\n",
              "      <td>0</td>\n",
              "      <td>0</td>\n",
              "      <td>10000</td>\n",
              "      <td>20000.0</td>\n",
              "      <td>Sep</td>\n",
              "      <td>2019</td>\n",
              "      <td>1500</td>\n",
              "      <td>MONTH</td>\n",
              "      <td>1500</td>\n",
              "      <td>MONTH</td>\n",
              "    </tr>\n",
              "    <tr>\n",
              "      <th>3</th>\n",
              "      <td>4</td>\n",
              "      <td>Changchun University of Science and Technology</td>\n",
              "      <td>Preparatory Program of Science and Engineering...</td>\n",
              "      <td>Chaoyang</td>\n",
              "      <td>Jilin</td>\n",
              "      <td>Non-Degree</td>\n",
              "      <td>Chinese</td>\n",
              "      <td>10000.0</td>\n",
              "      <td>0</td>\n",
              "      <td>0</td>\n",
              "      <td>10000</td>\n",
              "      <td>20000.0</td>\n",
              "      <td>Sep</td>\n",
              "      <td>2019</td>\n",
              "      <td>1500</td>\n",
              "      <td>MONTH</td>\n",
              "      <td>1500</td>\n",
              "      <td>MONTH</td>\n",
              "    </tr>\n",
              "    <tr>\n",
              "      <th>4</th>\n",
              "      <td>5</td>\n",
              "      <td>Qingdao University</td>\n",
              "      <td>Long-term Chinese Language Program</td>\n",
              "      <td>Qingdao</td>\n",
              "      <td>Shandong</td>\n",
              "      <td>Non-Degree</td>\n",
              "      <td>Chinese</td>\n",
              "      <td>7000.0</td>\n",
              "      <td>1</td>\n",
              "      <td>1</td>\n",
              "      <td>0</td>\n",
              "      <td>7000.0</td>\n",
              "      <td>Sep</td>\n",
              "      <td>2019</td>\n",
              "      <td>0</td>\n",
              "      <td>YEAR</td>\n",
              "      <td>0</td>\n",
              "      <td>MONTH</td>\n",
              "    </tr>\n",
              "  </tbody>\n",
              "</table>\n",
              "</div>\n",
              "      <button class=\"colab-df-convert\" onclick=\"convertToInteractive('df-3d3c4837-f989-406d-9347-f7fb59c0c25a')\"\n",
              "              title=\"Convert this dataframe to an interactive table.\"\n",
              "              style=\"display:none;\">\n",
              "        \n",
              "  <svg xmlns=\"http://www.w3.org/2000/svg\" height=\"24px\"viewBox=\"0 0 24 24\"\n",
              "       width=\"24px\">\n",
              "    <path d=\"M0 0h24v24H0V0z\" fill=\"none\"/>\n",
              "    <path d=\"M18.56 5.44l.94 2.06.94-2.06 2.06-.94-2.06-.94-.94-2.06-.94 2.06-2.06.94zm-11 1L8.5 8.5l.94-2.06 2.06-.94-2.06-.94L8.5 2.5l-.94 2.06-2.06.94zm10 10l.94 2.06.94-2.06 2.06-.94-2.06-.94-.94-2.06-.94 2.06-2.06.94z\"/><path d=\"M17.41 7.96l-1.37-1.37c-.4-.4-.92-.59-1.43-.59-.52 0-1.04.2-1.43.59L10.3 9.45l-7.72 7.72c-.78.78-.78 2.05 0 2.83L4 21.41c.39.39.9.59 1.41.59.51 0 1.02-.2 1.41-.59l7.78-7.78 2.81-2.81c.8-.78.8-2.07 0-2.86zM5.41 20L4 18.59l7.72-7.72 1.47 1.35L5.41 20z\"/>\n",
              "  </svg>\n",
              "      </button>\n",
              "      \n",
              "  <style>\n",
              "    .colab-df-container {\n",
              "      display:flex;\n",
              "      flex-wrap:wrap;\n",
              "      gap: 12px;\n",
              "    }\n",
              "\n",
              "    .colab-df-convert {\n",
              "      background-color: #E8F0FE;\n",
              "      border: none;\n",
              "      border-radius: 50%;\n",
              "      cursor: pointer;\n",
              "      display: none;\n",
              "      fill: #1967D2;\n",
              "      height: 32px;\n",
              "      padding: 0 0 0 0;\n",
              "      width: 32px;\n",
              "    }\n",
              "\n",
              "    .colab-df-convert:hover {\n",
              "      background-color: #E2EBFA;\n",
              "      box-shadow: 0px 1px 2px rgba(60, 64, 67, 0.3), 0px 1px 3px 1px rgba(60, 64, 67, 0.15);\n",
              "      fill: #174EA6;\n",
              "    }\n",
              "\n",
              "    [theme=dark] .colab-df-convert {\n",
              "      background-color: #3B4455;\n",
              "      fill: #D2E3FC;\n",
              "    }\n",
              "\n",
              "    [theme=dark] .colab-df-convert:hover {\n",
              "      background-color: #434B5C;\n",
              "      box-shadow: 0px 1px 3px 1px rgba(0, 0, 0, 0.15);\n",
              "      filter: drop-shadow(0px 1px 2px rgba(0, 0, 0, 0.3));\n",
              "      fill: #FFFFFF;\n",
              "    }\n",
              "  </style>\n",
              "\n",
              "      <script>\n",
              "        const buttonEl =\n",
              "          document.querySelector('#df-3d3c4837-f989-406d-9347-f7fb59c0c25a button.colab-df-convert');\n",
              "        buttonEl.style.display =\n",
              "          google.colab.kernel.accessAllowed ? 'block' : 'none';\n",
              "\n",
              "        async function convertToInteractive(key) {\n",
              "          const element = document.querySelector('#df-3d3c4837-f989-406d-9347-f7fb59c0c25a');\n",
              "          const dataTable =\n",
              "            await google.colab.kernel.invokeFunction('convertToInteractive',\n",
              "                                                     [key], {});\n",
              "          if (!dataTable) return;\n",
              "\n",
              "          const docLinkHtml = 'Like what you see? Visit the ' +\n",
              "            '<a target=\"_blank\" href=https://colab.research.google.com/notebooks/data_table.ipynb>data table notebook</a>'\n",
              "            + ' to learn more about interactive tables.';\n",
              "          element.innerHTML = '';\n",
              "          dataTable['output_type'] = 'display_data';\n",
              "          await google.colab.output.renderOutput(dataTable, element);\n",
              "          const docLink = document.createElement('div');\n",
              "          docLink.innerHTML = docLinkHtml;\n",
              "          element.appendChild(docLink);\n",
              "        }\n",
              "      </script>\n",
              "    </div>\n",
              "  </div>\n",
              "  "
            ],
            "text/plain": [
              "   schol_id                                         University  \\\n",
              "0         1  Shanghai University of Traditional Chinese Med...   \n",
              "1         2     Changchun University of Science and Technology   \n",
              "2         3     Changchun University of Science and Technology   \n",
              "3         4     Changchun University of Science and Technology   \n",
              "4         5                                 Qingdao University   \n",
              "\n",
              "                                               Major Location / District  \\\n",
              "0                                Summer School (TCM)               Xuhui   \n",
              "1  Preparatory Program of Humanities Direction(Pa...           Chaoyang    \n",
              "2  Preparatory Program of Business Direction(Path A)           Chaoyang    \n",
              "3  Preparatory Program of Science and Engineering...           Chaoyang    \n",
              "4                 Long-term Chinese Language Program             Qingdao   \n",
              "\n",
              "  Province / City       Level Language  Tuition Covered  \\\n",
              "0        Shanghai  Non-Degree  English           7500.0   \n",
              "1           Jilin  Non-Degree  Chinese          10000.0   \n",
              "2           Jilin  Non-Degree  Chinese          10000.0   \n",
              "3           Jilin  Non-Degree  Chinese          10000.0   \n",
              "4        Shandong  Non-Degree  Chinese           7000.0   \n",
              "\n",
              "   Accomodation covered?  Living Expense Covered?  Tuition fees to pay  \\\n",
              "0                      0                        0                    0   \n",
              "1                      0                        0                10000   \n",
              "2                      0                        0                10000   \n",
              "3                      0                        0                10000   \n",
              "4                      1                        1                    0   \n",
              "\n",
              "   Original Tuition fee Start_Month  Start_Year  Accomodation_To_Pay  \\\n",
              "0                7500.0         Jun        2020                 9750   \n",
              "1               20000.0         Sep        2019                 1500   \n",
              "2               20000.0         Sep        2019                 1500   \n",
              "3               20000.0         Sep        2019                 1500   \n",
              "4                7000.0         Sep        2019                    0   \n",
              "\n",
              "  Accomodation_duration  Expense_To_Pay Expense_duration  \n",
              "0                 MONTH            1000            MONTH  \n",
              "1                 MONTH            1500            MONTH  \n",
              "2                 MONTH            1500            MONTH  \n",
              "3                 MONTH            1500            MONTH  \n",
              "4                  YEAR               0            MONTH  "
            ]
          },
          "execution_count": 17,
          "metadata": {},
          "output_type": "execute_result"
        }
      ],
      "source": [
        "data.head()"
      ]
    },
    {
      "cell_type": "code",
      "execution_count": null,
      "metadata": {
        "colab": {
          "base_uri": "https://localhost:8080/"
        },
        "id": "d_o4HTB7Nj0O",
        "outputId": "2e936be2-5ad1-4dba-bed1-de2214da52cd"
      },
      "outputs": [
        {
          "data": {
            "text/plain": [
              "Index(['schol_id', 'University', 'Major', 'Level', 'Language',\n",
              "       'Tuition Covered', 'Accomodation covered?', 'Living Expense Covered?',\n",
              "       'Tuition fees to pay', 'Original Tuition fee', 'Start_Month',\n",
              "       'Start_Year', 'Accomodation_To_Pay', 'Accomodation_duration',\n",
              "       'Expense_To_Pay', 'Expense_duration'],\n",
              "      dtype='object')"
            ]
          },
          "execution_count": 18,
          "metadata": {},
          "output_type": "execute_result"
        }
      ],
      "source": [
        "initial_data.columns"
      ]
    },
    {
      "cell_type": "code",
      "execution_count": null,
      "metadata": {
        "colab": {
          "base_uri": "https://localhost:8080/"
        },
        "id": "R-_HJdviOLIV",
        "outputId": "c6334b1c-2810-4334-d23a-12894defba33"
      },
      "outputs": [
        {
          "data": {
            "text/plain": [
              "Index(['schol_id', 'University', 'Major', 'Location / District',\n",
              "       'Province / City', 'Level', 'Language', 'Tuition Covered',\n",
              "       'Accomodation covered?', 'Living Expense Covered?',\n",
              "       'Tuition fees to pay', 'Original Tuition fee', 'Start_Month',\n",
              "       'Start_Year', 'Accomodation_To_Pay', 'Accomodation_duration',\n",
              "       'Expense_To_Pay', 'Expense_duration'],\n",
              "      dtype='object')"
            ]
          },
          "execution_count": 19,
          "metadata": {},
          "output_type": "execute_result"
        }
      ],
      "source": [
        "data.columns"
      ]
    },
    {
      "cell_type": "code",
      "execution_count": null,
      "metadata": {
        "id": "kzE1swpfOOQs"
      },
      "outputs": [],
      "source": [
        "# We are going to rename the columns using the snake_case naming convention to improve readability\n",
        "data.columns = ['school_id', 'university', 'major', 'district', 'city', 'level', 'language', 'tuition_covered', 'accomodation_covered',\n",
        "'living_expense_covered', 'tuition_fees_to_pay', 'original_tuition_fee','start_month','start_year', 'accomodation_to_pay',\n",
        "'accomodation_duration', 'expense_to_pay', 'expense_duration']"
      ]
    },
    {
      "cell_type": "code",
      "execution_count": null,
      "metadata": {
        "colab": {
          "base_uri": "https://localhost:8080/"
        },
        "id": "kjK7LshsOWmh",
        "outputId": "512026e1-4342-4f01-e032-98828951416b"
      },
      "outputs": [
        {
          "name": "stdout",
          "output_type": "stream",
          "text": [
            "<class 'pandas.core.frame.DataFrame'>\n",
            "RangeIndex: 3576 entries, 0 to 3575\n",
            "Data columns (total 18 columns):\n",
            " #   Column                  Non-Null Count  Dtype  \n",
            "---  ------                  --------------  -----  \n",
            " 0   school_id               3576 non-null   int64  \n",
            " 1   university              3576 non-null   object \n",
            " 2   major                   3576 non-null   object \n",
            " 3   district                3576 non-null   object \n",
            " 4   city                    3576 non-null   object \n",
            " 5   level                   3576 non-null   object \n",
            " 6   language                3576 non-null   object \n",
            " 7   tuition_covered         3453 non-null   float64\n",
            " 8   accomodation_covered    3576 non-null   int64  \n",
            " 9   living_expense_covered  3576 non-null   int64  \n",
            " 10  tuition_fees_to_pay     3576 non-null   int64  \n",
            " 11  original_tuition_fee    3453 non-null   float64\n",
            " 12  start_month             3576 non-null   object \n",
            " 13  start_year              3576 non-null   int64  \n",
            " 14  accomodation_to_pay     3576 non-null   int64  \n",
            " 15  accomodation_duration   3576 non-null   object \n",
            " 16  expense_to_pay          3576 non-null   int64  \n",
            " 17  expense_duration        3576 non-null   object \n",
            "dtypes: float64(2), int64(7), object(9)\n",
            "memory usage: 503.0+ KB\n"
          ]
        }
      ],
      "source": [
        "data.info()"
      ]
    },
    {
      "cell_type": "code",
      "execution_count": null,
      "metadata": {
        "colab": {
          "base_uri": "https://localhost:8080/"
        },
        "id": "QNhHdCcMO5Cc",
        "outputId": "4806cb09-8ee9-461b-c7dc-d665559aa825"
      },
      "outputs": [
        {
          "data": {
            "text/plain": [
              "(3576, 18)"
            ]
          },
          "execution_count": 22,
          "metadata": {},
          "output_type": "execute_result"
        }
      ],
      "source": [
        "data.shape"
      ]
    },
    {
      "cell_type": "code",
      "execution_count": null,
      "metadata": {
        "colab": {
          "base_uri": "https://localhost:8080/",
          "height": 364
        },
        "id": "wbosTg22PHMD",
        "outputId": "84ab9840-9160-4bdc-ce7d-0268c0485ebe"
      },
      "outputs": [
        {
          "data": {
            "text/html": [
              "\n",
              "  <div id=\"df-80a5889b-a38b-4727-90d8-d6197dbe7b5e\">\n",
              "    <div class=\"colab-df-container\">\n",
              "      <div>\n",
              "<style scoped>\n",
              "    .dataframe tbody tr th:only-of-type {\n",
              "        vertical-align: middle;\n",
              "    }\n",
              "\n",
              "    .dataframe tbody tr th {\n",
              "        vertical-align: top;\n",
              "    }\n",
              "\n",
              "    .dataframe thead th {\n",
              "        text-align: right;\n",
              "    }\n",
              "</style>\n",
              "<table border=\"1\" class=\"dataframe\">\n",
              "  <thead>\n",
              "    <tr style=\"text-align: right;\">\n",
              "      <th></th>\n",
              "      <th>school_id</th>\n",
              "      <th>tuition_covered</th>\n",
              "      <th>accomodation_covered</th>\n",
              "      <th>living_expense_covered</th>\n",
              "      <th>tuition_fees_to_pay</th>\n",
              "      <th>original_tuition_fee</th>\n",
              "      <th>start_year</th>\n",
              "      <th>accomodation_to_pay</th>\n",
              "      <th>expense_to_pay</th>\n",
              "    </tr>\n",
              "  </thead>\n",
              "  <tbody>\n",
              "    <tr>\n",
              "      <th>count</th>\n",
              "      <td>3576.000000</td>\n",
              "      <td>3453.000000</td>\n",
              "      <td>3576.000000</td>\n",
              "      <td>3576.000000</td>\n",
              "      <td>3576.000000</td>\n",
              "      <td>3453.000000</td>\n",
              "      <td>3576.000000</td>\n",
              "      <td>3576.000000</td>\n",
              "      <td>3576.000000</td>\n",
              "    </tr>\n",
              "    <tr>\n",
              "      <th>mean</th>\n",
              "      <td>1816.503076</td>\n",
              "      <td>20531.704315</td>\n",
              "      <td>0.232942</td>\n",
              "      <td>0.251119</td>\n",
              "      <td>8433.516499</td>\n",
              "      <td>28693.955980</td>\n",
              "      <td>2019.056208</td>\n",
              "      <td>1376.461969</td>\n",
              "      <td>1070.987136</td>\n",
              "    </tr>\n",
              "    <tr>\n",
              "      <th>std</th>\n",
              "      <td>1034.126355</td>\n",
              "      <td>12428.124918</td>\n",
              "      <td>0.422765</td>\n",
              "      <td>0.433717</td>\n",
              "      <td>9519.340675</td>\n",
              "      <td>15341.450293</td>\n",
              "      <td>0.230355</td>\n",
              "      <td>2802.526970</td>\n",
              "      <td>601.297528</td>\n",
              "    </tr>\n",
              "    <tr>\n",
              "      <th>min</th>\n",
              "      <td>1.000000</td>\n",
              "      <td>0.000000</td>\n",
              "      <td>0.000000</td>\n",
              "      <td>0.000000</td>\n",
              "      <td>0.000000</td>\n",
              "      <td>0.000000</td>\n",
              "      <td>2019.000000</td>\n",
              "      <td>0.000000</td>\n",
              "      <td>0.000000</td>\n",
              "    </tr>\n",
              "    <tr>\n",
              "      <th>25%</th>\n",
              "      <td>923.750000</td>\n",
              "      <td>10625.000000</td>\n",
              "      <td>0.000000</td>\n",
              "      <td>0.000000</td>\n",
              "      <td>0.000000</td>\n",
              "      <td>20000.000000</td>\n",
              "      <td>2019.000000</td>\n",
              "      <td>400.000000</td>\n",
              "      <td>1000.000000</td>\n",
              "    </tr>\n",
              "    <tr>\n",
              "      <th>50%</th>\n",
              "      <td>1817.500000</td>\n",
              "      <td>20000.000000</td>\n",
              "      <td>0.000000</td>\n",
              "      <td>0.000000</td>\n",
              "      <td>6000.000000</td>\n",
              "      <td>26500.000000</td>\n",
              "      <td>2019.000000</td>\n",
              "      <td>900.000000</td>\n",
              "      <td>1000.000000</td>\n",
              "    </tr>\n",
              "    <tr>\n",
              "      <th>75%</th>\n",
              "      <td>2711.250000</td>\n",
              "      <td>26500.000000</td>\n",
              "      <td>0.000000</td>\n",
              "      <td>1.000000</td>\n",
              "      <td>11000.000000</td>\n",
              "      <td>34000.000000</td>\n",
              "      <td>2019.000000</td>\n",
              "      <td>1200.000000</td>\n",
              "      <td>1500.000000</td>\n",
              "    </tr>\n",
              "    <tr>\n",
              "      <th>max</th>\n",
              "      <td>3605.000000</td>\n",
              "      <td>80000.000000</td>\n",
              "      <td>1.000000</td>\n",
              "      <td>1.000000</td>\n",
              "      <td>69000.000000</td>\n",
              "      <td>148000.000000</td>\n",
              "      <td>2020.000000</td>\n",
              "      <td>24000.000000</td>\n",
              "      <td>2700.000000</td>\n",
              "    </tr>\n",
              "  </tbody>\n",
              "</table>\n",
              "</div>\n",
              "      <button class=\"colab-df-convert\" onclick=\"convertToInteractive('df-80a5889b-a38b-4727-90d8-d6197dbe7b5e')\"\n",
              "              title=\"Convert this dataframe to an interactive table.\"\n",
              "              style=\"display:none;\">\n",
              "        \n",
              "  <svg xmlns=\"http://www.w3.org/2000/svg\" height=\"24px\"viewBox=\"0 0 24 24\"\n",
              "       width=\"24px\">\n",
              "    <path d=\"M0 0h24v24H0V0z\" fill=\"none\"/>\n",
              "    <path d=\"M18.56 5.44l.94 2.06.94-2.06 2.06-.94-2.06-.94-.94-2.06-.94 2.06-2.06.94zm-11 1L8.5 8.5l.94-2.06 2.06-.94-2.06-.94L8.5 2.5l-.94 2.06-2.06.94zm10 10l.94 2.06.94-2.06 2.06-.94-2.06-.94-.94-2.06-.94 2.06-2.06.94z\"/><path d=\"M17.41 7.96l-1.37-1.37c-.4-.4-.92-.59-1.43-.59-.52 0-1.04.2-1.43.59L10.3 9.45l-7.72 7.72c-.78.78-.78 2.05 0 2.83L4 21.41c.39.39.9.59 1.41.59.51 0 1.02-.2 1.41-.59l7.78-7.78 2.81-2.81c.8-.78.8-2.07 0-2.86zM5.41 20L4 18.59l7.72-7.72 1.47 1.35L5.41 20z\"/>\n",
              "  </svg>\n",
              "      </button>\n",
              "      \n",
              "  <style>\n",
              "    .colab-df-container {\n",
              "      display:flex;\n",
              "      flex-wrap:wrap;\n",
              "      gap: 12px;\n",
              "    }\n",
              "\n",
              "    .colab-df-convert {\n",
              "      background-color: #E8F0FE;\n",
              "      border: none;\n",
              "      border-radius: 50%;\n",
              "      cursor: pointer;\n",
              "      display: none;\n",
              "      fill: #1967D2;\n",
              "      height: 32px;\n",
              "      padding: 0 0 0 0;\n",
              "      width: 32px;\n",
              "    }\n",
              "\n",
              "    .colab-df-convert:hover {\n",
              "      background-color: #E2EBFA;\n",
              "      box-shadow: 0px 1px 2px rgba(60, 64, 67, 0.3), 0px 1px 3px 1px rgba(60, 64, 67, 0.15);\n",
              "      fill: #174EA6;\n",
              "    }\n",
              "\n",
              "    [theme=dark] .colab-df-convert {\n",
              "      background-color: #3B4455;\n",
              "      fill: #D2E3FC;\n",
              "    }\n",
              "\n",
              "    [theme=dark] .colab-df-convert:hover {\n",
              "      background-color: #434B5C;\n",
              "      box-shadow: 0px 1px 3px 1px rgba(0, 0, 0, 0.15);\n",
              "      filter: drop-shadow(0px 1px 2px rgba(0, 0, 0, 0.3));\n",
              "      fill: #FFFFFF;\n",
              "    }\n",
              "  </style>\n",
              "\n",
              "      <script>\n",
              "        const buttonEl =\n",
              "          document.querySelector('#df-80a5889b-a38b-4727-90d8-d6197dbe7b5e button.colab-df-convert');\n",
              "        buttonEl.style.display =\n",
              "          google.colab.kernel.accessAllowed ? 'block' : 'none';\n",
              "\n",
              "        async function convertToInteractive(key) {\n",
              "          const element = document.querySelector('#df-80a5889b-a38b-4727-90d8-d6197dbe7b5e');\n",
              "          const dataTable =\n",
              "            await google.colab.kernel.invokeFunction('convertToInteractive',\n",
              "                                                     [key], {});\n",
              "          if (!dataTable) return;\n",
              "\n",
              "          const docLinkHtml = 'Like what you see? Visit the ' +\n",
              "            '<a target=\"_blank\" href=https://colab.research.google.com/notebooks/data_table.ipynb>data table notebook</a>'\n",
              "            + ' to learn more about interactive tables.';\n",
              "          element.innerHTML = '';\n",
              "          dataTable['output_type'] = 'display_data';\n",
              "          await google.colab.output.renderOutput(dataTable, element);\n",
              "          const docLink = document.createElement('div');\n",
              "          docLink.innerHTML = docLinkHtml;\n",
              "          element.appendChild(docLink);\n",
              "        }\n",
              "      </script>\n",
              "    </div>\n",
              "  </div>\n",
              "  "
            ],
            "text/plain": [
              "         school_id  tuition_covered  accomodation_covered  \\\n",
              "count  3576.000000      3453.000000           3576.000000   \n",
              "mean   1816.503076     20531.704315              0.232942   \n",
              "std    1034.126355     12428.124918              0.422765   \n",
              "min       1.000000         0.000000              0.000000   \n",
              "25%     923.750000     10625.000000              0.000000   \n",
              "50%    1817.500000     20000.000000              0.000000   \n",
              "75%    2711.250000     26500.000000              0.000000   \n",
              "max    3605.000000     80000.000000              1.000000   \n",
              "\n",
              "       living_expense_covered  tuition_fees_to_pay  original_tuition_fee  \\\n",
              "count             3576.000000          3576.000000           3453.000000   \n",
              "mean                 0.251119          8433.516499          28693.955980   \n",
              "std                  0.433717          9519.340675          15341.450293   \n",
              "min                  0.000000             0.000000              0.000000   \n",
              "25%                  0.000000             0.000000          20000.000000   \n",
              "50%                  0.000000          6000.000000          26500.000000   \n",
              "75%                  1.000000         11000.000000          34000.000000   \n",
              "max                  1.000000         69000.000000         148000.000000   \n",
              "\n",
              "        start_year  accomodation_to_pay  expense_to_pay  \n",
              "count  3576.000000          3576.000000     3576.000000  \n",
              "mean   2019.056208          1376.461969     1070.987136  \n",
              "std       0.230355          2802.526970      601.297528  \n",
              "min    2019.000000             0.000000        0.000000  \n",
              "25%    2019.000000           400.000000     1000.000000  \n",
              "50%    2019.000000           900.000000     1000.000000  \n",
              "75%    2019.000000          1200.000000     1500.000000  \n",
              "max    2020.000000         24000.000000     2700.000000  "
            ]
          },
          "execution_count": 23,
          "metadata": {},
          "output_type": "execute_result"
        }
      ],
      "source": [
        "#Summary statistics for numerical columns\n",
        "data.describe()"
      ]
    },
    {
      "cell_type": "code",
      "execution_count": null,
      "metadata": {
        "colab": {
          "base_uri": "https://localhost:8080/",
          "height": 236
        },
        "id": "6JB4CYTyPNLV",
        "outputId": "089646cd-d53b-4281-d9de-c602eae8301f"
      },
      "outputs": [
        {
          "data": {
            "text/html": [
              "\n",
              "  <div id=\"df-d2022d3d-ebc0-485e-a246-abf8d70533fd\">\n",
              "    <div class=\"colab-df-container\">\n",
              "      <div>\n",
              "<style scoped>\n",
              "    .dataframe tbody tr th:only-of-type {\n",
              "        vertical-align: middle;\n",
              "    }\n",
              "\n",
              "    .dataframe tbody tr th {\n",
              "        vertical-align: top;\n",
              "    }\n",
              "\n",
              "    .dataframe thead th {\n",
              "        text-align: right;\n",
              "    }\n",
              "</style>\n",
              "<table border=\"1\" class=\"dataframe\">\n",
              "  <thead>\n",
              "    <tr style=\"text-align: right;\">\n",
              "      <th></th>\n",
              "      <th>university</th>\n",
              "      <th>major</th>\n",
              "      <th>district</th>\n",
              "      <th>city</th>\n",
              "      <th>level</th>\n",
              "      <th>language</th>\n",
              "      <th>start_month</th>\n",
              "      <th>accomodation_duration</th>\n",
              "      <th>expense_duration</th>\n",
              "    </tr>\n",
              "  </thead>\n",
              "  <tbody>\n",
              "    <tr>\n",
              "      <th>count</th>\n",
              "      <td>3576</td>\n",
              "      <td>3576</td>\n",
              "      <td>3576</td>\n",
              "      <td>3576</td>\n",
              "      <td>3576</td>\n",
              "      <td>3576</td>\n",
              "      <td>3576</td>\n",
              "      <td>3576</td>\n",
              "      <td>3576</td>\n",
              "    </tr>\n",
              "    <tr>\n",
              "      <th>unique</th>\n",
              "      <td>53</td>\n",
              "      <td>1249</td>\n",
              "      <td>40</td>\n",
              "      <td>16</td>\n",
              "      <td>4</td>\n",
              "      <td>4</td>\n",
              "      <td>5</td>\n",
              "      <td>6</td>\n",
              "      <td>1</td>\n",
              "    </tr>\n",
              "    <tr>\n",
              "      <th>top</th>\n",
              "      <td>Zhejiang Normal University</td>\n",
              "      <td>Computer Science and Technology</td>\n",
              "      <td>Changping</td>\n",
              "      <td>Zhejiang</td>\n",
              "      <td>Master</td>\n",
              "      <td>Chinese</td>\n",
              "      <td>Sep</td>\n",
              "      <td>MONTH</td>\n",
              "      <td>MONTH</td>\n",
              "    </tr>\n",
              "    <tr>\n",
              "      <th>freq</th>\n",
              "      <td>402</td>\n",
              "      <td>54</td>\n",
              "      <td>565</td>\n",
              "      <td>915</td>\n",
              "      <td>1461</td>\n",
              "      <td>2395</td>\n",
              "      <td>3551</td>\n",
              "      <td>2575</td>\n",
              "      <td>3576</td>\n",
              "    </tr>\n",
              "  </tbody>\n",
              "</table>\n",
              "</div>\n",
              "      <button class=\"colab-df-convert\" onclick=\"convertToInteractive('df-d2022d3d-ebc0-485e-a246-abf8d70533fd')\"\n",
              "              title=\"Convert this dataframe to an interactive table.\"\n",
              "              style=\"display:none;\">\n",
              "        \n",
              "  <svg xmlns=\"http://www.w3.org/2000/svg\" height=\"24px\"viewBox=\"0 0 24 24\"\n",
              "       width=\"24px\">\n",
              "    <path d=\"M0 0h24v24H0V0z\" fill=\"none\"/>\n",
              "    <path d=\"M18.56 5.44l.94 2.06.94-2.06 2.06-.94-2.06-.94-.94-2.06-.94 2.06-2.06.94zm-11 1L8.5 8.5l.94-2.06 2.06-.94-2.06-.94L8.5 2.5l-.94 2.06-2.06.94zm10 10l.94 2.06.94-2.06 2.06-.94-2.06-.94-.94-2.06-.94 2.06-2.06.94z\"/><path d=\"M17.41 7.96l-1.37-1.37c-.4-.4-.92-.59-1.43-.59-.52 0-1.04.2-1.43.59L10.3 9.45l-7.72 7.72c-.78.78-.78 2.05 0 2.83L4 21.41c.39.39.9.59 1.41.59.51 0 1.02-.2 1.41-.59l7.78-7.78 2.81-2.81c.8-.78.8-2.07 0-2.86zM5.41 20L4 18.59l7.72-7.72 1.47 1.35L5.41 20z\"/>\n",
              "  </svg>\n",
              "      </button>\n",
              "      \n",
              "  <style>\n",
              "    .colab-df-container {\n",
              "      display:flex;\n",
              "      flex-wrap:wrap;\n",
              "      gap: 12px;\n",
              "    }\n",
              "\n",
              "    .colab-df-convert {\n",
              "      background-color: #E8F0FE;\n",
              "      border: none;\n",
              "      border-radius: 50%;\n",
              "      cursor: pointer;\n",
              "      display: none;\n",
              "      fill: #1967D2;\n",
              "      height: 32px;\n",
              "      padding: 0 0 0 0;\n",
              "      width: 32px;\n",
              "    }\n",
              "\n",
              "    .colab-df-convert:hover {\n",
              "      background-color: #E2EBFA;\n",
              "      box-shadow: 0px 1px 2px rgba(60, 64, 67, 0.3), 0px 1px 3px 1px rgba(60, 64, 67, 0.15);\n",
              "      fill: #174EA6;\n",
              "    }\n",
              "\n",
              "    [theme=dark] .colab-df-convert {\n",
              "      background-color: #3B4455;\n",
              "      fill: #D2E3FC;\n",
              "    }\n",
              "\n",
              "    [theme=dark] .colab-df-convert:hover {\n",
              "      background-color: #434B5C;\n",
              "      box-shadow: 0px 1px 3px 1px rgba(0, 0, 0, 0.15);\n",
              "      filter: drop-shadow(0px 1px 2px rgba(0, 0, 0, 0.3));\n",
              "      fill: #FFFFFF;\n",
              "    }\n",
              "  </style>\n",
              "\n",
              "      <script>\n",
              "        const buttonEl =\n",
              "          document.querySelector('#df-d2022d3d-ebc0-485e-a246-abf8d70533fd button.colab-df-convert');\n",
              "        buttonEl.style.display =\n",
              "          google.colab.kernel.accessAllowed ? 'block' : 'none';\n",
              "\n",
              "        async function convertToInteractive(key) {\n",
              "          const element = document.querySelector('#df-d2022d3d-ebc0-485e-a246-abf8d70533fd');\n",
              "          const dataTable =\n",
              "            await google.colab.kernel.invokeFunction('convertToInteractive',\n",
              "                                                     [key], {});\n",
              "          if (!dataTable) return;\n",
              "\n",
              "          const docLinkHtml = 'Like what you see? Visit the ' +\n",
              "            '<a target=\"_blank\" href=https://colab.research.google.com/notebooks/data_table.ipynb>data table notebook</a>'\n",
              "            + ' to learn more about interactive tables.';\n",
              "          element.innerHTML = '';\n",
              "          dataTable['output_type'] = 'display_data';\n",
              "          await google.colab.output.renderOutput(dataTable, element);\n",
              "          const docLink = document.createElement('div');\n",
              "          docLink.innerHTML = docLinkHtml;\n",
              "          element.appendChild(docLink);\n",
              "        }\n",
              "      </script>\n",
              "    </div>\n",
              "  </div>\n",
              "  "
            ],
            "text/plain": [
              "                        university                            major  \\\n",
              "count                         3576                             3576   \n",
              "unique                          53                             1249   \n",
              "top     Zhejiang Normal University  Computer Science and Technology   \n",
              "freq                           402                               54   \n",
              "\n",
              "         district      city   level language start_month  \\\n",
              "count        3576      3576    3576     3576        3576   \n",
              "unique         40        16       4        4           5   \n",
              "top     Changping  Zhejiang  Master  Chinese         Sep   \n",
              "freq          565       915    1461     2395        3551   \n",
              "\n",
              "       accomodation_duration expense_duration  \n",
              "count                   3576             3576  \n",
              "unique                     6                1  \n",
              "top                    MONTH            MONTH  \n",
              "freq                    2575             3576  "
            ]
          },
          "execution_count": 25,
          "metadata": {},
          "output_type": "execute_result"
        }
      ],
      "source": [
        "#Summary statistics for categorical columns\n",
        "data.describe(include=[object])"
      ]
    },
    {
      "cell_type": "code",
      "execution_count": null,
      "metadata": {
        "colab": {
          "base_uri": "https://localhost:8080/"
        },
        "id": "2e4iMkxEPSqu",
        "outputId": "0066a76e-44a1-472f-c699-91b5ead03935"
      },
      "outputs": [
        {
          "name": "stdout",
          "output_type": "stream",
          "text": [
            "0\n"
          ]
        }
      ],
      "source": [
        "#check for duplicate data\n",
        "duplicate =data.duplicated()\n",
        "print(duplicate.sum())"
      ]
    },
    {
      "cell_type": "code",
      "execution_count": null,
      "metadata": {
        "colab": {
          "base_uri": "https://localhost:8080/"
        },
        "id": "SnkVOPmOPac3",
        "outputId": "59815615-18e8-4fba-c43a-b7f299746064"
      },
      "outputs": [
        {
          "data": {
            "text/plain": [
              "school_id                   0\n",
              "university                  0\n",
              "major                       0\n",
              "district                    0\n",
              "city                        0\n",
              "level                       0\n",
              "language                    0\n",
              "tuition_covered           123\n",
              "accomodation_covered        0\n",
              "living_expense_covered      0\n",
              "tuition_fees_to_pay         0\n",
              "original_tuition_fee      123\n",
              "start_month                 0\n",
              "start_year                  0\n",
              "accomodation_to_pay         0\n",
              "accomodation_duration       0\n",
              "expense_to_pay              0\n",
              "expense_duration            0\n",
              "dtype: int64"
            ]
          },
          "execution_count": 29,
          "metadata": {},
          "output_type": "execute_result"
        }
      ],
      "source": [
        "data.isnull().sum()"
      ]
    },
    {
      "cell_type": "code",
      "execution_count": null,
      "metadata": {
        "colab": {
          "base_uri": "https://localhost:8080/",
          "height": 543
        },
        "id": "TQVekkBMP8xT",
        "outputId": "ed5db00f-52da-4065-f00a-fc2b288ab939"
      },
      "outputs": [
        {
          "data": {
            "text/plain": [
              "<matplotlib.axes._subplots.AxesSubplot at 0x7ff519732f10>"
            ]
          },
          "execution_count": 30,
          "metadata": {},
          "output_type": "execute_result"
        },
        {
          "data": {
            "image/png": "[encoded data removed]",
            "text/plain": [
              "<Figure size 1080x504 with 1 Axes>"
            ]
          },
          "metadata": {
            "needs_background": "light"
          },
          "output_type": "display_data"
        }
      ],
      "source": [
        "data.isnull().sum().plot(kind = 'bar', figsize = (15, 7))"
      ]
    },
    {
      "cell_type": "markdown",
      "metadata": {
        "id": "w_LizopbQNMy"
      },
      "source": [
        "CONCLUSION\n",
        "\n",
        "The China Scholarship Prediction dataset contains 3576 observations and 16 columns.\n",
        "\n",
        "The 'Tuition_Covered' and 'Original_Tuition_Fee' columns have 123 null values each.\n",
        "\n",
        "The dataset contains object(7), float64(4), int64(5) types\n",
        "\n",
        "There are no duplicate data."
      ]
    },
    {
      "cell_type": "code",
      "execution_count": null,
      "metadata": {
        "colab": {
          "base_uri": "https://localhost:8080/",
          "height": 391
        },
        "id": "dk-B2tv2QDMV",
        "outputId": "a6d70938-ee80-4618-e0c5-301be29d6dd7"
      },
      "outputs": [
        {
          "data": {
            "image/png": "[encoded data removed]",
            "text/plain": [
              "<Figure size 720x432 with 1 Axes>"
            ]
          },
          "metadata": {
            "needs_background": "light"
          },
          "output_type": "display_data"
        }
      ],
      "source": [
        "#Analysis of the columns with null values\n",
        "#Tuition_Covered Columm\n",
        "\n",
        "fig = plt.figure(figsize = (10,6))\n",
        "data['tuition_covered'].plot(kind='hist', grid = True)\n",
        "plt.title('Histogram of Tuition_Covered', fontsize = 14)\n",
        "plt.show()"
      ]
    },
    {
      "cell_type": "code",
      "execution_count": null,
      "metadata": {
        "colab": {
          "base_uri": "https://localhost:8080/",
          "height": 331
        },
        "id": "ntF9DqTuQdo6",
        "outputId": "e8a762cb-dac7-48f0-cfab-0ee4f3808999"
      },
      "outputs": [
        {
          "data": {
            "image/png": "[encoded data removed]",
            "text/plain": [
              "<Figure size 1008x360 with 1 Axes>"
            ]
          },
          "metadata": {
            "needs_background": "light"
          },
          "output_type": "display_data"
        }
      ],
      "source": [
        "fig = plt.figure(figsize = (14,5))\n",
        "\n",
        "sns.distplot(data[['tuition_covered']], hist = False)\n",
        "plt.show()"
      ]
    },
    {
      "cell_type": "code",
      "execution_count": null,
      "metadata": {
        "colab": {
          "base_uri": "https://localhost:8080/"
        },
        "id": "fZI2yXNsSUV9",
        "outputId": "a36e9f80-71e5-495e-8b71-9fe838d558f0"
      },
      "outputs": [
        {
          "data": {
            "text/plain": [
              "Index(['school_id', 'university', 'major', 'district', 'city', 'level',\n",
              "       'language', 'tuition_covered', 'accomodation_covered',\n",
              "       'living_expense_covered', 'tuition_fees_to_pay', 'original_tuition_fee',\n",
              "       'start_month', 'start_year', 'accomodation_to_pay',\n",
              "       'accomodation_duration', 'expense_to_pay', 'expense_duration'],\n",
              "      dtype='object')"
            ]
          },
          "execution_count": 37,
          "metadata": {},
          "output_type": "execute_result"
        }
      ],
      "source": [
        "data.columns"
      ]
    },
    {
      "cell_type": "code",
      "execution_count": null,
      "metadata": {
        "colab": {
          "base_uri": "https://localhost:8080/",
          "height": 391
        },
        "id": "HICy9v3TSGCB",
        "outputId": "10153461-ca03-4db9-e5d2-3571cd8effdc"
      },
      "outputs": [
        {
          "data": {
            "image/png": "[encoded data removed]",
            "text/plain": [
              "<Figure size 720x432 with 1 Axes>"
            ]
          },
          "metadata": {
            "needs_background": "light"
          },
          "output_type": "display_data"
        }
      ],
      "source": [
        "#Original_Tuition_Fee Columm\n",
        "\n",
        "fig = plt.figure(figsize = (10,6))\n",
        "data['original_tuition_fee'].plot(kind='hist', grid = True)\n",
        "plt.title('Histogram of Original Tuition Fee', fontsize = 14)\n",
        "plt.show()"
      ]
    },
    {
      "cell_type": "code",
      "execution_count": null,
      "metadata": {
        "colab": {
          "base_uri": "https://localhost:8080/",
          "height": 331
        },
        "id": "Wq7vnB_pSfLj",
        "outputId": "de3bbe9a-4b6e-45d7-9e71-5fff69bab6e7"
      },
      "outputs": [
        {
          "data": {
            "image/png": "[encoded data removed]",
            "text/plain": [
              "<Figure size 1008x360 with 1 Axes>"
            ]
          },
          "metadata": {
            "needs_background": "light"
          },
          "output_type": "display_data"
        }
      ],
      "source": [
        "fig = plt.figure(figsize = (14,5))\n",
        "\n",
        "sns.distplot(data[['original_tuition_fee']], hist = False)\n",
        "plt.show()"
      ]
    },
    {
      "cell_type": "code",
      "execution_count": null,
      "metadata": {
        "id": "DmfxGes3SqBh"
      },
      "outputs": [],
      "source": [
        "#Replacing missing values in columns with mean \n",
        "median_1 = data['tuition_covered'].median()\n",
        "median_2 = data['original_tuition_fee'].median()\n",
        "\n",
        "data['tuition_covered'].replace(np.nan, median_1, inplace = True)\n",
        "data['original_tuition_fee'].replace(np.nan, median_2, inplace = True)"
      ]
    },
    {
      "cell_type": "code",
      "execution_count": null,
      "metadata": {
        "colab": {
          "base_uri": "https://localhost:8080/"
        },
        "id": "qkMqX7oWS-tk",
        "outputId": "8ff64137-c49e-4643-9ca3-c64a13217b7c"
      },
      "outputs": [
        {
          "data": {
            "text/plain": [
              "school_id                 0\n",
              "university                0\n",
              "major                     0\n",
              "district                  0\n",
              "city                      0\n",
              "level                     0\n",
              "language                  0\n",
              "tuition_covered           0\n",
              "accomodation_covered      0\n",
              "living_expense_covered    0\n",
              "tuition_fees_to_pay       0\n",
              "original_tuition_fee      0\n",
              "start_month               0\n",
              "start_year                0\n",
              "accomodation_to_pay       0\n",
              "accomodation_duration     0\n",
              "expense_to_pay            0\n",
              "expense_duration          0\n",
              "dtype: int64"
            ]
          },
          "execution_count": 41,
          "metadata": {},
          "output_type": "execute_result"
        }
      ],
      "source": [
        "data.isnull().sum()"
      ]
    },
    {
      "cell_type": "markdown",
      "metadata": {
        "id": "-ubRY5L-Tp0B"
      },
      "source": [
        "The columns with null values were filled with the median "
      ]
    },
    {
      "cell_type": "markdown",
      "metadata": {
        "id": "tqDNR5d6TuXk"
      },
      "source": [
        "## Multicollinearity"
      ]
    },
    {
      "cell_type": "code",
      "execution_count": null,
      "metadata": {
        "colab": {
          "base_uri": "https://localhost:8080/",
          "height": 396
        },
        "id": "ENy2NbbzTFpX",
        "outputId": "45b028e8-07c1-41e2-d44c-ee38123c777c"
      },
      "outputs": [
        {
          "data": {
            "text/html": [
              "\n",
              "  <div id=\"df-0a2a5035-ed26-41f8-bef6-c38212654afd\">\n",
              "    <div class=\"colab-df-container\">\n",
              "      <div>\n",
              "<style scoped>\n",
              "    .dataframe tbody tr th:only-of-type {\n",
              "        vertical-align: middle;\n",
              "    }\n",
              "\n",
              "    .dataframe tbody tr th {\n",
              "        vertical-align: top;\n",
              "    }\n",
              "\n",
              "    .dataframe thead th {\n",
              "        text-align: right;\n",
              "    }\n",
              "</style>\n",
              "<table border=\"1\" class=\"dataframe\">\n",
              "  <thead>\n",
              "    <tr style=\"text-align: right;\">\n",
              "      <th></th>\n",
              "      <th>school_id</th>\n",
              "      <th>tuition_covered</th>\n",
              "      <th>accomodation_covered</th>\n",
              "      <th>living_expense_covered</th>\n",
              "      <th>tuition_fees_to_pay</th>\n",
              "      <th>original_tuition_fee</th>\n",
              "      <th>start_year</th>\n",
              "      <th>accomodation_to_pay</th>\n",
              "      <th>expense_to_pay</th>\n",
              "    </tr>\n",
              "  </thead>\n",
              "  <tbody>\n",
              "    <tr>\n",
              "      <th>school_id</th>\n",
              "      <td>1.000000</td>\n",
              "      <td>0.182617</td>\n",
              "      <td>0.063655</td>\n",
              "      <td>0.301017</td>\n",
              "      <td>0.086314</td>\n",
              "      <td>0.181666</td>\n",
              "      <td>0.091116</td>\n",
              "      <td>-0.192830</td>\n",
              "      <td>-0.232701</td>\n",
              "    </tr>\n",
              "    <tr>\n",
              "      <th>tuition_covered</th>\n",
              "      <td>0.182617</td>\n",
              "      <td>1.000000</td>\n",
              "      <td>0.266681</td>\n",
              "      <td>0.114678</td>\n",
              "      <td>-0.045753</td>\n",
              "      <td>0.781877</td>\n",
              "      <td>0.229983</td>\n",
              "      <td>0.454282</td>\n",
              "      <td>0.097330</td>\n",
              "    </tr>\n",
              "    <tr>\n",
              "      <th>accomodation_covered</th>\n",
              "      <td>0.063655</td>\n",
              "      <td>0.266681</td>\n",
              "      <td>1.000000</td>\n",
              "      <td>0.539758</td>\n",
              "      <td>-0.352404</td>\n",
              "      <td>0.005809</td>\n",
              "      <td>0.339443</td>\n",
              "      <td>-0.127002</td>\n",
              "      <td>-0.313639</td>\n",
              "    </tr>\n",
              "    <tr>\n",
              "      <th>living_expense_covered</th>\n",
              "      <td>0.301017</td>\n",
              "      <td>0.114678</td>\n",
              "      <td>0.539758</td>\n",
              "      <td>1.000000</td>\n",
              "      <td>0.044373</td>\n",
              "      <td>0.083993</td>\n",
              "      <td>0.320642</td>\n",
              "      <td>-0.154476</td>\n",
              "      <td>-0.766834</td>\n",
              "    </tr>\n",
              "    <tr>\n",
              "      <th>tuition_fees_to_pay</th>\n",
              "      <td>0.086314</td>\n",
              "      <td>-0.045753</td>\n",
              "      <td>-0.352404</td>\n",
              "      <td>0.044373</td>\n",
              "      <td>1.000000</td>\n",
              "      <td>0.576242</td>\n",
              "      <td>-0.201086</td>\n",
              "      <td>0.490595</td>\n",
              "      <td>-0.077510</td>\n",
              "    </tr>\n",
              "    <tr>\n",
              "      <th>original_tuition_fee</th>\n",
              "      <td>0.181666</td>\n",
              "      <td>0.781877</td>\n",
              "      <td>0.005809</td>\n",
              "      <td>0.083993</td>\n",
              "      <td>0.576242</td>\n",
              "      <td>1.000000</td>\n",
              "      <td>0.064633</td>\n",
              "      <td>0.682031</td>\n",
              "      <td>0.067911</td>\n",
              "    </tr>\n",
              "    <tr>\n",
              "      <th>start_year</th>\n",
              "      <td>0.091116</td>\n",
              "      <td>0.229983</td>\n",
              "      <td>0.339443</td>\n",
              "      <td>0.320642</td>\n",
              "      <td>-0.201086</td>\n",
              "      <td>0.064633</td>\n",
              "      <td>1.000000</td>\n",
              "      <td>-0.076349</td>\n",
              "      <td>-0.154021</td>\n",
              "    </tr>\n",
              "    <tr>\n",
              "      <th>accomodation_to_pay</th>\n",
              "      <td>-0.192830</td>\n",
              "      <td>0.454282</td>\n",
              "      <td>-0.127002</td>\n",
              "      <td>-0.154476</td>\n",
              "      <td>0.490595</td>\n",
              "      <td>0.682031</td>\n",
              "      <td>-0.076349</td>\n",
              "      <td>1.000000</td>\n",
              "      <td>0.406708</td>\n",
              "    </tr>\n",
              "    <tr>\n",
              "      <th>expense_to_pay</th>\n",
              "      <td>-0.232701</td>\n",
              "      <td>0.097330</td>\n",
              "      <td>-0.313639</td>\n",
              "      <td>-0.766834</td>\n",
              "      <td>-0.077510</td>\n",
              "      <td>0.067911</td>\n",
              "      <td>-0.154021</td>\n",
              "      <td>0.406708</td>\n",
              "      <td>1.000000</td>\n",
              "    </tr>\n",
              "  </tbody>\n",
              "</table>\n",
              "</div>\n",
              "      <button class=\"colab-df-convert\" onclick=\"convertToInteractive('df-0a2a5035-ed26-41f8-bef6-c38212654afd')\"\n",
              "              title=\"Convert this dataframe to an interactive table.\"\n",
              "              style=\"display:none;\">\n",
              "        \n",
              "  <svg xmlns=\"http://www.w3.org/2000/svg\" height=\"24px\"viewBox=\"0 0 24 24\"\n",
              "       width=\"24px\">\n",
              "    <path d=\"M0 0h24v24H0V0z\" fill=\"none\"/>\n",
              "    <path d=\"M18.56 5.44l.94 2.06.94-2.06 2.06-.94-2.06-.94-.94-2.06-.94 2.06-2.06.94zm-11 1L8.5 8.5l.94-2.06 2.06-.94-2.06-.94L8.5 2.5l-.94 2.06-2.06.94zm10 10l.94 2.06.94-2.06 2.06-.94-2.06-.94-.94-2.06-.94 2.06-2.06.94z\"/><path d=\"M17.41 7.96l-1.37-1.37c-.4-.4-.92-.59-1.43-.59-.52 0-1.04.2-1.43.59L10.3 9.45l-7.72 7.72c-.78.78-.78 2.05 0 2.83L4 21.41c.39.39.9.59 1.41.59.51 0 1.02-.2 1.41-.59l7.78-7.78 2.81-2.81c.8-.78.8-2.07 0-2.86zM5.41 20L4 18.59l7.72-7.72 1.47 1.35L5.41 20z\"/>\n",
              "  </svg>\n",
              "      </button>\n",
              "      \n",
              "  <style>\n",
              "    .colab-df-container {\n",
              "      display:flex;\n",
              "      flex-wrap:wrap;\n",
              "      gap: 12px;\n",
              "    }\n",
              "\n",
              "    .colab-df-convert {\n",
              "      background-color: #E8F0FE;\n",
              "      border: none;\n",
              "      border-radius: 50%;\n",
              "      cursor: pointer;\n",
              "      display: none;\n",
              "      fill: #1967D2;\n",
              "      height: 32px;\n",
              "      padding: 0 0 0 0;\n",
              "      width: 32px;\n",
              "    }\n",
              "\n",
              "    .colab-df-convert:hover {\n",
              "      background-color: #E2EBFA;\n",
              "      box-shadow: 0px 1px 2px rgba(60, 64, 67, 0.3), 0px 1px 3px 1px rgba(60, 64, 67, 0.15);\n",
              "      fill: #174EA6;\n",
              "    }\n",
              "\n",
              "    [theme=dark] .colab-df-convert {\n",
              "      background-color: #3B4455;\n",
              "      fill: #D2E3FC;\n",
              "    }\n",
              "\n",
              "    [theme=dark] .colab-df-convert:hover {\n",
              "      background-color: #434B5C;\n",
              "      box-shadow: 0px 1px 3px 1px rgba(0, 0, 0, 0.15);\n",
              "      filter: drop-shadow(0px 1px 2px rgba(0, 0, 0, 0.3));\n",
              "      fill: #FFFFFF;\n",
              "    }\n",
              "  </style>\n",
              "\n",
              "      <script>\n",
              "        const buttonEl =\n",
              "          document.querySelector('#df-0a2a5035-ed26-41f8-bef6-c38212654afd button.colab-df-convert');\n",
              "        buttonEl.style.display =\n",
              "          google.colab.kernel.accessAllowed ? 'block' : 'none';\n",
              "\n",
              "        async function convertToInteractive(key) {\n",
              "          const element = document.querySelector('#df-0a2a5035-ed26-41f8-bef6-c38212654afd');\n",
              "          const dataTable =\n",
              "            await google.colab.kernel.invokeFunction('convertToInteractive',\n",
              "                                                     [key], {});\n",
              "          if (!dataTable) return;\n",
              "\n",
              "          const docLinkHtml = 'Like what you see? Visit the ' +\n",
              "            '<a target=\"_blank\" href=https://colab.research.google.com/notebooks/data_table.ipynb>data table notebook</a>'\n",
              "            + ' to learn more about interactive tables.';\n",
              "          element.innerHTML = '';\n",
              "          dataTable['output_type'] = 'display_data';\n",
              "          await google.colab.output.renderOutput(dataTable, element);\n",
              "          const docLink = document.createElement('div');\n",
              "          docLink.innerHTML = docLinkHtml;\n",
              "          element.appendChild(docLink);\n",
              "        }\n",
              "      </script>\n",
              "    </div>\n",
              "  </div>\n",
              "  "
            ],
            "text/plain": [
              "                        school_id  tuition_covered  accomodation_covered  \\\n",
              "school_id                1.000000         0.182617              0.063655   \n",
              "tuition_covered          0.182617         1.000000              0.266681   \n",
              "accomodation_covered     0.063655         0.266681              1.000000   \n",
              "living_expense_covered   0.301017         0.114678              0.539758   \n",
              "tuition_fees_to_pay      0.086314        -0.045753             -0.352404   \n",
              "original_tuition_fee     0.181666         0.781877              0.005809   \n",
              "start_year               0.091116         0.229983              0.339443   \n",
              "accomodation_to_pay     -0.192830         0.454282             -0.127002   \n",
              "expense_to_pay          -0.232701         0.097330             -0.313639   \n",
              "\n",
              "                        living_expense_covered  tuition_fees_to_pay  \\\n",
              "school_id                             0.301017             0.086314   \n",
              "tuition_covered                       0.114678            -0.045753   \n",
              "accomodation_covered                  0.539758            -0.352404   \n",
              "living_expense_covered                1.000000             0.044373   \n",
              "tuition_fees_to_pay                   0.044373             1.000000   \n",
              "original_tuition_fee                  0.083993             0.576242   \n",
              "start_year                            0.320642            -0.201086   \n",
              "accomodation_to_pay                  -0.154476             0.490595   \n",
              "expense_to_pay                       -0.766834            -0.077510   \n",
              "\n",
              "                        original_tuition_fee  start_year  accomodation_to_pay  \\\n",
              "school_id                           0.181666    0.091116            -0.192830   \n",
              "tuition_covered                     0.781877    0.229983             0.454282   \n",
              "accomodation_covered                0.005809    0.339443            -0.127002   \n",
              "living_expense_covered              0.083993    0.320642            -0.154476   \n",
              "tuition_fees_to_pay                 0.576242   -0.201086             0.490595   \n",
              "original_tuition_fee                1.000000    0.064633             0.682031   \n",
              "start_year                          0.064633    1.000000            -0.076349   \n",
              "accomodation_to_pay                 0.682031   -0.076349             1.000000   \n",
              "expense_to_pay                      0.067911   -0.154021             0.406708   \n",
              "\n",
              "                        expense_to_pay  \n",
              "school_id                    -0.232701  \n",
              "tuition_covered               0.097330  \n",
              "accomodation_covered         -0.313639  \n",
              "living_expense_covered       -0.766834  \n",
              "tuition_fees_to_pay          -0.077510  \n",
              "original_tuition_fee          0.067911  \n",
              "start_year                   -0.154021  \n",
              "accomodation_to_pay           0.406708  \n",
              "expense_to_pay                1.000000  "
            ]
          },
          "execution_count": 42,
          "metadata": {},
          "output_type": "execute_result"
        }
      ],
      "source": [
        "#checking the correlation among the variables\n",
        "corr = data.corr()\n",
        "corr"
      ]
    },
    {
      "cell_type": "code",
      "execution_count": null,
      "metadata": {
        "colab": {
          "base_uri": "https://localhost:8080/",
          "height": 438
        },
        "id": "SO3w2SKST3PS",
        "outputId": "26935a52-d413-4899-bb14-7c755da950e0"
      },
      "outputs": [
        {
          "data": {
            "text/plain": [
              "<matplotlib.axes._subplots.AxesSubplot at 0x7ff518cdad50>"
            ]
          },
          "execution_count": 43,
          "metadata": {},
          "output_type": "execute_result"
        },
        {
          "data": {
            "image/png": "[encoded data removed]",
            "text/plain": [
              "<Figure size 720x360 with 2 Axes>"
            ]
          },
          "metadata": {
            "needs_background": "light"
          },
          "output_type": "display_data"
        }
      ],
      "source": [
        "plt.figure(figsize = (10, 5))\n",
        "sns.heatmap(corr, cmap ='BrBG', annot = True)"
      ]
    },
    {
      "cell_type": "markdown",
      "metadata": {
        "id": "6bJnyFhJUFDs"
      },
      "source": [
        "CONCLUSION\n",
        "\n",
        "Original_Tuition_Fee and Tuition_Covered are highly positively correlated (0.78)\n",
        "\n",
        "Original_Tuition_Fee and Accomodation_To_Pay are highly positively correlated (0.68)\n",
        "\n",
        "Living_Expense_Covered? and Expense_To_Pay are highl negatively correlated (-0.77)"
      ]
    },
    {
      "cell_type": "markdown",
      "metadata": {
        "id": "-VEnD566UKhj"
      },
      "source": [
        "## Univariate Analysis"
      ]
    },
    {
      "cell_type": "code",
      "execution_count": null,
      "metadata": {
        "colab": {
          "base_uri": "https://localhost:8080/"
        },
        "id": "LBiZiLmwUEAb",
        "outputId": "cdcecaa6-f6f1-4952-c2e1-8c3ea0a9e31a"
      },
      "outputs": [
        {
          "data": {
            "text/plain": [
              "Zhejiang Normal University                                                     402\n",
              "North China Electric Power University                                          352\n",
              "Shandong University                                                            240\n",
              "Zhejiang University of Technology                                              222\n",
              "China University of Petroleum - Beijing                                        213\n",
              "Chongqing Medical University                                                   189\n",
              "Shanghai University of Traditional Chinese Medicine                            171\n",
              "South China University of Technology                                           145\n",
              "Zhejiang University of Science and Technology                                  120\n",
              "Zhengzhou University of Light Industry                                         119\n",
              "Northeast Petroleum University                                                 109\n",
              "Zhejiang A & F University                                                      107\n",
              "China University of Mining and Technology                                      103\n",
              "Jiangsu University                                                              88\n",
              "China Pharmaceutical University                                                 81\n",
              "Beijing University of Chemical Technology                                       72\n",
              "Shanghai Normal University                                                      72\n",
              "East China University of Science and Technology                                 67\n",
              "Shanghai Ocean University                                                       66\n",
              "Southwest University of Science and Technology                                  65\n",
              "Ningbo University                                                               64\n",
              "Changchun University of Science and Technology                                  62\n",
              "Changzhou Institute of Technology                                               50\n",
              "Changchun University of Technology                                              46\n",
              "The Sino-British College, University of Shanghai for Science and Technology     46\n",
              "Tianjin Foreign Studies University                                              42\n",
              "University of Science and Technology Beijing                                    36\n",
              "Shenyang University of Chemical Technology                                      35\n",
              "Beijing Foreign Studies University-International Business School                34\n",
              "Baoji University of Arts and Sciences                                           28\n",
              "Dongguan University of Technology                                               23\n",
              "China University of Geosciences (Wuhan)                                         21\n",
              "Jinan University                                                                14\n",
              "Dongbei University of Finance and Economics                                     14\n",
              "Zhengzhou University                                                            13\n",
              "Xi'an International Studies University                                          11\n",
              "Nanjing University of Aeronautics and Astronautics                               5\n",
              "Qingdao University                                                               4\n",
              "Shandong Jianzhu University                                                      4\n",
              "Jilin Normal University                                                          3\n",
              "Shantou University Medical College                                               3\n",
              "Shenyang Normal University                                                       2\n",
              "Beijing Chinese Language and Culture College                                     2\n",
              "Beijing Film Academy                                                             2\n",
              "School of Economics and Management, Tongji University                            1\n",
              "Beijing Language and Culture University                                          1\n",
              "Shandong Polytechnic College                                                     1\n",
              "Nanjing Medical University                                                       1\n",
              "Tongji University                                                                1\n",
              "Wuhan Polytechnic University                                                     1\n",
              "Nanchang University                                                              1\n",
              "Tianjin International Chinese College                                            1\n",
              "Xuzhou Medical University                                                        1\n",
              "Name: university, dtype: int64"
            ]
          },
          "execution_count": 45,
          "metadata": {},
          "output_type": "execute_result"
        }
      ],
      "source": [
        "data['university'].value_counts()"
      ]
    },
    {
      "cell_type": "code",
      "execution_count": null,
      "metadata": {
        "colab": {
          "base_uri": "https://localhost:8080/",
          "height": 772
        },
        "id": "AQPf_IbRT9vh",
        "outputId": "2a339659-ec57-4a0e-fdb6-0eab46a25889"
      },
      "outputs": [
        {
          "data": {
            "image/png": "[encoded data removed]",
            "text/plain": [
              "<Figure size 1080x504 with 1 Axes>"
            ]
          },
          "metadata": {
            "needs_background": "light"
          },
          "output_type": "display_data"
        }
      ],
      "source": [
        "data['university'].value_counts().plot(kind = \"bar\", title = 'University', figsize=(15, 7))\n",
        "plt.xticks(rotation = 90)\n",
        "\n",
        "plt.show()"
      ]
    },
    {
      "cell_type": "code",
      "execution_count": null,
      "metadata": {
        "colab": {
          "base_uri": "https://localhost:8080/"
        },
        "id": "Dzc_QZHUUbgv",
        "outputId": "e974c394-b8aa-4d07-9bc9-2de83c1c826f"
      },
      "outputs": [
        {
          "data": {
            "text/plain": [
              "Computer Science and Technology                      54\n",
              "Mechanical Engineering                               45\n",
              "Business Administration                              37\n",
              "Software Engineering                                 37\n",
              "Chemistry                                            29\n",
              "                                                     ..\n",
              "Diplomacy(Changan Campus)                             1\n",
              "Chinese Language and Literature(Yanta Campus)         1\n",
              "MBBS (Bachelor of Medicine & Bachelor of Surgery)     1\n",
              "MBA（Master of Business Administration）                1\n",
              "Synthesis of Fine Chemical and Molecular              1\n",
              "Name: major, Length: 1249, dtype: int64"
            ]
          },
          "execution_count": 47,
          "metadata": {},
          "output_type": "execute_result"
        }
      ],
      "source": [
        "data['major'].value_counts()"
      ]
    },
    {
      "cell_type": "code",
      "execution_count": null,
      "metadata": {
        "colab": {
          "base_uri": "https://localhost:8080/",
          "height": 261
        },
        "id": "_cLLNKCFUjlz",
        "outputId": "0a49a804-1ee5-4335-9587-86eed90379bb"
      },
      "outputs": [
        {
          "data": {
            "image/png": "[encoded data removed]",
            "text/plain": [
              "<Figure size 864x576 with 2 Axes>"
            ]
          },
          "metadata": {
            "needs_background": "light"
          },
          "output_type": "display_data"
        }
      ],
      "source": [
        "plt.subplot(221)\n",
        "data['major'].value_counts().plot(kind = 'hist', title = 'Major', figsize = (12, 8))\n",
        "plt.subplot(222)\n",
        "data['level'].value_counts().plot(kind = 'bar', title = 'Level')\n",
        "plt.xticks(rotation = 360)\n",
        "\n",
        "plt.show()"
      ]
    },
    {
      "cell_type": "code",
      "execution_count": null,
      "metadata": {
        "colab": {
          "base_uri": "https://localhost:8080/",
          "height": 498
        },
        "id": "_olXIwT2VK8v",
        "outputId": "ac7b22ec-1361-47a7-c5f3-11bc1363e339"
      },
      "outputs": [
        {
          "data": {
            "image/png": "[encoded data removed]",
            "text/plain": [
              "<Figure size 864x576 with 4 Axes>"
            ]
          },
          "metadata": {
            "needs_background": "light"
          },
          "output_type": "display_data"
        }
      ],
      "source": [
        "plt.subplot(221)\n",
        "data['language'].value_counts().plot(kind = 'bar', title = 'Language', figsize=(12, 8))\n",
        "plt.xticks(rotation = 360)\n",
        "plt.subplot(222)\n",
        "data['start_month'].value_counts().plot(kind = 'bar', title = 'Start_Month')\n",
        "plt.xticks(rotation = 360)\n",
        "plt.subplot(223)\n",
        "data['accomodation_duration'].value_counts().plot(kind = 'bar', title = 'Accomodation_Duration')\n",
        "plt.xticks(rotation = 360)\n",
        "plt.subplot(224)\n",
        "data['expense_duration'].value_counts().plot(kind = 'bar', title = 'Expense_Duration')\n",
        "plt.xticks(rotation = 360)\n",
        "\n",
        "plt.show()"
      ]
    },
    {
      "cell_type": "code",
      "execution_count": null,
      "metadata": {
        "colab": {
          "base_uri": "https://localhost:8080/",
          "height": 280
        },
        "id": "QyZ5F9zJUrUh",
        "outputId": "277b9bb1-f36a-4de3-abad-efa43c845f31"
      },
      "outputs": [
        {
          "data": {
            "image/png": "[encoded data removed]",
            "text/plain": [
              "<Figure size 432x288 with 1 Axes>"
            ]
          },
          "metadata": {
            "needs_background": "light"
          },
          "output_type": "display_data"
        }
      ],
      "source": [
        "data['accomodation_covered'].value_counts().plot(kind = 'bar', title = 'Accomodation_Covered?')\n",
        "plt.xticks([0, 1], ['No', 'Yes'], rotation = 360)\n",
        "\n",
        "plt.show()"
      ]
    },
    {
      "cell_type": "code",
      "execution_count": null,
      "metadata": {
        "colab": {
          "base_uri": "https://localhost:8080/",
          "height": 280
        },
        "id": "9UeaW8nNVyFB",
        "outputId": "8e89bcd3-019e-4f1e-8cd9-d5086185e4bb"
      },
      "outputs": [
        {
          "data": {
            "image/png": "[encoded data removed]",
            "text/plain": [
              "<Figure size 432x288 with 1 Axes>"
            ]
          },
          "metadata": {
            "needs_background": "light"
          },
          "output_type": "display_data"
        }
      ],
      "source": [
        "data['living_expense_covered'].value_counts().plot(kind = 'bar', title = 'Living_Expense_Covered?')\n",
        "plt.xticks([0, 1], ['No', 'Yes'], rotation = 360)\n",
        "\n",
        "plt.show()"
      ]
    },
    {
      "cell_type": "markdown",
      "metadata": {
        "id": "S67Z0Pk2XGLg"
      },
      "source": [
        "CONCLUSION\n",
        "\n",
        "Zhejiang Normal University has the highest frequency.\n",
        "\n",
        "Most Universities give scholarships at the Master's level followed by the Bachelor's level.\n",
        "\n",
        "The most common language is Chineese.\n",
        "\n",
        "The start month of the scholarship is usually September while the Accomodation_Duration and Expense_Duration is usually monthly.\n",
        "\n",
        "About 2500 Scholarships do not cover for accomodation(Accomodation_Covered?) and living expense(Living_Expense_Covered?)\n",
        "\n",
        "Computer Science and Technology is the highest major for scholarships.\n"
      ]
    },
    {
      "cell_type": "markdown",
      "metadata": {
        "id": "rJiOwFLuXPJN"
      },
      "source": [
        "## Bivariate Analysis"
      ]
    },
    {
      "cell_type": "code",
      "execution_count": null,
      "metadata": {
        "colab": {
          "base_uri": "https://localhost:8080/",
          "height": 386
        },
        "id": "YS2r8tH4XLSn",
        "outputId": "42627570-2542-4d37-cfbe-c61165cf4337"
      },
      "outputs": [
        {
          "data": {
            "text/plain": [
              "([<matplotlib.axis.XTick at 0x7ff51507c410>,\n",
              "  <matplotlib.axis.XTick at 0x7ff51507cf90>],\n",
              " [Text(0, 0, 'No'), Text(0, 0, 'Yes')])"
            ]
          },
          "execution_count": 55,
          "metadata": {},
          "output_type": "execute_result"
        },
        {
          "data": {
            "image/png": "[encoded data removed]",
            "text/plain": [
              "<Figure size 720x360 with 1 Axes>"
            ]
          },
          "metadata": {
            "needs_background": "light"
          },
          "output_type": "display_data"
        }
      ],
      "source": [
        "plt.figure(figsize=(10,5))\n",
        "sns.barplot(data=data, x= 'accomodation_covered', y = 'accomodation_to_pay') \n",
        "plt.xticks([0,1], ['No', 'Yes'])"
      ]
    },
    {
      "cell_type": "code",
      "execution_count": null,
      "metadata": {
        "colab": {
          "base_uri": "https://localhost:8080/",
          "height": 351
        },
        "id": "UQoRb6ooWvKY",
        "outputId": "4ee3da73-9b50-4774-fc45-4ae0f4cd6957"
      },
      "outputs": [
        {
          "data": {
            "text/plain": [
              "<matplotlib.axes._subplots.AxesSubplot at 0x7ff515162bd0>"
            ]
          },
          "execution_count": 56,
          "metadata": {},
          "output_type": "execute_result"
        },
        {
          "data": {
            "image/png": "[encoded data removed]",
            "text/plain": [
              "<Figure size 720x360 with 1 Axes>"
            ]
          },
          "metadata": {
            "needs_background": "light"
          },
          "output_type": "display_data"
        }
      ],
      "source": [
        "plt.figure(figsize=(10,5))\n",
        "sns.scatterplot(data=data, x= 'original_tuition_fee', y = 'tuition_covered')"
      ]
    },
    {
      "cell_type": "code",
      "execution_count": null,
      "metadata": {
        "colab": {
          "base_uri": "https://localhost:8080/",
          "height": 386
        },
        "id": "F-tWQKxQXjHd",
        "outputId": "6d19e361-74ff-4071-8985-376a505259fb"
      },
      "outputs": [
        {
          "data": {
            "text/plain": [
              "([<matplotlib.axis.XTick at 0x7ff518d60b10>,\n",
              "  <matplotlib.axis.XTick at 0x7ff518d601d0>],\n",
              " [Text(0, 0, 'No'), Text(0, 0, 'Yes')])"
            ]
          },
          "execution_count": 57,
          "metadata": {},
          "output_type": "execute_result"
        },
        {
          "data": {
            "image/png": "[encoded data removed]",
            "text/plain": [
              "<Figure size 720x360 with 1 Axes>"
            ]
          },
          "metadata": {
            "needs_background": "light"
          },
          "output_type": "display_data"
        }
      ],
      "source": [
        "plt.figure(figsize=(10,5))\n",
        "sns.barplot(data =data, x = 'living_expense_covered', y ='expense_to_pay')\n",
        "plt.xticks([0,1], ['No', 'Yes'])"
      ]
    },
    {
      "cell_type": "markdown",
      "metadata": {
        "id": "zd5BuBydYN4B"
      },
      "source": [
        "CONCLUSION\n",
        "\n",
        "The Tuition_Covered increases as the Original_Tuition_Fee increases.\n",
        "\n",
        "Most Scholarships do not cover the Expense_To_Pay.\n",
        "\n",
        "Most scholarships do no cover the Accomodation_To_Pay."
      ]
    },
    {
      "cell_type": "code",
      "execution_count": null,
      "metadata": {
        "colab": {
          "base_uri": "https://localhost:8080/",
          "height": 459
        },
        "id": "bWqtoJ2aYJMT",
        "outputId": "7530f1e5-c623-4059-f480-a9de516f9c59"
      },
      "outputs": [
        {
          "data": {
            "text/plain": [
              "<matplotlib.axes._subplots.AxesSubplot at 0x7ff518dc8150>"
            ]
          },
          "execution_count": 58,
          "metadata": {},
          "output_type": "execute_result"
        },
        {
          "data": {
            "image/png": "[encoded data removed]",
            "text/plain": [
              "<Figure size 864x504 with 1 Axes>"
            ]
          },
          "metadata": {
            "needs_background": "light"
          },
          "output_type": "display_data"
        }
      ],
      "source": [
        "plt.figure(figsize=(12,7))\n",
        "sns.scatterplot(data=data, x= 'original_tuition_fee', y = 'tuition_covered', hue = 'tuition_fees_to_pay')"
      ]
    },
    {
      "cell_type": "markdown",
      "metadata": {
        "id": "0vIzSqxtYe2k"
      },
      "source": [
        "CONCLUSION\n",
        "\n",
        "Tuition_Fees_To_Pay increases as Original_Tuition_Fee and Tuition_Covered increases."
      ]
    },
    {
      "cell_type": "markdown",
      "metadata": {
        "id": "c2RK1N9TaEr0"
      },
      "source": [
        "# Data Preprocessing"
      ]
    },
    {
      "cell_type": "code",
      "execution_count": null,
      "metadata": {
        "colab": {
          "base_uri": "https://localhost:8080/",
          "height": 206
        },
        "id": "Ndc7ro_7aEED",
        "outputId": "76eee3ed-aace-4fa5-bfc9-b8c9d6bdf89c"
      },
      "outputs": [
        {
          "data": {
            "text/html": [
              "\n",
              "  <div id=\"df-3e59a655-01fc-4a0a-b6ea-c4f3db78ed5f\">\n",
              "    <div class=\"colab-df-container\">\n",
              "      <div>\n",
              "<style scoped>\n",
              "    .dataframe tbody tr th:only-of-type {\n",
              "        vertical-align: middle;\n",
              "    }\n",
              "\n",
              "    .dataframe tbody tr th {\n",
              "        vertical-align: top;\n",
              "    }\n",
              "\n",
              "    .dataframe thead th {\n",
              "        text-align: right;\n",
              "    }\n",
              "</style>\n",
              "<table border=\"1\" class=\"dataframe\">\n",
              "  <thead>\n",
              "    <tr style=\"text-align: right;\">\n",
              "      <th></th>\n",
              "      <th>count</th>\n",
              "      <th>mean</th>\n",
              "      <th>std</th>\n",
              "      <th>min</th>\n",
              "      <th>25%</th>\n",
              "      <th>50%</th>\n",
              "      <th>75%</th>\n",
              "      <th>max</th>\n",
              "    </tr>\n",
              "  </thead>\n",
              "  <tbody>\n",
              "    <tr>\n",
              "      <th>tuition_covered</th>\n",
              "      <td>3576.0</td>\n",
              "      <td>20513.415828</td>\n",
              "      <td>12212.839635</td>\n",
              "      <td>0.0</td>\n",
              "      <td>12000.0</td>\n",
              "      <td>20000.0</td>\n",
              "      <td>26500.0</td>\n",
              "      <td>80000.0</td>\n",
              "    </tr>\n",
              "    <tr>\n",
              "      <th>tuition_fees_to_pay</th>\n",
              "      <td>3576.0</td>\n",
              "      <td>8433.516499</td>\n",
              "      <td>9519.340675</td>\n",
              "      <td>0.0</td>\n",
              "      <td>0.0</td>\n",
              "      <td>6000.0</td>\n",
              "      <td>11000.0</td>\n",
              "      <td>69000.0</td>\n",
              "    </tr>\n",
              "    <tr>\n",
              "      <th>original_tuition_fee</th>\n",
              "      <td>3576.0</td>\n",
              "      <td>28618.492729</td>\n",
              "      <td>15080.527382</td>\n",
              "      <td>0.0</td>\n",
              "      <td>20000.0</td>\n",
              "      <td>26500.0</td>\n",
              "      <td>33750.0</td>\n",
              "      <td>148000.0</td>\n",
              "    </tr>\n",
              "    <tr>\n",
              "      <th>accomodation_to_pay</th>\n",
              "      <td>3576.0</td>\n",
              "      <td>1376.461969</td>\n",
              "      <td>2802.526970</td>\n",
              "      <td>0.0</td>\n",
              "      <td>400.0</td>\n",
              "      <td>900.0</td>\n",
              "      <td>1200.0</td>\n",
              "      <td>24000.0</td>\n",
              "    </tr>\n",
              "    <tr>\n",
              "      <th>expense_to_pay</th>\n",
              "      <td>3576.0</td>\n",
              "      <td>1070.987136</td>\n",
              "      <td>601.297528</td>\n",
              "      <td>0.0</td>\n",
              "      <td>1000.0</td>\n",
              "      <td>1000.0</td>\n",
              "      <td>1500.0</td>\n",
              "      <td>2700.0</td>\n",
              "    </tr>\n",
              "  </tbody>\n",
              "</table>\n",
              "</div>\n",
              "      <button class=\"colab-df-convert\" onclick=\"convertToInteractive('df-3e59a655-01fc-4a0a-b6ea-c4f3db78ed5f')\"\n",
              "              title=\"Convert this dataframe to an interactive table.\"\n",
              "              style=\"display:none;\">\n",
              "        \n",
              "  <svg xmlns=\"http://www.w3.org/2000/svg\" height=\"24px\"viewBox=\"0 0 24 24\"\n",
              "       width=\"24px\">\n",
              "    <path d=\"M0 0h24v24H0V0z\" fill=\"none\"/>\n",
              "    <path d=\"M18.56 5.44l.94 2.06.94-2.06 2.06-.94-2.06-.94-.94-2.06-.94 2.06-2.06.94zm-11 1L8.5 8.5l.94-2.06 2.06-.94-2.06-.94L8.5 2.5l-.94 2.06-2.06.94zm10 10l.94 2.06.94-2.06 2.06-.94-2.06-.94-.94-2.06-.94 2.06-2.06.94z\"/><path d=\"M17.41 7.96l-1.37-1.37c-.4-.4-.92-.59-1.43-.59-.52 0-1.04.2-1.43.59L10.3 9.45l-7.72 7.72c-.78.78-.78 2.05 0 2.83L4 21.41c.39.39.9.59 1.41.59.51 0 1.02-.2 1.41-.59l7.78-7.78 2.81-2.81c.8-.78.8-2.07 0-2.86zM5.41 20L4 18.59l7.72-7.72 1.47 1.35L5.41 20z\"/>\n",
              "  </svg>\n",
              "      </button>\n",
              "      \n",
              "  <style>\n",
              "    .colab-df-container {\n",
              "      display:flex;\n",
              "      flex-wrap:wrap;\n",
              "      gap: 12px;\n",
              "    }\n",
              "\n",
              "    .colab-df-convert {\n",
              "      background-color: #E8F0FE;\n",
              "      border: none;\n",
              "      border-radius: 50%;\n",
              "      cursor: pointer;\n",
              "      display: none;\n",
              "      fill: #1967D2;\n",
              "      height: 32px;\n",
              "      padding: 0 0 0 0;\n",
              "      width: 32px;\n",
              "    }\n",
              "\n",
              "    .colab-df-convert:hover {\n",
              "      background-color: #E2EBFA;\n",
              "      box-shadow: 0px 1px 2px rgba(60, 64, 67, 0.3), 0px 1px 3px 1px rgba(60, 64, 67, 0.15);\n",
              "      fill: #174EA6;\n",
              "    }\n",
              "\n",
              "    [theme=dark] .colab-df-convert {\n",
              "      background-color: #3B4455;\n",
              "      fill: #D2E3FC;\n",
              "    }\n",
              "\n",
              "    [theme=dark] .colab-df-convert:hover {\n",
              "      background-color: #434B5C;\n",
              "      box-shadow: 0px 1px 3px 1px rgba(0, 0, 0, 0.15);\n",
              "      filter: drop-shadow(0px 1px 2px rgba(0, 0, 0, 0.3));\n",
              "      fill: #FFFFFF;\n",
              "    }\n",
              "  </style>\n",
              "\n",
              "      <script>\n",
              "        const buttonEl =\n",
              "          document.querySelector('#df-3e59a655-01fc-4a0a-b6ea-c4f3db78ed5f button.colab-df-convert');\n",
              "        buttonEl.style.display =\n",
              "          google.colab.kernel.accessAllowed ? 'block' : 'none';\n",
              "\n",
              "        async function convertToInteractive(key) {\n",
              "          const element = document.querySelector('#df-3e59a655-01fc-4a0a-b6ea-c4f3db78ed5f');\n",
              "          const dataTable =\n",
              "            await google.colab.kernel.invokeFunction('convertToInteractive',\n",
              "                                                     [key], {});\n",
              "          if (!dataTable) return;\n",
              "\n",
              "          const docLinkHtml = 'Like what you see? Visit the ' +\n",
              "            '<a target=\"_blank\" href=https://colab.research.google.com/notebooks/data_table.ipynb>data table notebook</a>'\n",
              "            + ' to learn more about interactive tables.';\n",
              "          element.innerHTML = '';\n",
              "          dataTable['output_type'] = 'display_data';\n",
              "          await google.colab.output.renderOutput(dataTable, element);\n",
              "          const docLink = document.createElement('div');\n",
              "          docLink.innerHTML = docLinkHtml;\n",
              "          element.appendChild(docLink);\n",
              "        }\n",
              "      </script>\n",
              "    </div>\n",
              "  </div>\n",
              "  "
            ],
            "text/plain": [
              "                       count          mean           std  min      25%  \\\n",
              "tuition_covered       3576.0  20513.415828  12212.839635  0.0  12000.0   \n",
              "tuition_fees_to_pay   3576.0   8433.516499   9519.340675  0.0      0.0   \n",
              "original_tuition_fee  3576.0  28618.492729  15080.527382  0.0  20000.0   \n",
              "accomodation_to_pay   3576.0   1376.461969   2802.526970  0.0    400.0   \n",
              "expense_to_pay        3576.0   1070.987136    601.297528  0.0   1000.0   \n",
              "\n",
              "                          50%      75%       max  \n",
              "tuition_covered       20000.0  26500.0   80000.0  \n",
              "tuition_fees_to_pay    6000.0  11000.0   69000.0  \n",
              "original_tuition_fee  26500.0  33750.0  148000.0  \n",
              "accomodation_to_pay     900.0   1200.0   24000.0  \n",
              "expense_to_pay         1000.0   1500.0    2700.0  "
            ]
          },
          "execution_count": 59,
          "metadata": {},
          "output_type": "execute_result"
        }
      ],
      "source": [
        "# Let us view the descriptive statistics of the dataframe. Note that this can only be applied to numerical values \n",
        "data[['tuition_covered', 'tuition_fees_to_pay', 'original_tuition_fee', 'accomodation_to_pay', 'expense_to_pay']].describe().T"
      ]
    },
    {
      "cell_type": "code",
      "execution_count": null,
      "metadata": {
        "colab": {
          "base_uri": "https://localhost:8080/",
          "height": 424
        },
        "id": "U7UB-kv6YZwS",
        "outputId": "b6edd0f1-2120-47af-f7bf-35435dcc3e73"
      },
      "outputs": [
        {
          "data": {
            "text/html": [
              "\n",
              "  <div id=\"df-a8f99348-8d54-4693-b708-6cc19c3d60a4\">\n",
              "    <div class=\"colab-df-container\">\n",
              "      <div>\n",
              "<style scoped>\n",
              "    .dataframe tbody tr th:only-of-type {\n",
              "        vertical-align: middle;\n",
              "    }\n",
              "\n",
              "    .dataframe tbody tr th {\n",
              "        vertical-align: top;\n",
              "    }\n",
              "\n",
              "    .dataframe thead th {\n",
              "        text-align: right;\n",
              "    }\n",
              "</style>\n",
              "<table border=\"1\" class=\"dataframe\">\n",
              "  <thead>\n",
              "    <tr style=\"text-align: right;\">\n",
              "      <th></th>\n",
              "      <th>original_tuition_fee</th>\n",
              "      <th>tuition_covered</th>\n",
              "      <th>tuition_fees_to_pay</th>\n",
              "      <th>check</th>\n",
              "    </tr>\n",
              "  </thead>\n",
              "  <tbody>\n",
              "    <tr>\n",
              "      <th>0</th>\n",
              "      <td>7500.0</td>\n",
              "      <td>7500.0</td>\n",
              "      <td>0</td>\n",
              "      <td>0.0</td>\n",
              "    </tr>\n",
              "    <tr>\n",
              "      <th>1</th>\n",
              "      <td>20000.0</td>\n",
              "      <td>10000.0</td>\n",
              "      <td>10000</td>\n",
              "      <td>10000.0</td>\n",
              "    </tr>\n",
              "    <tr>\n",
              "      <th>2</th>\n",
              "      <td>20000.0</td>\n",
              "      <td>10000.0</td>\n",
              "      <td>10000</td>\n",
              "      <td>10000.0</td>\n",
              "    </tr>\n",
              "    <tr>\n",
              "      <th>3</th>\n",
              "      <td>20000.0</td>\n",
              "      <td>10000.0</td>\n",
              "      <td>10000</td>\n",
              "      <td>10000.0</td>\n",
              "    </tr>\n",
              "    <tr>\n",
              "      <th>4</th>\n",
              "      <td>7000.0</td>\n",
              "      <td>7000.0</td>\n",
              "      <td>0</td>\n",
              "      <td>0.0</td>\n",
              "    </tr>\n",
              "    <tr>\n",
              "      <th>...</th>\n",
              "      <td>...</td>\n",
              "      <td>...</td>\n",
              "      <td>...</td>\n",
              "      <td>...</td>\n",
              "    </tr>\n",
              "    <tr>\n",
              "      <th>3571</th>\n",
              "      <td>38950.0</td>\n",
              "      <td>38950.0</td>\n",
              "      <td>0</td>\n",
              "      <td>0.0</td>\n",
              "    </tr>\n",
              "    <tr>\n",
              "      <th>3572</th>\n",
              "      <td>38950.0</td>\n",
              "      <td>38950.0</td>\n",
              "      <td>0</td>\n",
              "      <td>0.0</td>\n",
              "    </tr>\n",
              "    <tr>\n",
              "      <th>3573</th>\n",
              "      <td>38950.0</td>\n",
              "      <td>38950.0</td>\n",
              "      <td>0</td>\n",
              "      <td>0.0</td>\n",
              "    </tr>\n",
              "    <tr>\n",
              "      <th>3574</th>\n",
              "      <td>38950.0</td>\n",
              "      <td>38950.0</td>\n",
              "      <td>0</td>\n",
              "      <td>0.0</td>\n",
              "    </tr>\n",
              "    <tr>\n",
              "      <th>3575</th>\n",
              "      <td>38950.0</td>\n",
              "      <td>38950.0</td>\n",
              "      <td>0</td>\n",
              "      <td>0.0</td>\n",
              "    </tr>\n",
              "  </tbody>\n",
              "</table>\n",
              "<p>3576 rows × 4 columns</p>\n",
              "</div>\n",
              "      <button class=\"colab-df-convert\" onclick=\"convertToInteractive('df-a8f99348-8d54-4693-b708-6cc19c3d60a4')\"\n",
              "              title=\"Convert this dataframe to an interactive table.\"\n",
              "              style=\"display:none;\">\n",
              "        \n",
              "  <svg xmlns=\"http://www.w3.org/2000/svg\" height=\"24px\"viewBox=\"0 0 24 24\"\n",
              "       width=\"24px\">\n",
              "    <path d=\"M0 0h24v24H0V0z\" fill=\"none\"/>\n",
              "    <path d=\"M18.56 5.44l.94 2.06.94-2.06 2.06-.94-2.06-.94-.94-2.06-.94 2.06-2.06.94zm-11 1L8.5 8.5l.94-2.06 2.06-.94-2.06-.94L8.5 2.5l-.94 2.06-2.06.94zm10 10l.94 2.06.94-2.06 2.06-.94-2.06-.94-.94-2.06-.94 2.06-2.06.94z\"/><path d=\"M17.41 7.96l-1.37-1.37c-.4-.4-.92-.59-1.43-.59-.52 0-1.04.2-1.43.59L10.3 9.45l-7.72 7.72c-.78.78-.78 2.05 0 2.83L4 21.41c.39.39.9.59 1.41.59.51 0 1.02-.2 1.41-.59l7.78-7.78 2.81-2.81c.8-.78.8-2.07 0-2.86zM5.41 20L4 18.59l7.72-7.72 1.47 1.35L5.41 20z\"/>\n",
              "  </svg>\n",
              "      </button>\n",
              "      \n",
              "  <style>\n",
              "    .colab-df-container {\n",
              "      display:flex;\n",
              "      flex-wrap:wrap;\n",
              "      gap: 12px;\n",
              "    }\n",
              "\n",
              "    .colab-df-convert {\n",
              "      background-color: #E8F0FE;\n",
              "      border: none;\n",
              "      border-radius: 50%;\n",
              "      cursor: pointer;\n",
              "      display: none;\n",
              "      fill: #1967D2;\n",
              "      height: 32px;\n",
              "      padding: 0 0 0 0;\n",
              "      width: 32px;\n",
              "    }\n",
              "\n",
              "    .colab-df-convert:hover {\n",
              "      background-color: #E2EBFA;\n",
              "      box-shadow: 0px 1px 2px rgba(60, 64, 67, 0.3), 0px 1px 3px 1px rgba(60, 64, 67, 0.15);\n",
              "      fill: #174EA6;\n",
              "    }\n",
              "\n",
              "    [theme=dark] .colab-df-convert {\n",
              "      background-color: #3B4455;\n",
              "      fill: #D2E3FC;\n",
              "    }\n",
              "\n",
              "    [theme=dark] .colab-df-convert:hover {\n",
              "      background-color: #434B5C;\n",
              "      box-shadow: 0px 1px 3px 1px rgba(0, 0, 0, 0.15);\n",
              "      filter: drop-shadow(0px 1px 2px rgba(0, 0, 0, 0.3));\n",
              "      fill: #FFFFFF;\n",
              "    }\n",
              "  </style>\n",
              "\n",
              "      <script>\n",
              "        const buttonEl =\n",
              "          document.querySelector('#df-a8f99348-8d54-4693-b708-6cc19c3d60a4 button.colab-df-convert');\n",
              "        buttonEl.style.display =\n",
              "          google.colab.kernel.accessAllowed ? 'block' : 'none';\n",
              "\n",
              "        async function convertToInteractive(key) {\n",
              "          const element = document.querySelector('#df-a8f99348-8d54-4693-b708-6cc19c3d60a4');\n",
              "          const dataTable =\n",
              "            await google.colab.kernel.invokeFunction('convertToInteractive',\n",
              "                                                     [key], {});\n",
              "          if (!dataTable) return;\n",
              "\n",
              "          const docLinkHtml = 'Like what you see? Visit the ' +\n",
              "            '<a target=\"_blank\" href=https://colab.research.google.com/notebooks/data_table.ipynb>data table notebook</a>'\n",
              "            + ' to learn more about interactive tables.';\n",
              "          element.innerHTML = '';\n",
              "          dataTable['output_type'] = 'display_data';\n",
              "          await google.colab.output.renderOutput(dataTable, element);\n",
              "          const docLink = document.createElement('div');\n",
              "          docLink.innerHTML = docLinkHtml;\n",
              "          element.appendChild(docLink);\n",
              "        }\n",
              "      </script>\n",
              "    </div>\n",
              "  </div>\n",
              "  "
            ],
            "text/plain": [
              "      original_tuition_fee  tuition_covered  tuition_fees_to_pay    check\n",
              "0                   7500.0           7500.0                    0      0.0\n",
              "1                  20000.0          10000.0                10000  10000.0\n",
              "2                  20000.0          10000.0                10000  10000.0\n",
              "3                  20000.0          10000.0                10000  10000.0\n",
              "4                   7000.0           7000.0                    0      0.0\n",
              "...                    ...              ...                  ...      ...\n",
              "3571               38950.0          38950.0                    0      0.0\n",
              "3572               38950.0          38950.0                    0      0.0\n",
              "3573               38950.0          38950.0                    0      0.0\n",
              "3574               38950.0          38950.0                    0      0.0\n",
              "3575               38950.0          38950.0                    0      0.0\n",
              "\n",
              "[3576 rows x 4 columns]"
            ]
          },
          "execution_count": 60,
          "metadata": {},
          "output_type": "execute_result"
        }
      ],
      "source": [
        "temp = data[['original_tuition_fee', 'tuition_covered', 'tuition_fees_to_pay']]\n",
        "temp[\"check\"] = data['original_tuition_fee'] - data['tuition_covered']\n",
        "temp"
      ]
    },
    {
      "cell_type": "code",
      "execution_count": null,
      "metadata": {
        "colab": {
          "base_uri": "https://localhost:8080/"
        },
        "id": "3q4Tms2uaW07",
        "outputId": "9613e715-8030-43d7-c30e-086ed670201c"
      },
      "outputs": [
        {
          "name": "stdout",
          "output_type": "stream",
          "text": [
            "123\n"
          ]
        }
      ],
      "source": [
        "print((temp['tuition_fees_to_pay'] != temp['check']).sum())"
      ]
    },
    {
      "cell_type": "code",
      "execution_count": null,
      "metadata": {
        "colab": {
          "base_uri": "https://localhost:8080/",
          "height": 424
        },
        "id": "nD9ywGJ9afAB",
        "outputId": "23b56477-e04a-43a2-c8c1-17218171c3ec"
      },
      "outputs": [
        {
          "data": {
            "text/html": [
              "\n",
              "  <div id=\"df-19417b66-b499-4ebb-859e-8742f6d65218\">\n",
              "    <div class=\"colab-df-container\">\n",
              "      <div>\n",
              "<style scoped>\n",
              "    .dataframe tbody tr th:only-of-type {\n",
              "        vertical-align: middle;\n",
              "    }\n",
              "\n",
              "    .dataframe tbody tr th {\n",
              "        vertical-align: top;\n",
              "    }\n",
              "\n",
              "    .dataframe thead th {\n",
              "        text-align: right;\n",
              "    }\n",
              "</style>\n",
              "<table border=\"1\" class=\"dataframe\">\n",
              "  <thead>\n",
              "    <tr style=\"text-align: right;\">\n",
              "      <th></th>\n",
              "      <th>original_tuition_fee</th>\n",
              "      <th>tuition_covered</th>\n",
              "      <th>tuition_fees_to_pay</th>\n",
              "      <th>check</th>\n",
              "    </tr>\n",
              "  </thead>\n",
              "  <tbody>\n",
              "    <tr>\n",
              "      <th>883</th>\n",
              "      <td>26500.0</td>\n",
              "      <td>20000.0</td>\n",
              "      <td>15000</td>\n",
              "      <td>6500.0</td>\n",
              "    </tr>\n",
              "    <tr>\n",
              "      <th>1029</th>\n",
              "      <td>26500.0</td>\n",
              "      <td>20000.0</td>\n",
              "      <td>15000</td>\n",
              "      <td>6500.0</td>\n",
              "    </tr>\n",
              "    <tr>\n",
              "      <th>2395</th>\n",
              "      <td>26500.0</td>\n",
              "      <td>20000.0</td>\n",
              "      <td>16200</td>\n",
              "      <td>6500.0</td>\n",
              "    </tr>\n",
              "    <tr>\n",
              "      <th>2396</th>\n",
              "      <td>26500.0</td>\n",
              "      <td>20000.0</td>\n",
              "      <td>16200</td>\n",
              "      <td>6500.0</td>\n",
              "    </tr>\n",
              "    <tr>\n",
              "      <th>2397</th>\n",
              "      <td>26500.0</td>\n",
              "      <td>20000.0</td>\n",
              "      <td>16200</td>\n",
              "      <td>6500.0</td>\n",
              "    </tr>\n",
              "    <tr>\n",
              "      <th>...</th>\n",
              "      <td>...</td>\n",
              "      <td>...</td>\n",
              "      <td>...</td>\n",
              "      <td>...</td>\n",
              "    </tr>\n",
              "    <tr>\n",
              "      <th>3260</th>\n",
              "      <td>26500.0</td>\n",
              "      <td>20000.0</td>\n",
              "      <td>16200</td>\n",
              "      <td>6500.0</td>\n",
              "    </tr>\n",
              "    <tr>\n",
              "      <th>3261</th>\n",
              "      <td>26500.0</td>\n",
              "      <td>20000.0</td>\n",
              "      <td>16200</td>\n",
              "      <td>6500.0</td>\n",
              "    </tr>\n",
              "    <tr>\n",
              "      <th>3262</th>\n",
              "      <td>26500.0</td>\n",
              "      <td>20000.0</td>\n",
              "      <td>0</td>\n",
              "      <td>6500.0</td>\n",
              "    </tr>\n",
              "    <tr>\n",
              "      <th>3320</th>\n",
              "      <td>26500.0</td>\n",
              "      <td>20000.0</td>\n",
              "      <td>16200</td>\n",
              "      <td>6500.0</td>\n",
              "    </tr>\n",
              "    <tr>\n",
              "      <th>3321</th>\n",
              "      <td>26500.0</td>\n",
              "      <td>20000.0</td>\n",
              "      <td>16200</td>\n",
              "      <td>6500.0</td>\n",
              "    </tr>\n",
              "  </tbody>\n",
              "</table>\n",
              "<p>123 rows × 4 columns</p>\n",
              "</div>\n",
              "      <button class=\"colab-df-convert\" onclick=\"convertToInteractive('df-19417b66-b499-4ebb-859e-8742f6d65218')\"\n",
              "              title=\"Convert this dataframe to an interactive table.\"\n",
              "              style=\"display:none;\">\n",
              "        \n",
              "  <svg xmlns=\"http://www.w3.org/2000/svg\" height=\"24px\"viewBox=\"0 0 24 24\"\n",
              "       width=\"24px\">\n",
              "    <path d=\"M0 0h24v24H0V0z\" fill=\"none\"/>\n",
              "    <path d=\"M18.56 5.44l.94 2.06.94-2.06 2.06-.94-2.06-.94-.94-2.06-.94 2.06-2.06.94zm-11 1L8.5 8.5l.94-2.06 2.06-.94-2.06-.94L8.5 2.5l-.94 2.06-2.06.94zm10 10l.94 2.06.94-2.06 2.06-.94-2.06-.94-.94-2.06-.94 2.06-2.06.94z\"/><path d=\"M17.41 7.96l-1.37-1.37c-.4-.4-.92-.59-1.43-.59-.52 0-1.04.2-1.43.59L10.3 9.45l-7.72 7.72c-.78.78-.78 2.05 0 2.83L4 21.41c.39.39.9.59 1.41.59.51 0 1.02-.2 1.41-.59l7.78-7.78 2.81-2.81c.8-.78.8-2.07 0-2.86zM5.41 20L4 18.59l7.72-7.72 1.47 1.35L5.41 20z\"/>\n",
              "  </svg>\n",
              "      </button>\n",
              "      \n",
              "  <style>\n",
              "    .colab-df-container {\n",
              "      display:flex;\n",
              "      flex-wrap:wrap;\n",
              "      gap: 12px;\n",
              "    }\n",
              "\n",
              "    .colab-df-convert {\n",
              "      background-color: #E8F0FE;\n",
              "      border: none;\n",
              "      border-radius: 50%;\n",
              "      cursor: pointer;\n",
              "      display: none;\n",
              "      fill: #1967D2;\n",
              "      height: 32px;\n",
              "      padding: 0 0 0 0;\n",
              "      width: 32px;\n",
              "    }\n",
              "\n",
              "    .colab-df-convert:hover {\n",
              "      background-color: #E2EBFA;\n",
              "      box-shadow: 0px 1px 2px rgba(60, 64, 67, 0.3), 0px 1px 3px 1px rgba(60, 64, 67, 0.15);\n",
              "      fill: #174EA6;\n",
              "    }\n",
              "\n",
              "    [theme=dark] .colab-df-convert {\n",
              "      background-color: #3B4455;\n",
              "      fill: #D2E3FC;\n",
              "    }\n",
              "\n",
              "    [theme=dark] .colab-df-convert:hover {\n",
              "      background-color: #434B5C;\n",
              "      box-shadow: 0px 1px 3px 1px rgba(0, 0, 0, 0.15);\n",
              "      filter: drop-shadow(0px 1px 2px rgba(0, 0, 0, 0.3));\n",
              "      fill: #FFFFFF;\n",
              "    }\n",
              "  </style>\n",
              "\n",
              "      <script>\n",
              "        const buttonEl =\n",
              "          document.querySelector('#df-19417b66-b499-4ebb-859e-8742f6d65218 button.colab-df-convert');\n",
              "        buttonEl.style.display =\n",
              "          google.colab.kernel.accessAllowed ? 'block' : 'none';\n",
              "\n",
              "        async function convertToInteractive(key) {\n",
              "          const element = document.querySelector('#df-19417b66-b499-4ebb-859e-8742f6d65218');\n",
              "          const dataTable =\n",
              "            await google.colab.kernel.invokeFunction('convertToInteractive',\n",
              "                                                     [key], {});\n",
              "          if (!dataTable) return;\n",
              "\n",
              "          const docLinkHtml = 'Like what you see? Visit the ' +\n",
              "            '<a target=\"_blank\" href=https://colab.research.google.com/notebooks/data_table.ipynb>data table notebook</a>'\n",
              "            + ' to learn more about interactive tables.';\n",
              "          element.innerHTML = '';\n",
              "          dataTable['output_type'] = 'display_data';\n",
              "          await google.colab.output.renderOutput(dataTable, element);\n",
              "          const docLink = document.createElement('div');\n",
              "          docLink.innerHTML = docLinkHtml;\n",
              "          element.appendChild(docLink);\n",
              "        }\n",
              "      </script>\n",
              "    </div>\n",
              "  </div>\n",
              "  "
            ],
            "text/plain": [
              "      original_tuition_fee  tuition_covered  tuition_fees_to_pay   check\n",
              "883                26500.0          20000.0                15000  6500.0\n",
              "1029               26500.0          20000.0                15000  6500.0\n",
              "2395               26500.0          20000.0                16200  6500.0\n",
              "2396               26500.0          20000.0                16200  6500.0\n",
              "2397               26500.0          20000.0                16200  6500.0\n",
              "...                    ...              ...                  ...     ...\n",
              "3260               26500.0          20000.0                16200  6500.0\n",
              "3261               26500.0          20000.0                16200  6500.0\n",
              "3262               26500.0          20000.0                    0  6500.0\n",
              "3320               26500.0          20000.0                16200  6500.0\n",
              "3321               26500.0          20000.0                16200  6500.0\n",
              "\n",
              "[123 rows x 4 columns]"
            ]
          },
          "execution_count": 62,
          "metadata": {},
          "output_type": "execute_result"
        }
      ],
      "source": [
        "temp[temp['tuition_fees_to_pay'] != temp['check']]"
      ]
    },
    {
      "cell_type": "markdown",
      "metadata": {
        "id": "bnSSXNHvaj91"
      },
      "source": [
        "### Tuition to pay\n",
        "There are only 123 instances where the difference between orignal tuition and tuition covered is not equal to tuition to pay. <br> and this number 123 corresponds to the number of missing values  for both tuition covered and original tuition. <br>\n",
        "Based on the above, tuition to pay is not a good target for prediction."
      ]
    },
    {
      "cell_type": "code",
      "execution_count": null,
      "metadata": {
        "colab": {
          "base_uri": "https://localhost:8080/"
        },
        "id": "7BrMoxVragm-",
        "outputId": "b7287434-4577-484a-bcf3-61cb158f7b2f"
      },
      "outputs": [
        {
          "data": {
            "text/plain": [
              "MONTH       2575\n",
              "YEAR         774\n",
              "DAY          116\n",
              "TERM          59\n",
              "SEMESTER      27\n",
              "-1            25\n",
              "Name: accomodation_duration, dtype: int64"
            ]
          },
          "execution_count": 63,
          "metadata": {},
          "output_type": "execute_result"
        }
      ],
      "source": [
        "data[\"accomodation_duration\"].value_counts()"
      ]
    },
    {
      "cell_type": "code",
      "execution_count": null,
      "metadata": {
        "colab": {
          "base_uri": "https://localhost:8080/",
          "height": 565
        },
        "id": "FOUqFNmGapvQ",
        "outputId": "e37cfe9a-37ce-4784-acb8-c39356ac9077"
      },
      "outputs": [
        {
          "data": {
            "text/html": [
              "\n",
              "  <div id=\"df-a001ebce-1b19-4e89-81d7-5c0a8d9a30c1\">\n",
              "    <div class=\"colab-df-container\">\n",
              "      <div>\n",
              "<style scoped>\n",
              "    .dataframe tbody tr th:only-of-type {\n",
              "        vertical-align: middle;\n",
              "    }\n",
              "\n",
              "    .dataframe tbody tr th {\n",
              "        vertical-align: top;\n",
              "    }\n",
              "\n",
              "    .dataframe thead th {\n",
              "        text-align: right;\n",
              "    }\n",
              "</style>\n",
              "<table border=\"1\" class=\"dataframe\">\n",
              "  <thead>\n",
              "    <tr style=\"text-align: right;\">\n",
              "      <th></th>\n",
              "      <th>school_id</th>\n",
              "      <th>university</th>\n",
              "      <th>major</th>\n",
              "      <th>district</th>\n",
              "      <th>city</th>\n",
              "      <th>level</th>\n",
              "      <th>language</th>\n",
              "      <th>tuition_covered</th>\n",
              "      <th>accomodation_covered</th>\n",
              "      <th>living_expense_covered</th>\n",
              "      <th>tuition_fees_to_pay</th>\n",
              "      <th>original_tuition_fee</th>\n",
              "      <th>start_month</th>\n",
              "      <th>start_year</th>\n",
              "      <th>accomodation_to_pay</th>\n",
              "      <th>accomodation_duration</th>\n",
              "      <th>expense_to_pay</th>\n",
              "      <th>expense_duration</th>\n",
              "    </tr>\n",
              "  </thead>\n",
              "  <tbody>\n",
              "    <tr>\n",
              "      <th>2752</th>\n",
              "      <td>2782</td>\n",
              "      <td>Zhejiang University of Technology</td>\n",
              "      <td>Geotechnical Engineering</td>\n",
              "      <td>Xihu</td>\n",
              "      <td>Zhejiang</td>\n",
              "      <td>Master</td>\n",
              "      <td>Chinese</td>\n",
              "      <td>30000.0</td>\n",
              "      <td>0</td>\n",
              "      <td>0</td>\n",
              "      <td>2400</td>\n",
              "      <td>32400.0</td>\n",
              "      <td>Sep</td>\n",
              "      <td>2019</td>\n",
              "      <td>1500</td>\n",
              "      <td>MONTH</td>\n",
              "      <td>1000</td>\n",
              "      <td>MONTH</td>\n",
              "    </tr>\n",
              "    <tr>\n",
              "      <th>519</th>\n",
              "      <td>549</td>\n",
              "      <td>South China University of Technology</td>\n",
              "      <td>Intelligence Science and Technology</td>\n",
              "      <td>Tianhe</td>\n",
              "      <td>Guangdong</td>\n",
              "      <td>Bachelor</td>\n",
              "      <td>Chinese</td>\n",
              "      <td>17550.0</td>\n",
              "      <td>0</td>\n",
              "      <td>0</td>\n",
              "      <td>6500</td>\n",
              "      <td>24050.0</td>\n",
              "      <td>Sep</td>\n",
              "      <td>2019</td>\n",
              "      <td>1000</td>\n",
              "      <td>MONTH</td>\n",
              "      <td>1000</td>\n",
              "      <td>MONTH</td>\n",
              "    </tr>\n",
              "    <tr>\n",
              "      <th>493</th>\n",
              "      <td>523</td>\n",
              "      <td>Shenyang University of Chemical Technology</td>\n",
              "      <td>Mechanical Design Manufacturing and Automation</td>\n",
              "      <td>Tiexi</td>\n",
              "      <td>Liaoning</td>\n",
              "      <td>Bachelor</td>\n",
              "      <td>Chinese</td>\n",
              "      <td>15500.0</td>\n",
              "      <td>1</td>\n",
              "      <td>0</td>\n",
              "      <td>0</td>\n",
              "      <td>15500.0</td>\n",
              "      <td>Sep</td>\n",
              "      <td>2019</td>\n",
              "      <td>4000</td>\n",
              "      <td>YEAR</td>\n",
              "      <td>1500</td>\n",
              "      <td>MONTH</td>\n",
              "    </tr>\n",
              "    <tr>\n",
              "      <th>2550</th>\n",
              "      <td>2580</td>\n",
              "      <td>Shanghai University of Traditional Chinese Med...</td>\n",
              "      <td>Chinese Materia Medica(RESEARCH ON SUBSTANCE F...</td>\n",
              "      <td>Xuhui</td>\n",
              "      <td>Shanghai</td>\n",
              "      <td>Master</td>\n",
              "      <td>English</td>\n",
              "      <td>29500.0</td>\n",
              "      <td>1</td>\n",
              "      <td>1</td>\n",
              "      <td>0</td>\n",
              "      <td>29500.0</td>\n",
              "      <td>Sep</td>\n",
              "      <td>2020</td>\n",
              "      <td>1000</td>\n",
              "      <td>MONTH</td>\n",
              "      <td>1000</td>\n",
              "      <td>MONTH</td>\n",
              "    </tr>\n",
              "    <tr>\n",
              "      <th>3307</th>\n",
              "      <td>3337</td>\n",
              "      <td>Chongqing Medical University</td>\n",
              "      <td>Emergency Medicine</td>\n",
              "      <td>Yuzhong</td>\n",
              "      <td>Chongqing</td>\n",
              "      <td>Phd</td>\n",
              "      <td>Chinese</td>\n",
              "      <td>27500.0</td>\n",
              "      <td>0</td>\n",
              "      <td>0</td>\n",
              "      <td>22500</td>\n",
              "      <td>50000.0</td>\n",
              "      <td>Sep</td>\n",
              "      <td>2019</td>\n",
              "      <td>400</td>\n",
              "      <td>MONTH</td>\n",
              "      <td>1000</td>\n",
              "      <td>MONTH</td>\n",
              "    </tr>\n",
              "  </tbody>\n",
              "</table>\n",
              "</div>\n",
              "      <button class=\"colab-df-convert\" onclick=\"convertToInteractive('df-a001ebce-1b19-4e89-81d7-5c0a8d9a30c1')\"\n",
              "              title=\"Convert this dataframe to an interactive table.\"\n",
              "              style=\"display:none;\">\n",
              "        \n",
              "  <svg xmlns=\"http://www.w3.org/2000/svg\" height=\"24px\"viewBox=\"0 0 24 24\"\n",
              "       width=\"24px\">\n",
              "    <path d=\"M0 0h24v24H0V0z\" fill=\"none\"/>\n",
              "    <path d=\"M18.56 5.44l.94 2.06.94-2.06 2.06-.94-2.06-.94-.94-2.06-.94 2.06-2.06.94zm-11 1L8.5 8.5l.94-2.06 2.06-.94-2.06-.94L8.5 2.5l-.94 2.06-2.06.94zm10 10l.94 2.06.94-2.06 2.06-.94-2.06-.94-.94-2.06-.94 2.06-2.06.94z\"/><path d=\"M17.41 7.96l-1.37-1.37c-.4-.4-.92-.59-1.43-.59-.52 0-1.04.2-1.43.59L10.3 9.45l-7.72 7.72c-.78.78-.78 2.05 0 2.83L4 21.41c.39.39.9.59 1.41.59.51 0 1.02-.2 1.41-.59l7.78-7.78 2.81-2.81c.8-.78.8-2.07 0-2.86zM5.41 20L4 18.59l7.72-7.72 1.47 1.35L5.41 20z\"/>\n",
              "  </svg>\n",
              "      </button>\n",
              "      \n",
              "  <style>\n",
              "    .colab-df-container {\n",
              "      display:flex;\n",
              "      flex-wrap:wrap;\n",
              "      gap: 12px;\n",
              "    }\n",
              "\n",
              "    .colab-df-convert {\n",
              "      background-color: #E8F0FE;\n",
              "      border: none;\n",
              "      border-radius: 50%;\n",
              "      cursor: pointer;\n",
              "      display: none;\n",
              "      fill: #1967D2;\n",
              "      height: 32px;\n",
              "      padding: 0 0 0 0;\n",
              "      width: 32px;\n",
              "    }\n",
              "\n",
              "    .colab-df-convert:hover {\n",
              "      background-color: #E2EBFA;\n",
              "      box-shadow: 0px 1px 2px rgba(60, 64, 67, 0.3), 0px 1px 3px 1px rgba(60, 64, 67, 0.15);\n",
              "      fill: #174EA6;\n",
              "    }\n",
              "\n",
              "    [theme=dark] .colab-df-convert {\n",
              "      background-color: #3B4455;\n",
              "      fill: #D2E3FC;\n",
              "    }\n",
              "\n",
              "    [theme=dark] .colab-df-convert:hover {\n",
              "      background-color: #434B5C;\n",
              "      box-shadow: 0px 1px 3px 1px rgba(0, 0, 0, 0.15);\n",
              "      filter: drop-shadow(0px 1px 2px rgba(0, 0, 0, 0.3));\n",
              "      fill: #FFFFFF;\n",
              "    }\n",
              "  </style>\n",
              "\n",
              "      <script>\n",
              "        const buttonEl =\n",
              "          document.querySelector('#df-a001ebce-1b19-4e89-81d7-5c0a8d9a30c1 button.colab-df-convert');\n",
              "        buttonEl.style.display =\n",
              "          google.colab.kernel.accessAllowed ? 'block' : 'none';\n",
              "\n",
              "        async function convertToInteractive(key) {\n",
              "          const element = document.querySelector('#df-a001ebce-1b19-4e89-81d7-5c0a8d9a30c1');\n",
              "          const dataTable =\n",
              "            await google.colab.kernel.invokeFunction('convertToInteractive',\n",
              "                                                     [key], {});\n",
              "          if (!dataTable) return;\n",
              "\n",
              "          const docLinkHtml = 'Like what you see? Visit the ' +\n",
              "            '<a target=\"_blank\" href=https://colab.research.google.com/notebooks/data_table.ipynb>data table notebook</a>'\n",
              "            + ' to learn more about interactive tables.';\n",
              "          element.innerHTML = '';\n",
              "          dataTable['output_type'] = 'display_data';\n",
              "          await google.colab.output.renderOutput(dataTable, element);\n",
              "          const docLink = document.createElement('div');\n",
              "          docLink.innerHTML = docLinkHtml;\n",
              "          element.appendChild(docLink);\n",
              "        }\n",
              "      </script>\n",
              "    </div>\n",
              "  </div>\n",
              "  "
            ],
            "text/plain": [
              "      school_id                                         university  \\\n",
              "2752       2782                  Zhejiang University of Technology   \n",
              "519         549               South China University of Technology   \n",
              "493         523         Shenyang University of Chemical Technology   \n",
              "2550       2580  Shanghai University of Traditional Chinese Med...   \n",
              "3307       3337                       Chongqing Medical University   \n",
              "\n",
              "                                                  major district       city  \\\n",
              "2752                           Geotechnical Engineering     Xihu   Zhejiang   \n",
              "519                 Intelligence Science and Technology   Tianhe  Guangdong   \n",
              "493      Mechanical Design Manufacturing and Automation    Tiexi   Liaoning   \n",
              "2550  Chinese Materia Medica(RESEARCH ON SUBSTANCE F...    Xuhui   Shanghai   \n",
              "3307                                 Emergency Medicine  Yuzhong  Chongqing   \n",
              "\n",
              "         level language  tuition_covered  accomodation_covered  \\\n",
              "2752    Master  Chinese          30000.0                     0   \n",
              "519   Bachelor  Chinese          17550.0                     0   \n",
              "493   Bachelor  Chinese          15500.0                     1   \n",
              "2550    Master  English          29500.0                     1   \n",
              "3307       Phd  Chinese          27500.0                     0   \n",
              "\n",
              "      living_expense_covered  tuition_fees_to_pay  original_tuition_fee  \\\n",
              "2752                       0                 2400               32400.0   \n",
              "519                        0                 6500               24050.0   \n",
              "493                        0                    0               15500.0   \n",
              "2550                       1                    0               29500.0   \n",
              "3307                       0                22500               50000.0   \n",
              "\n",
              "     start_month  start_year  accomodation_to_pay accomodation_duration  \\\n",
              "2752         Sep        2019                 1500                 MONTH   \n",
              "519          Sep        2019                 1000                 MONTH   \n",
              "493          Sep        2019                 4000                  YEAR   \n",
              "2550         Sep        2020                 1000                 MONTH   \n",
              "3307         Sep        2019                  400                 MONTH   \n",
              "\n",
              "      expense_to_pay expense_duration  \n",
              "2752            1000            MONTH  \n",
              "519             1000            MONTH  \n",
              "493             1500            MONTH  \n",
              "2550            1000            MONTH  \n",
              "3307            1000            MONTH  "
            ]
          },
          "execution_count": 64,
          "metadata": {},
          "output_type": "execute_result"
        }
      ],
      "source": [
        "newdata = data.copy()\n",
        "\n",
        "#convert per year to per month\n",
        "#newdata['accomodation_to_pay'][newdata['accomodation_duration'] == \"YEAR\"] = newdata['accomodation_to_pay'][newdata['accomodation_duration'] == \"YEAR\"] / 12\n",
        "\n",
        "#convert per day to per year using 365 days per year\n",
        "newdata['accomodation_to_pay'][newdata['accomodation_duration'] == \"DAY\"] = newdata['accomodation_to_pay'][newdata['accomodation_duration'] == \"DAY\"] * 365\n",
        "\n",
        "#convert per term to per year using 3 terms in a year\n",
        "newdata['accomodation_to_pay'][newdata['accomodation_duration'] == \"TERM\"] = newdata['accomodation_to_pay'][newdata['accomodation_duration'] == \"TERM\"] * 2\n",
        "\n",
        "#convert per semester to per year using 2 semesters per year\n",
        "newdata['accomodation_to_pay'][newdata['accomodation_duration'] == \"SEMESTER\"] = newdata['accomodation_to_pay'][newdata['accomodation_duration'] == \"SEMESTER\"] * 2\n",
        "\n",
        "newdata.sample(5)"
      ]
    },
    {
      "cell_type": "code",
      "execution_count": null,
      "metadata": {
        "colab": {
          "base_uri": "https://localhost:8080/",
          "height": 424
        },
        "id": "PVxb82opas3B",
        "outputId": "523bf9e4-6f4e-482d-cc6a-6bbdb4a06d04"
      },
      "outputs": [
        {
          "data": {
            "text/html": [
              "\n",
              "  <div id=\"df-8c3282bc-517b-4b4b-b6b9-dde82b3ef9b0\">\n",
              "    <div class=\"colab-df-container\">\n",
              "      <div>\n",
              "<style scoped>\n",
              "    .dataframe tbody tr th:only-of-type {\n",
              "        vertical-align: middle;\n",
              "    }\n",
              "\n",
              "    .dataframe tbody tr th {\n",
              "        vertical-align: top;\n",
              "    }\n",
              "\n",
              "    .dataframe thead th {\n",
              "        text-align: right;\n",
              "    }\n",
              "</style>\n",
              "<table border=\"1\" class=\"dataframe\">\n",
              "  <thead>\n",
              "    <tr style=\"text-align: right;\">\n",
              "      <th></th>\n",
              "      <th>living_expense_covered</th>\n",
              "      <th>expense_to_pay</th>\n",
              "      <th>expense_duration</th>\n",
              "    </tr>\n",
              "  </thead>\n",
              "  <tbody>\n",
              "    <tr>\n",
              "      <th>0</th>\n",
              "      <td>0</td>\n",
              "      <td>1000</td>\n",
              "      <td>MONTH</td>\n",
              "    </tr>\n",
              "    <tr>\n",
              "      <th>1</th>\n",
              "      <td>0</td>\n",
              "      <td>1500</td>\n",
              "      <td>MONTH</td>\n",
              "    </tr>\n",
              "    <tr>\n",
              "      <th>2</th>\n",
              "      <td>0</td>\n",
              "      <td>1500</td>\n",
              "      <td>MONTH</td>\n",
              "    </tr>\n",
              "    <tr>\n",
              "      <th>3</th>\n",
              "      <td>0</td>\n",
              "      <td>1500</td>\n",
              "      <td>MONTH</td>\n",
              "    </tr>\n",
              "    <tr>\n",
              "      <th>4</th>\n",
              "      <td>1</td>\n",
              "      <td>0</td>\n",
              "      <td>MONTH</td>\n",
              "    </tr>\n",
              "    <tr>\n",
              "      <th>...</th>\n",
              "      <td>...</td>\n",
              "      <td>...</td>\n",
              "      <td>...</td>\n",
              "    </tr>\n",
              "    <tr>\n",
              "      <th>3571</th>\n",
              "      <td>1</td>\n",
              "      <td>0</td>\n",
              "      <td>MONTH</td>\n",
              "    </tr>\n",
              "    <tr>\n",
              "      <th>3572</th>\n",
              "      <td>1</td>\n",
              "      <td>0</td>\n",
              "      <td>MONTH</td>\n",
              "    </tr>\n",
              "    <tr>\n",
              "      <th>3573</th>\n",
              "      <td>1</td>\n",
              "      <td>0</td>\n",
              "      <td>MONTH</td>\n",
              "    </tr>\n",
              "    <tr>\n",
              "      <th>3574</th>\n",
              "      <td>1</td>\n",
              "      <td>0</td>\n",
              "      <td>MONTH</td>\n",
              "    </tr>\n",
              "    <tr>\n",
              "      <th>3575</th>\n",
              "      <td>1</td>\n",
              "      <td>0</td>\n",
              "      <td>MONTH</td>\n",
              "    </tr>\n",
              "  </tbody>\n",
              "</table>\n",
              "<p>3576 rows × 3 columns</p>\n",
              "</div>\n",
              "      <button class=\"colab-df-convert\" onclick=\"convertToInteractive('df-8c3282bc-517b-4b4b-b6b9-dde82b3ef9b0')\"\n",
              "              title=\"Convert this dataframe to an interactive table.\"\n",
              "              style=\"display:none;\">\n",
              "        \n",
              "  <svg xmlns=\"http://www.w3.org/2000/svg\" height=\"24px\"viewBox=\"0 0 24 24\"\n",
              "       width=\"24px\">\n",
              "    <path d=\"M0 0h24v24H0V0z\" fill=\"none\"/>\n",
              "    <path d=\"M18.56 5.44l.94 2.06.94-2.06 2.06-.94-2.06-.94-.94-2.06-.94 2.06-2.06.94zm-11 1L8.5 8.5l.94-2.06 2.06-.94-2.06-.94L8.5 2.5l-.94 2.06-2.06.94zm10 10l.94 2.06.94-2.06 2.06-.94-2.06-.94-.94-2.06-.94 2.06-2.06.94z\"/><path d=\"M17.41 7.96l-1.37-1.37c-.4-.4-.92-.59-1.43-.59-.52 0-1.04.2-1.43.59L10.3 9.45l-7.72 7.72c-.78.78-.78 2.05 0 2.83L4 21.41c.39.39.9.59 1.41.59.51 0 1.02-.2 1.41-.59l7.78-7.78 2.81-2.81c.8-.78.8-2.07 0-2.86zM5.41 20L4 18.59l7.72-7.72 1.47 1.35L5.41 20z\"/>\n",
              "  </svg>\n",
              "      </button>\n",
              "      \n",
              "  <style>\n",
              "    .colab-df-container {\n",
              "      display:flex;\n",
              "      flex-wrap:wrap;\n",
              "      gap: 12px;\n",
              "    }\n",
              "\n",
              "    .colab-df-convert {\n",
              "      background-color: #E8F0FE;\n",
              "      border: none;\n",
              "      border-radius: 50%;\n",
              "      cursor: pointer;\n",
              "      display: none;\n",
              "      fill: #1967D2;\n",
              "      height: 32px;\n",
              "      padding: 0 0 0 0;\n",
              "      width: 32px;\n",
              "    }\n",
              "\n",
              "    .colab-df-convert:hover {\n",
              "      background-color: #E2EBFA;\n",
              "      box-shadow: 0px 1px 2px rgba(60, 64, 67, 0.3), 0px 1px 3px 1px rgba(60, 64, 67, 0.15);\n",
              "      fill: #174EA6;\n",
              "    }\n",
              "\n",
              "    [theme=dark] .colab-df-convert {\n",
              "      background-color: #3B4455;\n",
              "      fill: #D2E3FC;\n",
              "    }\n",
              "\n",
              "    [theme=dark] .colab-df-convert:hover {\n",
              "      background-color: #434B5C;\n",
              "      box-shadow: 0px 1px 3px 1px rgba(0, 0, 0, 0.15);\n",
              "      filter: drop-shadow(0px 1px 2px rgba(0, 0, 0, 0.3));\n",
              "      fill: #FFFFFF;\n",
              "    }\n",
              "  </style>\n",
              "\n",
              "      <script>\n",
              "        const buttonEl =\n",
              "          document.querySelector('#df-8c3282bc-517b-4b4b-b6b9-dde82b3ef9b0 button.colab-df-convert');\n",
              "        buttonEl.style.display =\n",
              "          google.colab.kernel.accessAllowed ? 'block' : 'none';\n",
              "\n",
              "        async function convertToInteractive(key) {\n",
              "          const element = document.querySelector('#df-8c3282bc-517b-4b4b-b6b9-dde82b3ef9b0');\n",
              "          const dataTable =\n",
              "            await google.colab.kernel.invokeFunction('convertToInteractive',\n",
              "                                                     [key], {});\n",
              "          if (!dataTable) return;\n",
              "\n",
              "          const docLinkHtml = 'Like what you see? Visit the ' +\n",
              "            '<a target=\"_blank\" href=https://colab.research.google.com/notebooks/data_table.ipynb>data table notebook</a>'\n",
              "            + ' to learn more about interactive tables.';\n",
              "          element.innerHTML = '';\n",
              "          dataTable['output_type'] = 'display_data';\n",
              "          await google.colab.output.renderOutput(dataTable, element);\n",
              "          const docLink = document.createElement('div');\n",
              "          docLink.innerHTML = docLinkHtml;\n",
              "          element.appendChild(docLink);\n",
              "        }\n",
              "      </script>\n",
              "    </div>\n",
              "  </div>\n",
              "  "
            ],
            "text/plain": [
              "      living_expense_covered  expense_to_pay expense_duration\n",
              "0                          0            1000            MONTH\n",
              "1                          0            1500            MONTH\n",
              "2                          0            1500            MONTH\n",
              "3                          0            1500            MONTH\n",
              "4                          1               0            MONTH\n",
              "...                      ...             ...              ...\n",
              "3571                       1               0            MONTH\n",
              "3572                       1               0            MONTH\n",
              "3573                       1               0            MONTH\n",
              "3574                       1               0            MONTH\n",
              "3575                       1               0            MONTH\n",
              "\n",
              "[3576 rows x 3 columns]"
            ]
          },
          "execution_count": 65,
          "metadata": {},
          "output_type": "execute_result"
        }
      ],
      "source": [
        "temp2 = data[['living_expense_covered', 'expense_to_pay', \"expense_duration\"]]\n",
        "temp2"
      ]
    },
    {
      "cell_type": "code",
      "execution_count": null,
      "metadata": {
        "colab": {
          "base_uri": "https://localhost:8080/"
        },
        "id": "0R4PMasHavnH",
        "outputId": "07759f1b-df91-4f71-9980-110531b5f47d"
      },
      "outputs": [
        {
          "data": {
            "text/plain": [
              "MONTH    3576\n",
              "Name: expense_duration, dtype: int64"
            ]
          },
          "execution_count": 66,
          "metadata": {},
          "output_type": "execute_result"
        },
        {
          "data": {
            "text/plain": [
              "MONTH    3576\n",
              "Name: expense_duration, dtype: int64"
            ]
          },
          "execution_count": 67,
          "metadata": {},
          "output_type": "execute_result"
        }
      ],
      "source": [
        "data[\"expense_duration\"].value_counts()"
      ]
    },
    {
      "cell_type": "markdown",
      "metadata": {
        "id": "kGltV5Ria3IA"
      },
      "source": [
        "### Accomodation to pay\n",
        "Accomodation to pay is always zero when accomodation is covered.\n",
        "\n",
        "### Expense to pay\n",
        "Expense to pay is zero when living expenses are covered. <br>\n",
        "Drop expense_duration as it is always per month, there's nothing to learn from it."
      ]
    },
    {
      "cell_type": "code",
      "execution_count": null,
      "metadata": {
        "colab": {
          "base_uri": "https://localhost:8080/",
          "height": 548
        },
        "id": "8R1bqyOKazWg",
        "outputId": "daed9710-ff8d-4352-ba2e-c1052c9cc444"
      },
      "outputs": [
        {
          "data": {
            "text/html": [
              "\n",
              "  <div id=\"df-9814b074-a8d9-4f68-99b7-5d9b9b841f32\">\n",
              "    <div class=\"colab-df-container\">\n",
              "      <div>\n",
              "<style scoped>\n",
              "    .dataframe tbody tr th:only-of-type {\n",
              "        vertical-align: middle;\n",
              "    }\n",
              "\n",
              "    .dataframe tbody tr th {\n",
              "        vertical-align: top;\n",
              "    }\n",
              "\n",
              "    .dataframe thead th {\n",
              "        text-align: right;\n",
              "    }\n",
              "</style>\n",
              "<table border=\"1\" class=\"dataframe\">\n",
              "  <thead>\n",
              "    <tr style=\"text-align: right;\">\n",
              "      <th></th>\n",
              "      <th>school_id</th>\n",
              "      <th>university</th>\n",
              "      <th>major</th>\n",
              "      <th>district</th>\n",
              "      <th>city</th>\n",
              "      <th>level</th>\n",
              "      <th>language</th>\n",
              "      <th>tuition_covered</th>\n",
              "      <th>accomodation_covered</th>\n",
              "      <th>living_expense_covered</th>\n",
              "      <th>tuition_fees_to_pay</th>\n",
              "      <th>original_tuition_fee</th>\n",
              "      <th>start_month</th>\n",
              "      <th>start_year</th>\n",
              "      <th>accomodation_to_pay</th>\n",
              "      <th>accomodation_duration</th>\n",
              "      <th>expense_to_pay</th>\n",
              "      <th>expense_duration</th>\n",
              "      <th>total_expense</th>\n",
              "    </tr>\n",
              "  </thead>\n",
              "  <tbody>\n",
              "    <tr>\n",
              "      <th>1507</th>\n",
              "      <td>1537</td>\n",
              "      <td>Baoji University of Arts and Sciences</td>\n",
              "      <td>Geographical Science</td>\n",
              "      <td>Baoji</td>\n",
              "      <td>Shaanxi</td>\n",
              "      <td>Master</td>\n",
              "      <td>English</td>\n",
              "      <td>12000.0</td>\n",
              "      <td>1</td>\n",
              "      <td>1</td>\n",
              "      <td>0</td>\n",
              "      <td>12000.0</td>\n",
              "      <td>Sep</td>\n",
              "      <td>2019</td>\n",
              "      <td>0</td>\n",
              "      <td>YEAR</td>\n",
              "      <td>0</td>\n",
              "      <td>MONTH</td>\n",
              "      <td>0</td>\n",
              "    </tr>\n",
              "    <tr>\n",
              "      <th>3497</th>\n",
              "      <td>3527</td>\n",
              "      <td>China University of Mining and Technology</td>\n",
              "      <td>Computational Mathematics</td>\n",
              "      <td>Xuzhou</td>\n",
              "      <td>Jiangsu</td>\n",
              "      <td>Phd</td>\n",
              "      <td>Chinese</td>\n",
              "      <td>10625.0</td>\n",
              "      <td>0</td>\n",
              "      <td>0</td>\n",
              "      <td>6375</td>\n",
              "      <td>17000.0</td>\n",
              "      <td>Sep</td>\n",
              "      <td>2019</td>\n",
              "      <td>3000</td>\n",
              "      <td>YEAR</td>\n",
              "      <td>2000</td>\n",
              "      <td>MONTH</td>\n",
              "      <td>11375</td>\n",
              "    </tr>\n",
              "    <tr>\n",
              "      <th>2743</th>\n",
              "      <td>2773</td>\n",
              "      <td>Zhejiang University of Technology</td>\n",
              "      <td>Software Engineering</td>\n",
              "      <td>Xihu</td>\n",
              "      <td>Zhejiang</td>\n",
              "      <td>Master</td>\n",
              "      <td>English</td>\n",
              "      <td>30000.0</td>\n",
              "      <td>0</td>\n",
              "      <td>0</td>\n",
              "      <td>2400</td>\n",
              "      <td>32400.0</td>\n",
              "      <td>Sep</td>\n",
              "      <td>2019</td>\n",
              "      <td>1500</td>\n",
              "      <td>MONTH</td>\n",
              "      <td>1000</td>\n",
              "      <td>MONTH</td>\n",
              "      <td>4900</td>\n",
              "    </tr>\n",
              "    <tr>\n",
              "      <th>1752</th>\n",
              "      <td>1782</td>\n",
              "      <td>South China University of Technology</td>\n",
              "      <td>Legal Theory</td>\n",
              "      <td>Tianhe</td>\n",
              "      <td>Guangdong</td>\n",
              "      <td>Master</td>\n",
              "      <td>Chinese</td>\n",
              "      <td>28000.0</td>\n",
              "      <td>0</td>\n",
              "      <td>0</td>\n",
              "      <td>5750</td>\n",
              "      <td>33750.0</td>\n",
              "      <td>Sep</td>\n",
              "      <td>2019</td>\n",
              "      <td>1000</td>\n",
              "      <td>MONTH</td>\n",
              "      <td>1000</td>\n",
              "      <td>MONTH</td>\n",
              "      <td>7750</td>\n",
              "    </tr>\n",
              "    <tr>\n",
              "      <th>314</th>\n",
              "      <td>344</td>\n",
              "      <td>Zhejiang Normal University</td>\n",
              "      <td>Business Administration</td>\n",
              "      <td>Wucheng</td>\n",
              "      <td>Zhejiang</td>\n",
              "      <td>Bachelor</td>\n",
              "      <td>English</td>\n",
              "      <td>16800.0</td>\n",
              "      <td>0</td>\n",
              "      <td>0</td>\n",
              "      <td>5200</td>\n",
              "      <td>22000.0</td>\n",
              "      <td>Sep</td>\n",
              "      <td>2019</td>\n",
              "      <td>500</td>\n",
              "      <td>MONTH</td>\n",
              "      <td>1500</td>\n",
              "      <td>MONTH</td>\n",
              "      <td>7200</td>\n",
              "    </tr>\n",
              "  </tbody>\n",
              "</table>\n",
              "</div>\n",
              "      <button class=\"colab-df-convert\" onclick=\"convertToInteractive('df-9814b074-a8d9-4f68-99b7-5d9b9b841f32')\"\n",
              "              title=\"Convert this dataframe to an interactive table.\"\n",
              "              style=\"display:none;\">\n",
              "        \n",
              "  <svg xmlns=\"http://www.w3.org/2000/svg\" height=\"24px\"viewBox=\"0 0 24 24\"\n",
              "       width=\"24px\">\n",
              "    <path d=\"M0 0h24v24H0V0z\" fill=\"none\"/>\n",
              "    <path d=\"M18.56 5.44l.94 2.06.94-2.06 2.06-.94-2.06-.94-.94-2.06-.94 2.06-2.06.94zm-11 1L8.5 8.5l.94-2.06 2.06-.94-2.06-.94L8.5 2.5l-.94 2.06-2.06.94zm10 10l.94 2.06.94-2.06 2.06-.94-2.06-.94-.94-2.06-.94 2.06-2.06.94z\"/><path d=\"M17.41 7.96l-1.37-1.37c-.4-.4-.92-.59-1.43-.59-.52 0-1.04.2-1.43.59L10.3 9.45l-7.72 7.72c-.78.78-.78 2.05 0 2.83L4 21.41c.39.39.9.59 1.41.59.51 0 1.02-.2 1.41-.59l7.78-7.78 2.81-2.81c.8-.78.8-2.07 0-2.86zM5.41 20L4 18.59l7.72-7.72 1.47 1.35L5.41 20z\"/>\n",
              "  </svg>\n",
              "      </button>\n",
              "      \n",
              "  <style>\n",
              "    .colab-df-container {\n",
              "      display:flex;\n",
              "      flex-wrap:wrap;\n",
              "      gap: 12px;\n",
              "    }\n",
              "\n",
              "    .colab-df-convert {\n",
              "      background-color: #E8F0FE;\n",
              "      border: none;\n",
              "      border-radius: 50%;\n",
              "      cursor: pointer;\n",
              "      display: none;\n",
              "      fill: #1967D2;\n",
              "      height: 32px;\n",
              "      padding: 0 0 0 0;\n",
              "      width: 32px;\n",
              "    }\n",
              "\n",
              "    .colab-df-convert:hover {\n",
              "      background-color: #E2EBFA;\n",
              "      box-shadow: 0px 1px 2px rgba(60, 64, 67, 0.3), 0px 1px 3px 1px rgba(60, 64, 67, 0.15);\n",
              "      fill: #174EA6;\n",
              "    }\n",
              "\n",
              "    [theme=dark] .colab-df-convert {\n",
              "      background-color: #3B4455;\n",
              "      fill: #D2E3FC;\n",
              "    }\n",
              "\n",
              "    [theme=dark] .colab-df-convert:hover {\n",
              "      background-color: #434B5C;\n",
              "      box-shadow: 0px 1px 3px 1px rgba(0, 0, 0, 0.15);\n",
              "      filter: drop-shadow(0px 1px 2px rgba(0, 0, 0, 0.3));\n",
              "      fill: #FFFFFF;\n",
              "    }\n",
              "  </style>\n",
              "\n",
              "      <script>\n",
              "        const buttonEl =\n",
              "          document.querySelector('#df-9814b074-a8d9-4f68-99b7-5d9b9b841f32 button.colab-df-convert');\n",
              "        buttonEl.style.display =\n",
              "          google.colab.kernel.accessAllowed ? 'block' : 'none';\n",
              "\n",
              "        async function convertToInteractive(key) {\n",
              "          const element = document.querySelector('#df-9814b074-a8d9-4f68-99b7-5d9b9b841f32');\n",
              "          const dataTable =\n",
              "            await google.colab.kernel.invokeFunction('convertToInteractive',\n",
              "                                                     [key], {});\n",
              "          if (!dataTable) return;\n",
              "\n",
              "          const docLinkHtml = 'Like what you see? Visit the ' +\n",
              "            '<a target=\"_blank\" href=https://colab.research.google.com/notebooks/data_table.ipynb>data table notebook</a>'\n",
              "            + ' to learn more about interactive tables.';\n",
              "          element.innerHTML = '';\n",
              "          dataTable['output_type'] = 'display_data';\n",
              "          await google.colab.output.renderOutput(dataTable, element);\n",
              "          const docLink = document.createElement('div');\n",
              "          docLink.innerHTML = docLinkHtml;\n",
              "          element.appendChild(docLink);\n",
              "        }\n",
              "      </script>\n",
              "    </div>\n",
              "  </div>\n",
              "  "
            ],
            "text/plain": [
              "      school_id                                 university  \\\n",
              "1507       1537      Baoji University of Arts and Sciences   \n",
              "3497       3527  China University of Mining and Technology   \n",
              "2743       2773          Zhejiang University of Technology   \n",
              "1752       1782       South China University of Technology   \n",
              "314         344                 Zhejiang Normal University   \n",
              "\n",
              "                          major district       city     level language  \\\n",
              "1507       Geographical Science    Baoji    Shaanxi    Master  English   \n",
              "3497  Computational Mathematics   Xuzhou    Jiangsu       Phd  Chinese   \n",
              "2743       Software Engineering     Xihu   Zhejiang    Master  English   \n",
              "1752               Legal Theory   Tianhe  Guangdong    Master  Chinese   \n",
              "314     Business Administration  Wucheng   Zhejiang  Bachelor  English   \n",
              "\n",
              "      tuition_covered  accomodation_covered  living_expense_covered  \\\n",
              "1507          12000.0                     1                       1   \n",
              "3497          10625.0                     0                       0   \n",
              "2743          30000.0                     0                       0   \n",
              "1752          28000.0                     0                       0   \n",
              "314           16800.0                     0                       0   \n",
              "\n",
              "      tuition_fees_to_pay  original_tuition_fee start_month  start_year  \\\n",
              "1507                    0               12000.0         Sep        2019   \n",
              "3497                 6375               17000.0         Sep        2019   \n",
              "2743                 2400               32400.0         Sep        2019   \n",
              "1752                 5750               33750.0         Sep        2019   \n",
              "314                  5200               22000.0         Sep        2019   \n",
              "\n",
              "      accomodation_to_pay accomodation_duration  expense_to_pay  \\\n",
              "1507                    0                  YEAR               0   \n",
              "3497                 3000                  YEAR            2000   \n",
              "2743                 1500                 MONTH            1000   \n",
              "1752                 1000                 MONTH            1000   \n",
              "314                   500                 MONTH            1500   \n",
              "\n",
              "     expense_duration  total_expense  \n",
              "1507            MONTH              0  \n",
              "3497            MONTH          11375  \n",
              "2743            MONTH           4900  \n",
              "1752            MONTH           7750  \n",
              "314             MONTH           7200  "
            ]
          },
          "execution_count": 68,
          "metadata": {},
          "output_type": "execute_result"
        }
      ],
      "source": [
        "#Create total expense to pay, sum of tuition to pay, accomodation to pay and expense to pay.\n",
        "newdata[\"total_expense\"] = newdata[[\"tuition_fees_to_pay\", \"accomodation_to_pay\", \"expense_to_pay\"]].sum(axis=1)\n",
        "newdata.sample(5)"
      ]
    },
    {
      "cell_type": "code",
      "execution_count": null,
      "metadata": {
        "colab": {
          "base_uri": "https://localhost:8080/"
        },
        "id": "tGx-ZSj2bWZr",
        "outputId": "f65308c2-27b6-4659-9258-288791633d32"
      },
      "outputs": [
        {
          "data": {
            "text/plain": [
              "Index(['school_id', 'university', 'major', 'district', 'city', 'level',\n",
              "       'language', 'tuition_covered', 'accomodation_covered',\n",
              "       'living_expense_covered', 'tuition_fees_to_pay', 'original_tuition_fee',\n",
              "       'start_month', 'start_year', 'accomodation_to_pay',\n",
              "       'accomodation_duration', 'expense_to_pay', 'expense_duration',\n",
              "       'total_expense'],\n",
              "      dtype='object')"
            ]
          },
          "execution_count": 69,
          "metadata": {},
          "output_type": "execute_result"
        }
      ],
      "source": [
        "newdata.columns"
      ]
    },
    {
      "cell_type": "code",
      "execution_count": null,
      "metadata": {
        "id": "U-izRg6obajk"
      },
      "outputs": [],
      "source": [
        "#remove redundant columns\n",
        "redund_cols = ['tuition_fees_to_pay', 'original_tuition_fee',\n",
        "               'accomodation_to_pay', 'tuition_covered',\n",
        "               'accomodation_duration', 'expense_to_pay', 'expense_duration',\n",
        "              \"school_id\", \"major\", \"city\"] #'tuition_covered', add/remove tuition covered to/from the features\n",
        "newdata = newdata.drop(columns=redund_cols)"
      ]
    },
    {
      "cell_type": "code",
      "execution_count": null,
      "metadata": {
        "colab": {
          "base_uri": "https://localhost:8080/",
          "height": 641
        },
        "id": "IK6oKIe9bkWd",
        "outputId": "2403b637-2285-4855-ea87-fd934d2cf0a9"
      },
      "outputs": [
        {
          "data": {
            "text/html": [
              "\n",
              "  <div id=\"df-e3c31faa-9b44-41ef-a6b8-852429b568db\">\n",
              "    <div class=\"colab-df-container\">\n",
              "      <div>\n",
              "<style scoped>\n",
              "    .dataframe tbody tr th:only-of-type {\n",
              "        vertical-align: middle;\n",
              "    }\n",
              "\n",
              "    .dataframe tbody tr th {\n",
              "        vertical-align: top;\n",
              "    }\n",
              "\n",
              "    .dataframe thead th {\n",
              "        text-align: right;\n",
              "    }\n",
              "</style>\n",
              "<table border=\"1\" class=\"dataframe\">\n",
              "  <thead>\n",
              "    <tr style=\"text-align: right;\">\n",
              "      <th></th>\n",
              "      <th>university</th>\n",
              "      <th>district</th>\n",
              "      <th>level</th>\n",
              "      <th>language</th>\n",
              "      <th>accomodation_covered</th>\n",
              "      <th>living_expense_covered</th>\n",
              "      <th>start_month</th>\n",
              "      <th>start_year</th>\n",
              "      <th>total_expense</th>\n",
              "    </tr>\n",
              "  </thead>\n",
              "  <tbody>\n",
              "    <tr>\n",
              "      <th>0</th>\n",
              "      <td>Shanghai University of Traditional Chinese Med...</td>\n",
              "      <td>Xuhui</td>\n",
              "      <td>Non-Degree</td>\n",
              "      <td>English</td>\n",
              "      <td>0</td>\n",
              "      <td>0</td>\n",
              "      <td>Jun</td>\n",
              "      <td>2020</td>\n",
              "      <td>10750</td>\n",
              "    </tr>\n",
              "    <tr>\n",
              "      <th>1</th>\n",
              "      <td>Changchun University of Science and Technology</td>\n",
              "      <td>Chaoyang</td>\n",
              "      <td>Non-Degree</td>\n",
              "      <td>Chinese</td>\n",
              "      <td>0</td>\n",
              "      <td>0</td>\n",
              "      <td>Sep</td>\n",
              "      <td>2019</td>\n",
              "      <td>13000</td>\n",
              "    </tr>\n",
              "    <tr>\n",
              "      <th>2</th>\n",
              "      <td>Changchun University of Science and Technology</td>\n",
              "      <td>Chaoyang</td>\n",
              "      <td>Non-Degree</td>\n",
              "      <td>Chinese</td>\n",
              "      <td>0</td>\n",
              "      <td>0</td>\n",
              "      <td>Sep</td>\n",
              "      <td>2019</td>\n",
              "      <td>13000</td>\n",
              "    </tr>\n",
              "    <tr>\n",
              "      <th>3</th>\n",
              "      <td>Changchun University of Science and Technology</td>\n",
              "      <td>Chaoyang</td>\n",
              "      <td>Non-Degree</td>\n",
              "      <td>Chinese</td>\n",
              "      <td>0</td>\n",
              "      <td>0</td>\n",
              "      <td>Sep</td>\n",
              "      <td>2019</td>\n",
              "      <td>13000</td>\n",
              "    </tr>\n",
              "    <tr>\n",
              "      <th>4</th>\n",
              "      <td>Qingdao University</td>\n",
              "      <td>Qingdao</td>\n",
              "      <td>Non-Degree</td>\n",
              "      <td>Chinese</td>\n",
              "      <td>1</td>\n",
              "      <td>1</td>\n",
              "      <td>Sep</td>\n",
              "      <td>2019</td>\n",
              "      <td>0</td>\n",
              "    </tr>\n",
              "    <tr>\n",
              "      <th>...</th>\n",
              "      <td>...</td>\n",
              "      <td>...</td>\n",
              "      <td>...</td>\n",
              "      <td>...</td>\n",
              "      <td>...</td>\n",
              "      <td>...</td>\n",
              "      <td>...</td>\n",
              "      <td>...</td>\n",
              "      <td>...</td>\n",
              "    </tr>\n",
              "    <tr>\n",
              "      <th>3571</th>\n",
              "      <td>East China University of Science and Technology</td>\n",
              "      <td>Xuhui District</td>\n",
              "      <td>Phd</td>\n",
              "      <td>English</td>\n",
              "      <td>1</td>\n",
              "      <td>1</td>\n",
              "      <td>Sep</td>\n",
              "      <td>2019</td>\n",
              "      <td>0</td>\n",
              "    </tr>\n",
              "    <tr>\n",
              "      <th>3572</th>\n",
              "      <td>East China University of Science and Technology</td>\n",
              "      <td>Xuhui District</td>\n",
              "      <td>Phd</td>\n",
              "      <td>English</td>\n",
              "      <td>1</td>\n",
              "      <td>1</td>\n",
              "      <td>Sep</td>\n",
              "      <td>2019</td>\n",
              "      <td>0</td>\n",
              "    </tr>\n",
              "    <tr>\n",
              "      <th>3573</th>\n",
              "      <td>East China University of Science and Technology</td>\n",
              "      <td>Xuhui District</td>\n",
              "      <td>Phd</td>\n",
              "      <td>English</td>\n",
              "      <td>1</td>\n",
              "      <td>1</td>\n",
              "      <td>Sep</td>\n",
              "      <td>2019</td>\n",
              "      <td>0</td>\n",
              "    </tr>\n",
              "    <tr>\n",
              "      <th>3574</th>\n",
              "      <td>East China University of Science and Technology</td>\n",
              "      <td>Xuhui District</td>\n",
              "      <td>Phd</td>\n",
              "      <td>English</td>\n",
              "      <td>1</td>\n",
              "      <td>1</td>\n",
              "      <td>Sep</td>\n",
              "      <td>2019</td>\n",
              "      <td>0</td>\n",
              "    </tr>\n",
              "    <tr>\n",
              "      <th>3575</th>\n",
              "      <td>East China University of Science and Technology</td>\n",
              "      <td>Xuhui District</td>\n",
              "      <td>Phd</td>\n",
              "      <td>English</td>\n",
              "      <td>1</td>\n",
              "      <td>1</td>\n",
              "      <td>Sep</td>\n",
              "      <td>2019</td>\n",
              "      <td>0</td>\n",
              "    </tr>\n",
              "  </tbody>\n",
              "</table>\n",
              "<p>3576 rows × 9 columns</p>\n",
              "</div>\n",
              "      <button class=\"colab-df-convert\" onclick=\"convertToInteractive('df-e3c31faa-9b44-41ef-a6b8-852429b568db')\"\n",
              "              title=\"Convert this dataframe to an interactive table.\"\n",
              "              style=\"display:none;\">\n",
              "        \n",
              "  <svg xmlns=\"http://www.w3.org/2000/svg\" height=\"24px\"viewBox=\"0 0 24 24\"\n",
              "       width=\"24px\">\n",
              "    <path d=\"M0 0h24v24H0V0z\" fill=\"none\"/>\n",
              "    <path d=\"M18.56 5.44l.94 2.06.94-2.06 2.06-.94-2.06-.94-.94-2.06-.94 2.06-2.06.94zm-11 1L8.5 8.5l.94-2.06 2.06-.94-2.06-.94L8.5 2.5l-.94 2.06-2.06.94zm10 10l.94 2.06.94-2.06 2.06-.94-2.06-.94-.94-2.06-.94 2.06-2.06.94z\"/><path d=\"M17.41 7.96l-1.37-1.37c-.4-.4-.92-.59-1.43-.59-.52 0-1.04.2-1.43.59L10.3 9.45l-7.72 7.72c-.78.78-.78 2.05 0 2.83L4 21.41c.39.39.9.59 1.41.59.51 0 1.02-.2 1.41-.59l7.78-7.78 2.81-2.81c.8-.78.8-2.07 0-2.86zM5.41 20L4 18.59l7.72-7.72 1.47 1.35L5.41 20z\"/>\n",
              "  </svg>\n",
              "      </button>\n",
              "      \n",
              "  <style>\n",
              "    .colab-df-container {\n",
              "      display:flex;\n",
              "      flex-wrap:wrap;\n",
              "      gap: 12px;\n",
              "    }\n",
              "\n",
              "    .colab-df-convert {\n",
              "      background-color: #E8F0FE;\n",
              "      border: none;\n",
              "      border-radius: 50%;\n",
              "      cursor: pointer;\n",
              "      display: none;\n",
              "      fill: #1967D2;\n",
              "      height: 32px;\n",
              "      padding: 0 0 0 0;\n",
              "      width: 32px;\n",
              "    }\n",
              "\n",
              "    .colab-df-convert:hover {\n",
              "      background-color: #E2EBFA;\n",
              "      box-shadow: 0px 1px 2px rgba(60, 64, 67, 0.3), 0px 1px 3px 1px rgba(60, 64, 67, 0.15);\n",
              "      fill: #174EA6;\n",
              "    }\n",
              "\n",
              "    [theme=dark] .colab-df-convert {\n",
              "      background-color: #3B4455;\n",
              "      fill: #D2E3FC;\n",
              "    }\n",
              "\n",
              "    [theme=dark] .colab-df-convert:hover {\n",
              "      background-color: #434B5C;\n",
              "      box-shadow: 0px 1px 3px 1px rgba(0, 0, 0, 0.15);\n",
              "      filter: drop-shadow(0px 1px 2px rgba(0, 0, 0, 0.3));\n",
              "      fill: #FFFFFF;\n",
              "    }\n",
              "  </style>\n",
              "\n",
              "      <script>\n",
              "        const buttonEl =\n",
              "          document.querySelector('#df-e3c31faa-9b44-41ef-a6b8-852429b568db button.colab-df-convert');\n",
              "        buttonEl.style.display =\n",
              "          google.colab.kernel.accessAllowed ? 'block' : 'none';\n",
              "\n",
              "        async function convertToInteractive(key) {\n",
              "          const element = document.querySelector('#df-e3c31faa-9b44-41ef-a6b8-852429b568db');\n",
              "          const dataTable =\n",
              "            await google.colab.kernel.invokeFunction('convertToInteractive',\n",
              "                                                     [key], {});\n",
              "          if (!dataTable) return;\n",
              "\n",
              "          const docLinkHtml = 'Like what you see? Visit the ' +\n",
              "            '<a target=\"_blank\" href=https://colab.research.google.com/notebooks/data_table.ipynb>data table notebook</a>'\n",
              "            + ' to learn more about interactive tables.';\n",
              "          element.innerHTML = '';\n",
              "          dataTable['output_type'] = 'display_data';\n",
              "          await google.colab.output.renderOutput(dataTable, element);\n",
              "          const docLink = document.createElement('div');\n",
              "          docLink.innerHTML = docLinkHtml;\n",
              "          element.appendChild(docLink);\n",
              "        }\n",
              "      </script>\n",
              "    </div>\n",
              "  </div>\n",
              "  "
            ],
            "text/plain": [
              "                                             university        district  \\\n",
              "0     Shanghai University of Traditional Chinese Med...           Xuhui   \n",
              "1        Changchun University of Science and Technology       Chaoyang    \n",
              "2        Changchun University of Science and Technology       Chaoyang    \n",
              "3        Changchun University of Science and Technology       Chaoyang    \n",
              "4                                    Qingdao University         Qingdao   \n",
              "...                                                 ...             ...   \n",
              "3571    East China University of Science and Technology  Xuhui District   \n",
              "3572    East China University of Science and Technology  Xuhui District   \n",
              "3573    East China University of Science and Technology  Xuhui District   \n",
              "3574    East China University of Science and Technology  Xuhui District   \n",
              "3575    East China University of Science and Technology  Xuhui District   \n",
              "\n",
              "           level language  accomodation_covered  living_expense_covered  \\\n",
              "0     Non-Degree  English                     0                       0   \n",
              "1     Non-Degree  Chinese                     0                       0   \n",
              "2     Non-Degree  Chinese                     0                       0   \n",
              "3     Non-Degree  Chinese                     0                       0   \n",
              "4     Non-Degree  Chinese                     1                       1   \n",
              "...          ...      ...                   ...                     ...   \n",
              "3571         Phd  English                     1                       1   \n",
              "3572         Phd  English                     1                       1   \n",
              "3573         Phd  English                     1                       1   \n",
              "3574         Phd  English                     1                       1   \n",
              "3575         Phd  English                     1                       1   \n",
              "\n",
              "     start_month  start_year  total_expense  \n",
              "0            Jun        2020          10750  \n",
              "1            Sep        2019          13000  \n",
              "2            Sep        2019          13000  \n",
              "3            Sep        2019          13000  \n",
              "4            Sep        2019              0  \n",
              "...          ...         ...            ...  \n",
              "3571         Sep        2019              0  \n",
              "3572         Sep        2019              0  \n",
              "3573         Sep        2019              0  \n",
              "3574         Sep        2019              0  \n",
              "3575         Sep        2019              0  \n",
              "\n",
              "[3576 rows x 9 columns]"
            ]
          },
          "execution_count": 71,
          "metadata": {},
          "output_type": "execute_result"
        }
      ],
      "source": [
        "newdata"
      ]
    },
    {
      "cell_type": "markdown",
      "metadata": {
        "id": "vJzeLZp7brt4"
      },
      "source": [
        "### Inspect columns in new data"
      ]
    },
    {
      "cell_type": "code",
      "execution_count": null,
      "metadata": {
        "colab": {
          "base_uri": "https://localhost:8080/"
        },
        "id": "AhkZSWHibmWN",
        "outputId": "3d32fcf9-4269-412b-dbcc-9ddd28f128de"
      },
      "outputs": [
        {
          "name": "stdout",
          "output_type": "stream",
          "text": [
            "<class 'pandas.core.frame.DataFrame'>\n",
            "RangeIndex: 3576 entries, 0 to 3575\n",
            "Data columns (total 9 columns):\n",
            " #   Column                  Non-Null Count  Dtype \n",
            "---  ------                  --------------  ----- \n",
            " 0   university              3576 non-null   object\n",
            " 1   district                3576 non-null   object\n",
            " 2   level                   3576 non-null   object\n",
            " 3   language                3576 non-null   object\n",
            " 4   accomodation_covered    3576 non-null   int64 \n",
            " 5   living_expense_covered  3576 non-null   int64 \n",
            " 6   start_month             3576 non-null   object\n",
            " 7   start_year              3576 non-null   int64 \n",
            " 8   total_expense           3576 non-null   int64 \n",
            "dtypes: int64(4), object(5)\n",
            "memory usage: 251.6+ KB\n"
          ]
        }
      ],
      "source": [
        "newdata.info()"
      ]
    },
    {
      "cell_type": "code",
      "execution_count": null,
      "metadata": {
        "colab": {
          "base_uri": "https://localhost:8080/"
        },
        "id": "e2SX-YpebuuK",
        "outputId": "483efc16-509e-4ad8-8950-86b52c6735ec"
      },
      "outputs": [
        {
          "data": {
            "text/plain": [
              "40"
            ]
          },
          "execution_count": 73,
          "metadata": {},
          "output_type": "execute_result"
        }
      ],
      "source": [
        "newdata[\"district\"].nunique()"
      ]
    },
    {
      "cell_type": "code",
      "execution_count": null,
      "metadata": {
        "colab": {
          "base_uri": "https://localhost:8080/"
        },
        "id": "hByY2mLtbxPZ",
        "outputId": "62cd9fe9-77af-4abd-e365-f5ecfe35f0d3"
      },
      "outputs": [
        {
          "data": {
            "text/plain": [
              "array(['Xuhui', 'Chaoyang ', 'Qingdao', 'Zhongyuan', 'Xicheng Qu',\n",
              "       'Jiangbei ', 'Shinan', 'Changping', 'Haidian', \"Lin'an\", 'Nankai',\n",
              "       'Nanchang', 'Xinbei', \"Chang'an\", 'Wuhan', 'Licheng', 'Wucheng',\n",
              "       'Chaoyang', 'Fuchen', 'Tiexi', 'Dongxihu', 'Tianhe', 'Zhenjiang',\n",
              "       'Xihu', 'Shahekou', 'Yangpu', 'Longfeng', 'Yunlong', 'Huanggu',\n",
              "       'Xuzhou', 'Nanjing', 'Hexi', 'Siping', ' Fengxian', 'Jinping',\n",
              "       'Dongguan', 'Yuzhong', 'Baoji', 'Licheng District',\n",
              "       'Xuhui District'], dtype=object)"
            ]
          },
          "execution_count": 74,
          "metadata": {},
          "output_type": "execute_result"
        }
      ],
      "source": [
        "newdata[\"district\"].unique()"
      ]
    },
    {
      "cell_type": "code",
      "execution_count": null,
      "metadata": {
        "id": "_I-0QbsRb0Zc"
      },
      "outputs": [],
      "source": [
        "newdata = newdata.replace(\"Licheng District\", \"Licheng\")\n",
        "newdata = newdata.replace(\"Xuhui District\", \"Xuhui\")"
      ]
    },
    {
      "cell_type": "code",
      "execution_count": null,
      "metadata": {
        "colab": {
          "base_uri": "https://localhost:8080/"
        },
        "id": "Is3rr20mb3mB",
        "outputId": "d0a0f2bc-0254-4575-e33e-1eccb81be028"
      },
      "outputs": [
        {
          "data": {
            "text/plain": [
              "38"
            ]
          },
          "execution_count": 76,
          "metadata": {},
          "output_type": "execute_result"
        }
      ],
      "source": [
        "newdata[\"district\"].nunique()"
      ]
    },
    {
      "cell_type": "markdown",
      "metadata": {
        "id": "qTG8ad87b7KW"
      },
      "source": [
        "There are 38 unique disricts, we could predict total expense based on district."
      ]
    },
    {
      "cell_type": "code",
      "execution_count": null,
      "metadata": {
        "colab": {
          "base_uri": "https://localhost:8080/"
        },
        "id": "FJpUZB80b5JZ",
        "outputId": "8e865daa-3497-4cca-ce74-e23c19073822"
      },
      "outputs": [
        {
          "data": {
            "text/plain": [
              "array(['Non-Degree', 'Bachelor', 'Master', 'Phd'], dtype=object)"
            ]
          },
          "execution_count": 77,
          "metadata": {},
          "output_type": "execute_result"
        }
      ],
      "source": [
        "newdata[\"level\"].unique()"
      ]
    },
    {
      "cell_type": "code",
      "execution_count": null,
      "metadata": {
        "colab": {
          "base_uri": "https://localhost:8080/"
        },
        "id": "-zFS2IRib-nu",
        "outputId": "0c6339c1-2d99-4472-f9b9-15a2e3da43f3"
      },
      "outputs": [
        {
          "data": {
            "text/plain": [
              "53"
            ]
          },
          "execution_count": 78,
          "metadata": {},
          "output_type": "execute_result"
        }
      ],
      "source": [
        "newdata[\"university\"].nunique()"
      ]
    },
    {
      "cell_type": "code",
      "execution_count": null,
      "metadata": {
        "colab": {
          "base_uri": "https://localhost:8080/"
        },
        "id": "jgtU8J0qcAIb",
        "outputId": "04dd6010-d96d-4f9a-ca88-cdd36cd50593"
      },
      "outputs": [
        {
          "data": {
            "text/plain": [
              "array(['English', 'Chinese', 'Japanese', 'German'], dtype=object)"
            ]
          },
          "execution_count": 79,
          "metadata": {},
          "output_type": "execute_result"
        }
      ],
      "source": [
        "newdata[\"language\"].unique()"
      ]
    },
    {
      "cell_type": "code",
      "execution_count": null,
      "metadata": {
        "colab": {
          "base_uri": "https://localhost:8080/"
        },
        "id": "bjHpDylZcDL2",
        "outputId": "4861e85b-44f1-4c01-8dc3-7cfd7a0ca84f"
      },
      "outputs": [
        {
          "data": {
            "text/plain": [
              "5"
            ]
          },
          "execution_count": 80,
          "metadata": {},
          "output_type": "execute_result"
        }
      ],
      "source": [
        "newdata[\"start_month\"].nunique()"
      ]
    },
    {
      "cell_type": "code",
      "execution_count": null,
      "metadata": {
        "colab": {
          "base_uri": "https://localhost:8080/"
        },
        "id": "M64r5xGtcGV4",
        "outputId": "47e0f1d8-4114-4d54-ff5b-fbf0b6fa5d4f"
      },
      "outputs": [
        {
          "data": {
            "text/plain": [
              "2"
            ]
          },
          "execution_count": 81,
          "metadata": {},
          "output_type": "execute_result"
        }
      ],
      "source": [
        "newdata[\"start_year\"].nunique()"
      ]
    },
    {
      "cell_type": "markdown",
      "metadata": {
        "id": "9V0vGkJqcKz7"
      },
      "source": [
        "## Modelling"
      ]
    },
    {
      "cell_type": "code",
      "execution_count": null,
      "metadata": {
        "id": "hxdijsYAcIDx"
      },
      "outputs": [],
      "source": [
        "# Let us define the predictor columns and the target column \n",
        "# X is the predictor\n",
        "# y is the target variable\n",
        "X = newdata.drop(['total_expense'], axis = 1)\n",
        "y = newdata['total_expense']"
      ]
    },
    {
      "cell_type": "code",
      "execution_count": null,
      "metadata": {
        "colab": {
          "base_uri": "https://localhost:8080/"
        },
        "id": "IR6i6LFScNQD",
        "outputId": "7bea3e97-b09a-4124-8e68-6f8d003af1c7"
      },
      "outputs": [
        {
          "name": "stdout",
          "output_type": "stream",
          "text": [
            "['university', 'district', 'level', 'language', 'start_month']\n",
            "['accomodation_covered', 'living_expense_covered', 'start_year']\n"
          ]
        }
      ],
      "source": [
        "# Here we are differentiating between the columns that are objects and the ones that are not\n",
        "obj_cols = list(X.select_dtypes(include = 'object').columns)\n",
        "num_cols = list(X.select_dtypes(exclude = 'object').columns)\n",
        "print(obj_cols)\n",
        "print(num_cols)"
      ]
    },
    {
      "cell_type": "code",
      "execution_count": null,
      "metadata": {
        "colab": {
          "base_uri": "https://localhost:8080/"
        },
        "id": "L4QrVyPycQVS",
        "outputId": "c68e2d9d-74fa-4a2d-aa07-b634365b78cc"
      },
      "outputs": [
        {
          "name": "stdout",
          "output_type": "stream",
          "text": [
            "<class 'pandas.core.frame.DataFrame'>\n",
            "RangeIndex: 3576 entries, 0 to 3575\n",
            "Data columns (total 8 columns):\n",
            " #   Column                  Non-Null Count  Dtype \n",
            "---  ------                  --------------  ----- \n",
            " 0   university              3576 non-null   object\n",
            " 1   district                3576 non-null   object\n",
            " 2   level                   3576 non-null   object\n",
            " 3   language                3576 non-null   object\n",
            " 4   accomodation_covered    3576 non-null   int64 \n",
            " 5   living_expense_covered  3576 non-null   int64 \n",
            " 6   start_month             3576 non-null   object\n",
            " 7   start_year              3576 non-null   int64 \n",
            "dtypes: int64(3), object(5)\n",
            "memory usage: 223.6+ KB\n"
          ]
        }
      ],
      "source": [
        "X.info()"
      ]
    },
    {
      "cell_type": "code",
      "execution_count": null,
      "metadata": {
        "colab": {
          "base_uri": "https://localhost:8080/"
        },
        "id": "9WyU5MjOcUTe",
        "outputId": "b9489999-e912-4a00-d458-13b314bffbbc"
      },
      "outputs": [
        {
          "name": "stdout",
          "output_type": "stream",
          "text": [
            "Train size: \n",
            "xtrain: (2503, 8)\n",
            "ytrain: (2503,) \n",
            "\n",
            "Test size: \n",
            "xtest: (1073, 8)\n",
            "ytest: (1073,)\n"
          ]
        }
      ],
      "source": [
        "#Split into train and validation\n",
        "X_train, X_test, y_train, y_test = train_test_split(X, y, \n",
        "                                                      test_size=0.3,\n",
        "                                                    random_state=42)\n",
        "\n",
        "print(f\"Train size: \\nxtrain: {X_train.shape}\\nytrain: {y_train.shape}\",\n",
        "      f\"\\n\\nTest size: \\nxtest: {X_test.shape}\\nytest: {y_test.shape}\")"
      ]
    },
    {
      "cell_type": "code",
      "execution_count": null,
      "metadata": {
        "id": "nqB7-1a0cXyD"
      },
      "outputs": [],
      "source": [
        "# Preprocessing for numerical data\n",
        "#data is filled with the mean value\n",
        "#data is scaled with MinMaxScaler\n",
        "numerical_transformer = Pipeline(steps=[(\"impute\", SimpleImputer(strategy=\"mean\")), \n",
        "                                        ('scale', MinMaxScaler())])\n",
        "\n",
        "# Preprocessing for categorical data\n",
        "#data is encoded with OrdinalEncoder\n",
        "#data is scaled with MinMaxScaler\n",
        "categorical_transformer = Pipeline(steps=[\n",
        "    ('label_enc', OrdinalEncoder(handle_unknown=\"use_encoded_value\", unknown_value=100)), ('scale', MinMaxScaler())])  \n",
        "#Changed to Ordinal Encoder to reduce dimensions\n",
        "\n",
        "# Bundle preprocessing for numerical and categorical data\n",
        "preprocessor = ColumnTransformer(\n",
        "    transformers=[('num', numerical_transformer, num_cols),\n",
        "        ('cat', categorical_transformer, obj_cols)])"
      ]
    },
    {
      "cell_type": "markdown",
      "metadata": {
        "id": "8gnkvIX3cfuK"
      },
      "source": [
        "### Random Forest"
      ]
    },
    {
      "cell_type": "code",
      "execution_count": null,
      "metadata": {
        "colab": {
          "base_uri": "https://localhost:8080/"
        },
        "id": "ed0m53uMccOR",
        "outputId": "4404b6c8-ff88-4083-dd77-cebddaa8345b"
      },
      "outputs": [
        {
          "name": "stdout",
          "output_type": "stream",
          "text": [
            "MAE scores:\n",
            " [ -931.1729949  -1011.78464159 -1320.36938546  -932.28402963\n",
            "  -781.53770207]\n",
            "-995.4297507304152\n"
          ]
        }
      ],
      "source": [
        "model = RandomForestRegressor()\n",
        "\n",
        "# Bundle preprocessing and modeling code in a pipeline\n",
        "rf_clf = Pipeline(steps=[('preprocessor', preprocessor),\n",
        "                      ('model', model) ])\n",
        "\n",
        "scores = cross_val_score(rf_clf, X_train, y_train, cv=5,\n",
        "                        scoring='neg_mean_absolute_error')\n",
        "print(\"MAE scores:\\n\", scores)\n",
        "print(scores.mean())"
      ]
    },
    {
      "cell_type": "code",
      "execution_count": null,
      "metadata": {
        "colab": {
          "base_uri": "https://localhost:8080/"
        },
        "id": "6-Zt2lWBckrO",
        "outputId": "274ffe37-e7a7-41ba-bb57-ed41b8683301"
      },
      "outputs": [
        {
          "data": {
            "text/plain": [
              "0.932504122222901"
            ]
          },
          "execution_count": 88,
          "metadata": {},
          "output_type": "execute_result"
        }
      ],
      "source": [
        "rf_clf.fit(X_train, y_train)\n",
        "rf_clf.score(X_test, y_test)"
      ]
    },
    {
      "cell_type": "code",
      "execution_count": null,
      "metadata": {
        "id": "d1RDghlYcnrT"
      },
      "outputs": [],
      "source": [
        "def rf_score(params):\n",
        "    model = RandomForestRegressor(n_jobs=-1, **params)\n",
        "    pipe = Pipeline(steps=[('preprocessor', preprocessor),\n",
        "                      ('model', model)])\n",
        "    mae = -1 * cross_val_score(pipe, X_train, y_train, cv=5,\n",
        "                        scoring='neg_mean_absolute_error').mean()\n",
        "    return mae\n",
        "\n",
        "\n",
        "def rf_objective(trial):\n",
        "    params = {\n",
        "                \"criterion\" : trial.suggest_categorical(\"criterion\", [\"mse\", \"mae\"]),\n",
        "                \"n_estimators\" : trial.suggest_int('n_estimators', 1, 1000),\n",
        "                'max_depth':trial.suggest_int('max_depth', 1, 7),\n",
        "             }\n",
        "    return(rf_score(params))\n",
        "\n",
        "\n",
        "def print_best_callback(study, trial):\n",
        "    print(f\"Best value: {study.best_value}\")"
      ]
    },
    {
      "cell_type": "code",
      "execution_count": null,
      "metadata": {
        "colab": {
          "base_uri": "https://localhost:8080/",
          "height": 414,
          "referenced_widgets": [
            "fdc4266b106745be971c3a4cab8f07bc",
            "fcf980db9e6c4ba4bfeeafb80c0ed25b",
            "003f1ab1f510449681e508bda7a789cf",
            "d65dfdc40e384bc9bab4cf55b39e81f8",
            "1a120f5136cd431786719aa5ed93b699",
            "3b5f37683ccc44cb8ec7b51494dfe8a8",
            "9f92c00d6bf1474b8d8681db4acff6f8",
            "f4f90d0528a541e283a6a6fcec426685",
            "08267a69209b48b9a61e187df9914f34",
            "064fb77e85bd453f8bbd5af7460613f6",
            "a6d2b5f9843b4be7ba739d4c37d2164d"
          ]
        },
        "id": "zKw59-PscqAd",
        "outputId": "6a805b99-b689-4459-db5e-e74ae9aa8366"
      },
      "outputs": [
        {
          "data": {
            "application/vnd.jupyter.widget-view+json": {
              "model_id": "fdc4266b106745be971c3a4cab8f07bc",
              "version_major": 2,
              "version_minor": 0
            },
            "text/plain": [
              "  0%|          | 0/20 [00:00<?, ?it/s]"
            ]
          },
          "metadata": {},
          "output_type": "display_data"
        },
        {
          "name": "stdout",
          "output_type": "stream",
          "text": [
            "Best value: 5843.01432322174\n",
            "Best value: 5843.01432322174\n",
            "Best value: 5096.011846073478\n",
            "Best value: 2682.7208786138026\n",
            "Best value: 1589.359787027039\n",
            "Best value: 1589.359787027039\n",
            "Best value: 1589.359787027039\n",
            "Best value: 1589.359787027039\n",
            "Best value: 1589.359787027039\n",
            "Best value: 1589.359787027039\n",
            "Best value: 1589.359787027039\n",
            "Best value: 1589.359787027039\n",
            "Best value: 1589.359787027039\n",
            "Best value: 1589.359787027039\n",
            "Best value: 1589.359787027039\n",
            "Best value: 1589.359787027039\n",
            "Best value: 1589.359787027039\n",
            "Best value: 1589.359787027039\n",
            "Best value: 1589.359787027039\n",
            "Best value: 1589.359787027039\n"
          ]
        },
        {
          "data": {
            "text/plain": [
              "{'criterion': 'mae', 'max_depth': 7, 'n_estimators': 366}"
            ]
          },
          "execution_count": 90,
          "metadata": {},
          "output_type": "execute_result"
        }
      ],
      "source": [
        "optuna.logging.set_verbosity(0)\n",
        "rf_study = optuna.create_study(direction='minimize',sampler=TPESampler())\n",
        "rf_study.optimize(rf_objective, n_trials= 20, show_progress_bar = True, callbacks=[print_best_callback])\n",
        "rf_best = rf_study.best_params\n",
        "rf_best"
      ]
    },
    {
      "cell_type": "code",
      "execution_count": null,
      "metadata": {
        "colab": {
          "base_uri": "https://localhost:8080/"
        },
        "id": "_lQh9D92ctmF",
        "outputId": "525ad0aa-3ddc-4f4a-a0ce-dfcbeb352517"
      },
      "outputs": [
        {
          "data": {
            "text/plain": [
              "0.9073874363764509"
            ]
          },
          "execution_count": 91,
          "metadata": {},
          "output_type": "execute_result"
        }
      ],
      "source": [
        "#tuned model\n",
        "rf_model = RandomForestRegressor(**rf_best)\n",
        "\n",
        "#retrain with full data\n",
        "rf_tuned_clf = Pipeline(steps=[('preprocessor', preprocessor),\n",
        "                      ('model', rf_model)])\n",
        "rf_tuned_clf.fit(X_train, y_train)\n",
        "rf_tuned_clf.score(X_test, y_test)"
      ]
    },
    {
      "cell_type": "markdown",
      "metadata": {
        "id": "E3oeNhaue02z"
      },
      "source": [
        "### XGBoost"
      ]
    },
    {
      "cell_type": "code",
      "execution_count": null,
      "metadata": {
        "colab": {
          "base_uri": "https://localhost:8080/"
        },
        "id": "ND9kUkWweyzI",
        "outputId": "9671cf4d-d2ad-4ed6-aa01-cd540542aaf4"
      },
      "outputs": [
        {
          "name": "stdout",
          "output_type": "stream",
          "text": [
            "[15:57:16] WARNING: /workspace/src/objective/regression_obj.cu:152: reg:linear is now deprecated in favor of reg:squarederror.\n",
            "[15:57:16] WARNING: /workspace/src/objective/regression_obj.cu:152: reg:linear is now deprecated in favor of reg:squarederror.\n",
            "[15:57:17] WARNING: /workspace/src/objective/regression_obj.cu:152: reg:linear is now deprecated in favor of reg:squarederror.\n",
            "[15:57:17] WARNING: /workspace/src/objective/regression_obj.cu:152: reg:linear is now deprecated in favor of reg:squarederror.\n",
            "[15:57:17] WARNING: /workspace/src/objective/regression_obj.cu:152: reg:linear is now deprecated in favor of reg:squarederror.\n",
            "MAE scores:\n",
            " [-2390.82574573 -2448.23041929 -2741.82701418 -2174.71176932\n",
            " -2287.61963834]\n",
            "-2408.6429173704105\n"
          ]
        }
      ],
      "source": [
        "model = XGBRegressor()\n",
        "\n",
        "# Bundle preprocessing and modeling code in a pipeline\n",
        "xg_clf = Pipeline(steps=[('preprocessor', preprocessor),\n",
        "                      ('model', model) ])\n",
        "\n",
        "scores = cross_val_score(xg_clf, X_train, y_train,\n",
        "                              cv=5,\n",
        "                              scoring='neg_mean_absolute_error')\n",
        "print(\"MAE scores:\\n\", scores)\n",
        "print(scores.mean())"
      ]
    },
    {
      "cell_type": "code",
      "execution_count": null,
      "metadata": {
        "colab": {
          "base_uri": "https://localhost:8080/"
        },
        "id": "-3YVT70gevcZ",
        "outputId": "07c6688f-7906-4711-b9f2-c06d6aacaad0"
      },
      "outputs": [
        {
          "name": "stdout",
          "output_type": "stream",
          "text": [
            "[15:57:18] WARNING: /workspace/src/objective/regression_obj.cu:152: reg:linear is now deprecated in favor of reg:squarederror.\n"
          ]
        },
        {
          "data": {
            "text/plain": [
              "0.9070982948947119"
            ]
          },
          "execution_count": 93,
          "metadata": {},
          "output_type": "execute_result"
        }
      ],
      "source": [
        "xg_clf.fit(X_train, y_train)\n",
        "xg_clf.score(X_test, y_test)"
      ]
    },
    {
      "cell_type": "markdown",
      "metadata": {
        "id": "9rIFrLlVe_61"
      },
      "source": [
        "### Tuning"
      ]
    },
    {
      "cell_type": "code",
      "execution_count": null,
      "metadata": {
        "id": "KUoPalPIfLZQ"
      },
      "outputs": [],
      "source": [
        "def xg_score(params):\n",
        "    model = XGBRegressor( **params)\n",
        "    pipe = Pipeline(steps=[('preprocessor', preprocessor),\n",
        "                      ('model', model)])\n",
        "    mae = -1 * cross_val_score(pipe, X_train, y_train, cv=5,\n",
        "                        scoring='neg_mean_absolute_error').mean()\n",
        "    return mae\n",
        "\n",
        "\n",
        "def xg_objective(trial):\n",
        "    params = {\n",
        "                \"n_estimators\" : trial.suggest_int('n_estimators', 0, 500),\n",
        "                'max_depth':trial.suggest_int('max_depth', 3, 5),\n",
        "                'reg_alpha':trial.suggest_uniform('reg_alpha',0,6),\n",
        "                'reg_lambda':trial.suggest_uniform('reg_lambda',0,2),\n",
        "                'min_child_weight':trial.suggest_int('min_child_weight',0,5),\n",
        "                'gamma':trial.suggest_uniform('gamma', 0, 4),\n",
        "                'learning_rate':trial.suggest_loguniform('learning_rate',0.05,0.5),\n",
        "                'colsample_bytree':trial.suggest_uniform('colsample_bytree',0.4,0.9),\n",
        "                'subsample':trial.suggest_uniform('subsample',0.4,0.9),\n",
        "                'nthread' : -1\n",
        "            }\n",
        "    return(xg_score(params))\n",
        "\n",
        "\n",
        "def print_best_callback(study, trial):\n",
        "    print(f\"Best value: {study.best_value}\")"
      ]
    },
    {
      "cell_type": "code",
      "execution_count": null,
      "metadata": {
        "colab": {
          "base_uri": "https://localhost:8080/",
          "height": 1000,
          "referenced_widgets": [
            "1bc759c132cc44759a6649308499f34a",
            "c777be89ed4e47958b785e17e05c5cd9",
            "6fcf6d68d49c47a3a84ce6c61957204d",
            "409d32ef845c408c8ea9d7a152884d30",
            "c209b291ead94179af64700f0957e62c",
            "f3cd446d4ebf47f996e22a0560c41416",
            "129d9c103f9f4813820fa212282b0157",
            "d66a1aee79b34cab86763edce4434b42",
            "0e4d96b04123486688116016882dd37c",
            "e974577750ce4c04bb80e5c9a0fc4f5f",
            "297c8e279e2d4aa79267cc39d05fa153"
          ]
        },
        "id": "gGdFZra9fQAA",
        "outputId": "d2ba5ab7-2d60-4323-c1d9-d5641d062964"
      },
      "outputs": [
        {
          "data": {
            "application/vnd.jupyter.widget-view+json": {
              "model_id": "1bc759c132cc44759a6649308499f34a",
              "version_major": 2,
              "version_minor": 0
            },
            "text/plain": [
              "  0%|          | 0/50 [00:00<?, ?it/s]"
            ]
          },
          "metadata": {},
          "output_type": "display_data"
        },
        {
          "name": "stdout",
          "output_type": "stream",
          "text": [
            "[15:57:28] WARNING: /workspace/src/objective/regression_obj.cu:152: reg:linear is now deprecated in favor of reg:squarederror.\n",
            "[15:57:29] WARNING: /workspace/src/objective/regression_obj.cu:152: reg:linear is now deprecated in favor of reg:squarederror.\n",
            "[15:57:29] WARNING: /workspace/src/objective/regression_obj.cu:152: reg:linear is now deprecated in favor of reg:squarederror.\n",
            "[15:57:29] WARNING: /workspace/src/objective/regression_obj.cu:152: reg:linear is now deprecated in favor of reg:squarederror.\n",
            "[15:57:29] WARNING: /workspace/src/objective/regression_obj.cu:152: reg:linear is now deprecated in favor of reg:squarederror.\n",
            "Best value: 1403.4392138360456\n",
            "[15:57:30] WARNING: /workspace/src/objective/regression_obj.cu:152: reg:linear is now deprecated in favor of reg:squarederror.\n",
            "[15:57:30] WARNING: /workspace/src/objective/regression_obj.cu:152: reg:linear is now deprecated in favor of reg:squarederror.\n",
            "[15:57:30] WARNING: /workspace/src/objective/regression_obj.cu:152: reg:linear is now deprecated in favor of reg:squarederror.\n",
            "[15:57:30] WARNING: /workspace/src/objective/regression_obj.cu:152: reg:linear is now deprecated in favor of reg:squarederror.\n",
            "[15:57:31] WARNING: /workspace/src/objective/regression_obj.cu:152: reg:linear is now deprecated in favor of reg:squarederror.\n",
            "Best value: 1342.4471579756107\n",
            "[15:57:31] WARNING: /workspace/src/objective/regression_obj.cu:152: reg:linear is now deprecated in favor of reg:squarederror.\n",
            "[15:57:32] WARNING: /workspace/src/objective/regression_obj.cu:152: reg:linear is now deprecated in favor of reg:squarederror.\n",
            "[15:57:32] WARNING: /workspace/src/objective/regression_obj.cu:152: reg:linear is now deprecated in favor of reg:squarederror.\n",
            "[15:57:33] WARNING: /workspace/src/objective/regression_obj.cu:152: reg:linear is now deprecated in favor of reg:squarederror.\n",
            "[15:57:33] WARNING: /workspace/src/objective/regression_obj.cu:152: reg:linear is now deprecated in favor of reg:squarederror.\n",
            "Best value: 1050.2536718976567\n",
            "[15:57:34] WARNING: /workspace/src/objective/regression_obj.cu:152: reg:linear is now deprecated in favor of reg:squarederror.\n",
            "[15:57:34] WARNING: /workspace/src/objective/regression_obj.cu:152: reg:linear is now deprecated in favor of reg:squarederror.\n",
            "[15:57:34] WARNING: /workspace/src/objective/regression_obj.cu:152: reg:linear is now deprecated in favor of reg:squarederror.\n",
            "[15:57:35] WARNING: /workspace/src/objective/regression_obj.cu:152: reg:linear is now deprecated in favor of reg:squarederror.\n",
            "[15:57:35] WARNING: /workspace/src/objective/regression_obj.cu:152: reg:linear is now deprecated in favor of reg:squarederror.\n",
            "Best value: 1050.2536718976567\n",
            "[15:57:35] WARNING: /workspace/src/objective/regression_obj.cu:152: reg:linear is now deprecated in favor of reg:squarederror.\n",
            "[15:57:35] WARNING: /workspace/src/objective/regression_obj.cu:152: reg:linear is now deprecated in favor of reg:squarederror.\n",
            "[15:57:35] WARNING: /workspace/src/objective/regression_obj.cu:152: reg:linear is now deprecated in favor of reg:squarederror.\n",
            "[15:57:35] WARNING: /workspace/src/objective/regression_obj.cu:152: reg:linear is now deprecated in favor of reg:squarederror.\n",
            "[15:57:35] WARNING: /workspace/src/objective/regression_obj.cu:152: reg:linear is now deprecated in favor of reg:squarederror.\n",
            "Best value: 1050.2536718976567\n",
            "[15:57:35] WARNING: /workspace/src/objective/regression_obj.cu:152: reg:linear is now deprecated in favor of reg:squarederror.\n",
            "[15:57:35] WARNING: /workspace/src/objective/regression_obj.cu:152: reg:linear is now deprecated in favor of reg:squarederror.\n",
            "[15:57:36] WARNING: /workspace/src/objective/regression_obj.cu:152: reg:linear is now deprecated in favor of reg:squarederror.\n",
            "[15:57:36] WARNING: /workspace/src/objective/regression_obj.cu:152: reg:linear is now deprecated in favor of reg:squarederror.\n",
            "[15:57:36] WARNING: /workspace/src/objective/regression_obj.cu:152: reg:linear is now deprecated in favor of reg:squarederror.\n",
            "Best value: 1050.2536718976567\n",
            "[15:57:36] WARNING: /workspace/src/objective/regression_obj.cu:152: reg:linear is now deprecated in favor of reg:squarederror.\n",
            "[15:57:36] WARNING: /workspace/src/objective/regression_obj.cu:152: reg:linear is now deprecated in favor of reg:squarederror.\n",
            "[15:57:36] WARNING: /workspace/src/objective/regression_obj.cu:152: reg:linear is now deprecated in favor of reg:squarederror.\n",
            "[15:57:37] WARNING: /workspace/src/objective/regression_obj.cu:152: reg:linear is now deprecated in favor of reg:squarederror.\n",
            "[15:57:37] WARNING: /workspace/src/objective/regression_obj.cu:152: reg:linear is now deprecated in favor of reg:squarederror.\n",
            "Best value: 1050.2536718976567\n",
            "[15:57:37] WARNING: /workspace/src/objective/regression_obj.cu:152: reg:linear is now deprecated in favor of reg:squarederror.\n",
            "[15:57:37] WARNING: /workspace/src/objective/regression_obj.cu:152: reg:linear is now deprecated in favor of reg:squarederror.\n",
            "[15:57:37] WARNING: /workspace/src/objective/regression_obj.cu:152: reg:linear is now deprecated in favor of reg:squarederror.\n",
            "[15:57:38] WARNING: /workspace/src/objective/regression_obj.cu:152: reg:linear is now deprecated in favor of reg:squarederror.\n",
            "[15:57:38] WARNING: /workspace/src/objective/regression_obj.cu:152: reg:linear is now deprecated in favor of reg:squarederror.\n",
            "Best value: 1050.2536718976567\n",
            "[15:57:38] WARNING: /workspace/src/objective/regression_obj.cu:152: reg:linear is now deprecated in favor of reg:squarederror.\n",
            "[15:57:38] WARNING: /workspace/src/objective/regression_obj.cu:152: reg:linear is now deprecated in favor of reg:squarederror.\n",
            "[15:57:39] WARNING: /workspace/src/objective/regression_obj.cu:152: reg:linear is now deprecated in favor of reg:squarederror.\n",
            "[15:57:39] WARNING: /workspace/src/objective/regression_obj.cu:152: reg:linear is now deprecated in favor of reg:squarederror.\n",
            "[15:57:39] WARNING: /workspace/src/objective/regression_obj.cu:152: reg:linear is now deprecated in favor of reg:squarederror.\n",
            "Best value: 1050.2536718976567\n",
            "[15:57:39] WARNING: /workspace/src/objective/regression_obj.cu:152: reg:linear is now deprecated in favor of reg:squarederror.\n",
            "[15:57:39] WARNING: /workspace/src/objective/regression_obj.cu:152: reg:linear is now deprecated in favor of reg:squarederror.\n",
            "[15:57:39] WARNING: /workspace/src/objective/regression_obj.cu:152: reg:linear is now deprecated in favor of reg:squarederror.\n",
            "[15:57:40] WARNING: /workspace/src/objective/regression_obj.cu:152: reg:linear is now deprecated in favor of reg:squarederror.\n",
            "[15:57:40] WARNING: /workspace/src/objective/regression_obj.cu:152: reg:linear is now deprecated in favor of reg:squarederror.\n",
            "Best value: 1050.2536718976567\n",
            "[15:57:40] WARNING: /workspace/src/objective/regression_obj.cu:152: reg:linear is now deprecated in favor of reg:squarederror.\n",
            "[15:57:40] WARNING: /workspace/src/objective/regression_obj.cu:152: reg:linear is now deprecated in favor of reg:squarederror.\n",
            "[15:57:41] WARNING: /workspace/src/objective/regression_obj.cu:152: reg:linear is now deprecated in favor of reg:squarederror.\n",
            "[15:57:42] WARNING: /workspace/src/objective/regression_obj.cu:152: reg:linear is now deprecated in favor of reg:squarederror.\n",
            "[15:57:42] WARNING: /workspace/src/objective/regression_obj.cu:152: reg:linear is now deprecated in favor of reg:squarederror.\n",
            "Best value: 1044.1379628871073\n",
            "[15:57:43] WARNING: /workspace/src/objective/regression_obj.cu:152: reg:linear is now deprecated in favor of reg:squarederror.\n",
            "[15:57:43] WARNING: /workspace/src/objective/regression_obj.cu:152: reg:linear is now deprecated in favor of reg:squarederror.\n",
            "[15:57:44] WARNING: /workspace/src/objective/regression_obj.cu:152: reg:linear is now deprecated in favor of reg:squarederror.\n",
            "[15:57:45] WARNING: /workspace/src/objective/regression_obj.cu:152: reg:linear is now deprecated in favor of reg:squarederror.\n",
            "[15:57:46] WARNING: /workspace/src/objective/regression_obj.cu:152: reg:linear is now deprecated in favor of reg:squarederror.\n",
            "Best value: 1044.1379628871073\n",
            "[15:57:47] WARNING: /workspace/src/objective/regression_obj.cu:152: reg:linear is now deprecated in favor of reg:squarederror.\n",
            "[15:57:48] WARNING: /workspace/src/objective/regression_obj.cu:152: reg:linear is now deprecated in favor of reg:squarederror.\n",
            "[15:57:49] WARNING: /workspace/src/objective/regression_obj.cu:152: reg:linear is now deprecated in favor of reg:squarederror.\n",
            "[15:57:50] WARNING: /workspace/src/objective/regression_obj.cu:152: reg:linear is now deprecated in favor of reg:squarederror.\n",
            "[15:57:51] WARNING: /workspace/src/objective/regression_obj.cu:152: reg:linear is now deprecated in favor of reg:squarederror.\n",
            "Best value: 1037.2141585216352\n",
            "[15:57:52] WARNING: /workspace/src/objective/regression_obj.cu:152: reg:linear is now deprecated in favor of reg:squarederror.\n",
            "[15:57:53] WARNING: /workspace/src/objective/regression_obj.cu:152: reg:linear is now deprecated in favor of reg:squarederror.\n",
            "[15:57:54] WARNING: /workspace/src/objective/regression_obj.cu:152: reg:linear is now deprecated in favor of reg:squarederror.\n",
            "[15:57:54] WARNING: /workspace/src/objective/regression_obj.cu:152: reg:linear is now deprecated in favor of reg:squarederror.\n",
            "[15:57:55] WARNING: /workspace/src/objective/regression_obj.cu:152: reg:linear is now deprecated in favor of reg:squarederror.\n",
            "Best value: 1037.2141585216352\n",
            "[15:57:56] WARNING: /workspace/src/objective/regression_obj.cu:152: reg:linear is now deprecated in favor of reg:squarederror.\n",
            "[15:57:56] WARNING: /workspace/src/objective/regression_obj.cu:152: reg:linear is now deprecated in favor of reg:squarederror.\n",
            "[15:57:57] WARNING: /workspace/src/objective/regression_obj.cu:152: reg:linear is now deprecated in favor of reg:squarederror.\n",
            "[15:57:57] WARNING: /workspace/src/objective/regression_obj.cu:152: reg:linear is now deprecated in favor of reg:squarederror.\n",
            "[15:57:58] WARNING: /workspace/src/objective/regression_obj.cu:152: reg:linear is now deprecated in favor of reg:squarederror.\n",
            "Best value: 1037.2141585216352\n",
            "[15:57:58] WARNING: /workspace/src/objective/regression_obj.cu:152: reg:linear is now deprecated in favor of reg:squarederror.\n",
            "[15:57:59] WARNING: /workspace/src/objective/regression_obj.cu:152: reg:linear is now deprecated in favor of reg:squarederror.\n",
            "[15:57:59] WARNING: /workspace/src/objective/regression_obj.cu:152: reg:linear is now deprecated in favor of reg:squarederror.\n",
            "[15:58:00] WARNING: /workspace/src/objective/regression_obj.cu:152: reg:linear is now deprecated in favor of reg:squarederror.\n",
            "[15:58:01] WARNING: /workspace/src/objective/regression_obj.cu:152: reg:linear is now deprecated in favor of reg:squarederror.\n",
            "Best value: 1037.2141585216352\n",
            "[15:58:01] WARNING: /workspace/src/objective/regression_obj.cu:152: reg:linear is now deprecated in favor of reg:squarederror.\n",
            "[15:58:02] WARNING: /workspace/src/objective/regression_obj.cu:152: reg:linear is now deprecated in favor of reg:squarederror.\n",
            "[15:58:03] WARNING: /workspace/src/objective/regression_obj.cu:152: reg:linear is now deprecated in favor of reg:squarederror.\n",
            "[15:58:04] WARNING: /workspace/src/objective/regression_obj.cu:152: reg:linear is now deprecated in favor of reg:squarederror.\n",
            "[15:58:05] WARNING: /workspace/src/objective/regression_obj.cu:152: reg:linear is now deprecated in favor of reg:squarederror.\n",
            "Best value: 1037.2141585216352\n",
            "[15:58:06] WARNING: /workspace/src/objective/regression_obj.cu:152: reg:linear is now deprecated in favor of reg:squarederror.\n",
            "[15:58:06] WARNING: /workspace/src/objective/regression_obj.cu:152: reg:linear is now deprecated in favor of reg:squarederror.\n",
            "[15:58:07] WARNING: /workspace/src/objective/regression_obj.cu:152: reg:linear is now deprecated in favor of reg:squarederror.\n",
            "[15:58:07] WARNING: /workspace/src/objective/regression_obj.cu:152: reg:linear is now deprecated in favor of reg:squarederror.\n",
            "[15:58:07] WARNING: /workspace/src/objective/regression_obj.cu:152: reg:linear is now deprecated in favor of reg:squarederror.\n",
            "Best value: 1037.2141585216352\n",
            "[15:58:08] WARNING: /workspace/src/objective/regression_obj.cu:152: reg:linear is now deprecated in favor of reg:squarederror.\n",
            "[15:58:08] WARNING: /workspace/src/objective/regression_obj.cu:152: reg:linear is now deprecated in favor of reg:squarederror.\n",
            "[15:58:09] WARNING: /workspace/src/objective/regression_obj.cu:152: reg:linear is now deprecated in favor of reg:squarederror.\n",
            "[15:58:10] WARNING: /workspace/src/objective/regression_obj.cu:152: reg:linear is now deprecated in favor of reg:squarederror.\n",
            "[15:58:10] WARNING: /workspace/src/objective/regression_obj.cu:152: reg:linear is now deprecated in favor of reg:squarederror.\n",
            "Best value: 1037.2141585216352\n",
            "[15:58:11] WARNING: /workspace/src/objective/regression_obj.cu:152: reg:linear is now deprecated in favor of reg:squarederror.\n",
            "[15:58:12] WARNING: /workspace/src/objective/regression_obj.cu:152: reg:linear is now deprecated in favor of reg:squarederror.\n",
            "[15:58:12] WARNING: /workspace/src/objective/regression_obj.cu:152: reg:linear is now deprecated in favor of reg:squarederror.\n",
            "[15:58:13] WARNING: /workspace/src/objective/regression_obj.cu:152: reg:linear is now deprecated in favor of reg:squarederror.\n",
            "[15:58:13] WARNING: /workspace/src/objective/regression_obj.cu:152: reg:linear is now deprecated in favor of reg:squarederror.\n",
            "Best value: 1037.2141585216352\n",
            "[15:58:14] WARNING: /workspace/src/objective/regression_obj.cu:152: reg:linear is now deprecated in favor of reg:squarederror.\n",
            "[15:58:14] WARNING: /workspace/src/objective/regression_obj.cu:152: reg:linear is now deprecated in favor of reg:squarederror.\n",
            "[15:58:15] WARNING: /workspace/src/objective/regression_obj.cu:152: reg:linear is now deprecated in favor of reg:squarederror.\n",
            "[15:58:15] WARNING: /workspace/src/objective/regression_obj.cu:152: reg:linear is now deprecated in favor of reg:squarederror.\n",
            "[15:58:16] WARNING: /workspace/src/objective/regression_obj.cu:152: reg:linear is now deprecated in favor of reg:squarederror.\n",
            "Best value: 1037.2141585216352\n",
            "[15:58:17] WARNING: /workspace/src/objective/regression_obj.cu:152: reg:linear is now deprecated in favor of reg:squarederror.\n",
            "[15:58:18] WARNING: /workspace/src/objective/regression_obj.cu:152: reg:linear is now deprecated in favor of reg:squarederror.\n",
            "[15:58:18] WARNING: /workspace/src/objective/regression_obj.cu:152: reg:linear is now deprecated in favor of reg:squarederror.\n",
            "[15:58:19] WARNING: /workspace/src/objective/regression_obj.cu:152: reg:linear is now deprecated in favor of reg:squarederror.\n",
            "[15:58:19] WARNING: /workspace/src/objective/regression_obj.cu:152: reg:linear is now deprecated in favor of reg:squarederror.\n",
            "Best value: 1037.2141585216352\n",
            "[15:58:20] WARNING: /workspace/src/objective/regression_obj.cu:152: reg:linear is now deprecated in favor of reg:squarederror.\n",
            "[15:58:21] WARNING: /workspace/src/objective/regression_obj.cu:152: reg:linear is now deprecated in favor of reg:squarederror.\n",
            "[15:58:21] WARNING: /workspace/src/objective/regression_obj.cu:152: reg:linear is now deprecated in favor of reg:squarederror.\n",
            "[15:58:22] WARNING: /workspace/src/objective/regression_obj.cu:152: reg:linear is now deprecated in favor of reg:squarederror.\n",
            "[15:58:23] WARNING: /workspace/src/objective/regression_obj.cu:152: reg:linear is now deprecated in favor of reg:squarederror.\n",
            "Best value: 1037.2141585216352\n",
            "[15:58:24] WARNING: /workspace/src/objective/regression_obj.cu:152: reg:linear is now deprecated in favor of reg:squarederror.\n",
            "[15:58:25] WARNING: /workspace/src/objective/regression_obj.cu:152: reg:linear is now deprecated in favor of reg:squarederror.\n",
            "[15:58:25] WARNING: /workspace/src/objective/regression_obj.cu:152: reg:linear is now deprecated in favor of reg:squarederror.\n",
            "[15:58:26] WARNING: /workspace/src/objective/regression_obj.cu:152: reg:linear is now deprecated in favor of reg:squarederror.\n",
            "[15:58:26] WARNING: /workspace/src/objective/regression_obj.cu:152: reg:linear is now deprecated in favor of reg:squarederror.\n",
            "Best value: 1037.2141585216352\n",
            "[15:58:27] WARNING: /workspace/src/objective/regression_obj.cu:152: reg:linear is now deprecated in favor of reg:squarederror.\n",
            "[15:58:27] WARNING: /workspace/src/objective/regression_obj.cu:152: reg:linear is now deprecated in favor of reg:squarederror.\n",
            "[15:58:28] WARNING: /workspace/src/objective/regression_obj.cu:152: reg:linear is now deprecated in favor of reg:squarederror.\n",
            "[15:58:28] WARNING: /workspace/src/objective/regression_obj.cu:152: reg:linear is now deprecated in favor of reg:squarederror.\n",
            "[15:58:29] WARNING: /workspace/src/objective/regression_obj.cu:152: reg:linear is now deprecated in favor of reg:squarederror.\n",
            "Best value: 1037.2141585216352\n",
            "[15:58:29] WARNING: /workspace/src/objective/regression_obj.cu:152: reg:linear is now deprecated in favor of reg:squarederror.\n",
            "[15:58:30] WARNING: /workspace/src/objective/regression_obj.cu:152: reg:linear is now deprecated in favor of reg:squarederror.\n",
            "[15:58:31] WARNING: /workspace/src/objective/regression_obj.cu:152: reg:linear is now deprecated in favor of reg:squarederror.\n",
            "[15:58:31] WARNING: /workspace/src/objective/regression_obj.cu:152: reg:linear is now deprecated in favor of reg:squarederror.\n",
            "[15:58:32] WARNING: /workspace/src/objective/regression_obj.cu:152: reg:linear is now deprecated in favor of reg:squarederror.\n",
            "Best value: 1037.2141585216352\n",
            "[15:58:32] WARNING: /workspace/src/objective/regression_obj.cu:152: reg:linear is now deprecated in favor of reg:squarederror.\n",
            "[15:58:33] WARNING: /workspace/src/objective/regression_obj.cu:152: reg:linear is now deprecated in favor of reg:squarederror.\n",
            "[15:58:33] WARNING: /workspace/src/objective/regression_obj.cu:152: reg:linear is now deprecated in favor of reg:squarederror.\n",
            "[15:58:34] WARNING: /workspace/src/objective/regression_obj.cu:152: reg:linear is now deprecated in favor of reg:squarederror.\n",
            "[15:58:34] WARNING: /workspace/src/objective/regression_obj.cu:152: reg:linear is now deprecated in favor of reg:squarederror.\n",
            "Best value: 1037.2141585216352\n",
            "[15:58:35] WARNING: /workspace/src/objective/regression_obj.cu:152: reg:linear is now deprecated in favor of reg:squarederror.\n",
            "[15:58:35] WARNING: /workspace/src/objective/regression_obj.cu:152: reg:linear is now deprecated in favor of reg:squarederror.\n",
            "[15:58:35] WARNING: /workspace/src/objective/regression_obj.cu:152: reg:linear is now deprecated in favor of reg:squarederror.\n",
            "[15:58:36] WARNING: /workspace/src/objective/regression_obj.cu:152: reg:linear is now deprecated in favor of reg:squarederror.\n",
            "[15:58:36] WARNING: /workspace/src/objective/regression_obj.cu:152: reg:linear is now deprecated in favor of reg:squarederror.\n",
            "Best value: 1037.2141585216352\n",
            "[15:58:37] WARNING: /workspace/src/objective/regression_obj.cu:152: reg:linear is now deprecated in favor of reg:squarederror.\n",
            "[15:58:37] WARNING: /workspace/src/objective/regression_obj.cu:152: reg:linear is now deprecated in favor of reg:squarederror.\n",
            "[15:58:37] WARNING: /workspace/src/objective/regression_obj.cu:152: reg:linear is now deprecated in favor of reg:squarederror.\n",
            "[15:58:38] WARNING: /workspace/src/objective/regression_obj.cu:152: reg:linear is now deprecated in favor of reg:squarederror.\n",
            "[15:58:38] WARNING: /workspace/src/objective/regression_obj.cu:152: reg:linear is now deprecated in favor of reg:squarederror.\n",
            "Best value: 1037.2141585216352\n",
            "[15:58:39] WARNING: /workspace/src/objective/regression_obj.cu:152: reg:linear is now deprecated in favor of reg:squarederror.\n",
            "[15:58:39] WARNING: /workspace/src/objective/regression_obj.cu:152: reg:linear is now deprecated in favor of reg:squarederror.\n",
            "[15:58:39] WARNING: /workspace/src/objective/regression_obj.cu:152: reg:linear is now deprecated in favor of reg:squarederror.\n",
            "[15:58:40] WARNING: /workspace/src/objective/regression_obj.cu:152: reg:linear is now deprecated in favor of reg:squarederror.\n",
            "[15:58:40] WARNING: /workspace/src/objective/regression_obj.cu:152: reg:linear is now deprecated in favor of reg:squarederror.\n",
            "Best value: 1037.2141585216352\n",
            "[15:58:41] WARNING: /workspace/src/objective/regression_obj.cu:152: reg:linear is now deprecated in favor of reg:squarederror.\n",
            "[15:58:41] WARNING: /workspace/src/objective/regression_obj.cu:152: reg:linear is now deprecated in favor of reg:squarederror.\n",
            "[15:58:42] WARNING: /workspace/src/objective/regression_obj.cu:152: reg:linear is now deprecated in favor of reg:squarederror.\n",
            "[15:58:42] WARNING: /workspace/src/objective/regression_obj.cu:152: reg:linear is now deprecated in favor of reg:squarederror.\n",
            "[15:58:43] WARNING: /workspace/src/objective/regression_obj.cu:152: reg:linear is now deprecated in favor of reg:squarederror.\n",
            "Best value: 1037.2141585216352\n",
            "[15:58:43] WARNING: /workspace/src/objective/regression_obj.cu:152: reg:linear is now deprecated in favor of reg:squarederror.\n",
            "[15:58:44] WARNING: /workspace/src/objective/regression_obj.cu:152: reg:linear is now deprecated in favor of reg:squarederror.\n",
            "[15:58:44] WARNING: /workspace/src/objective/regression_obj.cu:152: reg:linear is now deprecated in favor of reg:squarederror.\n",
            "[15:58:45] WARNING: /workspace/src/objective/regression_obj.cu:152: reg:linear is now deprecated in favor of reg:squarederror.\n",
            "[15:58:45] WARNING: /workspace/src/objective/regression_obj.cu:152: reg:linear is now deprecated in favor of reg:squarederror.\n",
            "Best value: 1037.2141585216352\n",
            "[15:58:46] WARNING: /workspace/src/objective/regression_obj.cu:152: reg:linear is now deprecated in favor of reg:squarederror.\n",
            "[15:58:47] WARNING: /workspace/src/objective/regression_obj.cu:152: reg:linear is now deprecated in favor of reg:squarederror.\n",
            "[15:58:48] WARNING: /workspace/src/objective/regression_obj.cu:152: reg:linear is now deprecated in favor of reg:squarederror.\n",
            "[15:58:49] WARNING: /workspace/src/objective/regression_obj.cu:152: reg:linear is now deprecated in favor of reg:squarederror.\n",
            "[15:58:50] WARNING: /workspace/src/objective/regression_obj.cu:152: reg:linear is now deprecated in favor of reg:squarederror.\n",
            "Best value: 1037.2141585216352\n",
            "[15:58:51] WARNING: /workspace/src/objective/regression_obj.cu:152: reg:linear is now deprecated in favor of reg:squarederror.\n",
            "[15:58:52] WARNING: /workspace/src/objective/regression_obj.cu:152: reg:linear is now deprecated in favor of reg:squarederror.\n",
            "[15:58:53] WARNING: /workspace/src/objective/regression_obj.cu:152: reg:linear is now deprecated in favor of reg:squarederror.\n",
            "[15:58:54] WARNING: /workspace/src/objective/regression_obj.cu:152: reg:linear is now deprecated in favor of reg:squarederror.\n",
            "[15:58:54] WARNING: /workspace/src/objective/regression_obj.cu:152: reg:linear is now deprecated in favor of reg:squarederror.\n",
            "Best value: 1037.2141585216352\n",
            "[15:58:55] WARNING: /workspace/src/objective/regression_obj.cu:152: reg:linear is now deprecated in favor of reg:squarederror.\n",
            "[15:58:56] WARNING: /workspace/src/objective/regression_obj.cu:152: reg:linear is now deprecated in favor of reg:squarederror.\n",
            "[15:58:56] WARNING: /workspace/src/objective/regression_obj.cu:152: reg:linear is now deprecated in favor of reg:squarederror.\n",
            "[15:58:57] WARNING: /workspace/src/objective/regression_obj.cu:152: reg:linear is now deprecated in favor of reg:squarederror.\n",
            "[15:58:58] WARNING: /workspace/src/objective/regression_obj.cu:152: reg:linear is now deprecated in favor of reg:squarederror.\n",
            "Best value: 1037.2141585216352\n",
            "[15:58:58] WARNING: /workspace/src/objective/regression_obj.cu:152: reg:linear is now deprecated in favor of reg:squarederror.\n",
            "[15:58:59] WARNING: /workspace/src/objective/regression_obj.cu:152: reg:linear is now deprecated in favor of reg:squarederror.\n",
            "[15:59:00] WARNING: /workspace/src/objective/regression_obj.cu:152: reg:linear is now deprecated in favor of reg:squarederror.\n",
            "[15:59:00] WARNING: /workspace/src/objective/regression_obj.cu:152: reg:linear is now deprecated in favor of reg:squarederror.\n",
            "[15:59:01] WARNING: /workspace/src/objective/regression_obj.cu:152: reg:linear is now deprecated in favor of reg:squarederror.\n",
            "Best value: 1035.3591747104297\n",
            "[15:59:02] WARNING: /workspace/src/objective/regression_obj.cu:152: reg:linear is now deprecated in favor of reg:squarederror.\n",
            "[15:59:02] WARNING: /workspace/src/objective/regression_obj.cu:152: reg:linear is now deprecated in favor of reg:squarederror.\n",
            "[15:59:03] WARNING: /workspace/src/objective/regression_obj.cu:152: reg:linear is now deprecated in favor of reg:squarederror.\n",
            "[15:59:04] WARNING: /workspace/src/objective/regression_obj.cu:152: reg:linear is now deprecated in favor of reg:squarederror.\n",
            "[15:59:04] WARNING: /workspace/src/objective/regression_obj.cu:152: reg:linear is now deprecated in favor of reg:squarederror.\n",
            "Best value: 1035.3591747104297\n",
            "[15:59:05] WARNING: /workspace/src/objective/regression_obj.cu:152: reg:linear is now deprecated in favor of reg:squarederror.\n",
            "[15:59:06] WARNING: /workspace/src/objective/regression_obj.cu:152: reg:linear is now deprecated in favor of reg:squarederror.\n",
            "[15:59:06] WARNING: /workspace/src/objective/regression_obj.cu:152: reg:linear is now deprecated in favor of reg:squarederror.\n",
            "[15:59:07] WARNING: /workspace/src/objective/regression_obj.cu:152: reg:linear is now deprecated in favor of reg:squarederror.\n",
            "[15:59:07] WARNING: /workspace/src/objective/regression_obj.cu:152: reg:linear is now deprecated in favor of reg:squarederror.\n",
            "Best value: 1035.3591747104297\n",
            "[15:59:08] WARNING: /workspace/src/objective/regression_obj.cu:152: reg:linear is now deprecated in favor of reg:squarederror.\n",
            "[15:59:09] WARNING: /workspace/src/objective/regression_obj.cu:152: reg:linear is now deprecated in favor of reg:squarederror.\n",
            "[15:59:09] WARNING: /workspace/src/objective/regression_obj.cu:152: reg:linear is now deprecated in favor of reg:squarederror.\n",
            "[15:59:10] WARNING: /workspace/src/objective/regression_obj.cu:152: reg:linear is now deprecated in favor of reg:squarederror.\n",
            "[15:59:10] WARNING: /workspace/src/objective/regression_obj.cu:152: reg:linear is now deprecated in favor of reg:squarederror.\n",
            "Best value: 1035.3591747104297\n",
            "[15:59:11] WARNING: /workspace/src/objective/regression_obj.cu:152: reg:linear is now deprecated in favor of reg:squarederror.\n",
            "[15:59:11] WARNING: /workspace/src/objective/regression_obj.cu:152: reg:linear is now deprecated in favor of reg:squarederror.\n",
            "[15:59:12] WARNING: /workspace/src/objective/regression_obj.cu:152: reg:linear is now deprecated in favor of reg:squarederror.\n",
            "[15:59:12] WARNING: /workspace/src/objective/regression_obj.cu:152: reg:linear is now deprecated in favor of reg:squarederror.\n",
            "[15:59:13] WARNING: /workspace/src/objective/regression_obj.cu:152: reg:linear is now deprecated in favor of reg:squarederror.\n",
            "Best value: 1035.3591747104297\n",
            "[15:59:13] WARNING: /workspace/src/objective/regression_obj.cu:152: reg:linear is now deprecated in favor of reg:squarederror.\n",
            "[15:59:13] WARNING: /workspace/src/objective/regression_obj.cu:152: reg:linear is now deprecated in favor of reg:squarederror.\n",
            "[15:59:13] WARNING: /workspace/src/objective/regression_obj.cu:152: reg:linear is now deprecated in favor of reg:squarederror.\n",
            "[15:59:13] WARNING: /workspace/src/objective/regression_obj.cu:152: reg:linear is now deprecated in favor of reg:squarederror.\n",
            "[15:59:13] WARNING: /workspace/src/objective/regression_obj.cu:152: reg:linear is now deprecated in favor of reg:squarederror.\n",
            "Best value: 1035.3591747104297\n",
            "[15:59:14] WARNING: /workspace/src/objective/regression_obj.cu:152: reg:linear is now deprecated in favor of reg:squarederror.\n",
            "[15:59:14] WARNING: /workspace/src/objective/regression_obj.cu:152: reg:linear is now deprecated in favor of reg:squarederror.\n",
            "[15:59:15] WARNING: /workspace/src/objective/regression_obj.cu:152: reg:linear is now deprecated in favor of reg:squarederror.\n",
            "[15:59:15] WARNING: /workspace/src/objective/regression_obj.cu:152: reg:linear is now deprecated in favor of reg:squarederror.\n",
            "[15:59:16] WARNING: /workspace/src/objective/regression_obj.cu:152: reg:linear is now deprecated in favor of reg:squarederror.\n",
            "Best value: 1034.0357194116627\n",
            "[15:59:17] WARNING: /workspace/src/objective/regression_obj.cu:152: reg:linear is now deprecated in favor of reg:squarederror.\n",
            "[15:59:17] WARNING: /workspace/src/objective/regression_obj.cu:152: reg:linear is now deprecated in favor of reg:squarederror.\n",
            "[15:59:18] WARNING: /workspace/src/objective/regression_obj.cu:152: reg:linear is now deprecated in favor of reg:squarederror.\n",
            "[15:59:19] WARNING: /workspace/src/objective/regression_obj.cu:152: reg:linear is now deprecated in favor of reg:squarederror.\n",
            "[15:59:19] WARNING: /workspace/src/objective/regression_obj.cu:152: reg:linear is now deprecated in favor of reg:squarederror.\n",
            "Best value: 1034.0357194116627\n",
            "[15:59:20] WARNING: /workspace/src/objective/regression_obj.cu:152: reg:linear is now deprecated in favor of reg:squarederror.\n",
            "[15:59:20] WARNING: /workspace/src/objective/regression_obj.cu:152: reg:linear is now deprecated in favor of reg:squarederror.\n",
            "[15:59:21] WARNING: /workspace/src/objective/regression_obj.cu:152: reg:linear is now deprecated in favor of reg:squarederror.\n",
            "[15:59:21] WARNING: /workspace/src/objective/regression_obj.cu:152: reg:linear is now deprecated in favor of reg:squarederror.\n",
            "[15:59:21] WARNING: /workspace/src/objective/regression_obj.cu:152: reg:linear is now deprecated in favor of reg:squarederror.\n",
            "Best value: 1034.0357194116627\n",
            "[15:59:22] WARNING: /workspace/src/objective/regression_obj.cu:152: reg:linear is now deprecated in favor of reg:squarederror.\n",
            "[15:59:22] WARNING: /workspace/src/objective/regression_obj.cu:152: reg:linear is now deprecated in favor of reg:squarederror.\n",
            "[15:59:23] WARNING: /workspace/src/objective/regression_obj.cu:152: reg:linear is now deprecated in favor of reg:squarederror.\n",
            "[15:59:23] WARNING: /workspace/src/objective/regression_obj.cu:152: reg:linear is now deprecated in favor of reg:squarederror.\n",
            "[15:59:24] WARNING: /workspace/src/objective/regression_obj.cu:152: reg:linear is now deprecated in favor of reg:squarederror.\n",
            "Best value: 1034.0357194116627\n",
            "[15:59:25] WARNING: /workspace/src/objective/regression_obj.cu:152: reg:linear is now deprecated in favor of reg:squarederror.\n",
            "[15:59:25] WARNING: /workspace/src/objective/regression_obj.cu:152: reg:linear is now deprecated in favor of reg:squarederror.\n",
            "[15:59:25] WARNING: /workspace/src/objective/regression_obj.cu:152: reg:linear is now deprecated in favor of reg:squarederror.\n",
            "[15:59:25] WARNING: /workspace/src/objective/regression_obj.cu:152: reg:linear is now deprecated in favor of reg:squarederror.\n",
            "[15:59:26] WARNING: /workspace/src/objective/regression_obj.cu:152: reg:linear is now deprecated in favor of reg:squarederror.\n",
            "Best value: 1034.0357194116627\n",
            "[15:59:26] WARNING: /workspace/src/objective/regression_obj.cu:152: reg:linear is now deprecated in favor of reg:squarederror.\n",
            "[15:59:27] WARNING: /workspace/src/objective/regression_obj.cu:152: reg:linear is now deprecated in favor of reg:squarederror.\n",
            "[15:59:27] WARNING: /workspace/src/objective/regression_obj.cu:152: reg:linear is now deprecated in favor of reg:squarederror.\n",
            "[15:59:28] WARNING: /workspace/src/objective/regression_obj.cu:152: reg:linear is now deprecated in favor of reg:squarederror.\n",
            "[15:59:28] WARNING: /workspace/src/objective/regression_obj.cu:152: reg:linear is now deprecated in favor of reg:squarederror.\n",
            "Best value: 1034.0357194116627\n",
            "[15:59:29] WARNING: /workspace/src/objective/regression_obj.cu:152: reg:linear is now deprecated in favor of reg:squarederror.\n",
            "[15:59:29] WARNING: /workspace/src/objective/regression_obj.cu:152: reg:linear is now deprecated in favor of reg:squarederror.\n",
            "[15:59:30] WARNING: /workspace/src/objective/regression_obj.cu:152: reg:linear is now deprecated in favor of reg:squarederror.\n",
            "[15:59:30] WARNING: /workspace/src/objective/regression_obj.cu:152: reg:linear is now deprecated in favor of reg:squarederror.\n",
            "[15:59:31] WARNING: /workspace/src/objective/regression_obj.cu:152: reg:linear is now deprecated in favor of reg:squarederror.\n",
            "Best value: 1034.0357194116627\n",
            "[15:59:31] WARNING: /workspace/src/objective/regression_obj.cu:152: reg:linear is now deprecated in favor of reg:squarederror.\n",
            "[15:59:31] WARNING: /workspace/src/objective/regression_obj.cu:152: reg:linear is now deprecated in favor of reg:squarederror.\n",
            "[15:59:32] WARNING: /workspace/src/objective/regression_obj.cu:152: reg:linear is now deprecated in favor of reg:squarederror.\n",
            "[15:59:32] WARNING: /workspace/src/objective/regression_obj.cu:152: reg:linear is now deprecated in favor of reg:squarederror.\n",
            "[15:59:32] WARNING: /workspace/src/objective/regression_obj.cu:152: reg:linear is now deprecated in favor of reg:squarederror.\n",
            "Best value: 1034.0357194116627\n",
            "[15:59:32] WARNING: /workspace/src/objective/regression_obj.cu:152: reg:linear is now deprecated in favor of reg:squarederror.\n",
            "[15:59:33] WARNING: /workspace/src/objective/regression_obj.cu:152: reg:linear is now deprecated in favor of reg:squarederror.\n",
            "[15:59:34] WARNING: /workspace/src/objective/regression_obj.cu:152: reg:linear is now deprecated in favor of reg:squarederror.\n",
            "[15:59:34] WARNING: /workspace/src/objective/regression_obj.cu:152: reg:linear is now deprecated in favor of reg:squarederror.\n",
            "[15:59:35] WARNING: /workspace/src/objective/regression_obj.cu:152: reg:linear is now deprecated in favor of reg:squarederror.\n",
            "Best value: 1034.0357194116627\n"
          ]
        },
        {
          "data": {
            "text/plain": [
              "{'colsample_bytree': 0.766812424639463,\n",
              " 'gamma': 3.7281756084369224,\n",
              " 'learning_rate': 0.40970552399423077,\n",
              " 'max_depth': 5,\n",
              " 'min_child_weight': 0,\n",
              " 'n_estimators': 479,\n",
              " 'reg_alpha': 5.6129056597380025,\n",
              " 'reg_lambda': 1.1180960605812764,\n",
              " 'subsample': 0.8648838580931659}"
            ]
          },
          "execution_count": 95,
          "metadata": {},
          "output_type": "execute_result"
        }
      ],
      "source": [
        "optuna.logging.set_verbosity(0)\n",
        "xg_study = optuna.create_study(direction='minimize',sampler=TPESampler())\n",
        "xg_study.optimize(xg_objective, n_trials= 50, show_progress_bar = True, callbacks=[print_best_callback])\n",
        "xg_best = xg_study.best_params\n",
        "xg_best"
      ]
    },
    {
      "cell_type": "code",
      "execution_count": null,
      "metadata": {
        "colab": {
          "base_uri": "https://localhost:8080/"
        },
        "id": "-j1i99M_fVKw",
        "outputId": "94f1e721-7316-4018-acab-cd9374e5f7e4"
      },
      "outputs": [
        {
          "name": "stdout",
          "output_type": "stream",
          "text": [
            "[16:00:15] WARNING: /workspace/src/objective/regression_obj.cu:152: reg:linear is now deprecated in favor of reg:squarederror.\n"
          ]
        },
        {
          "data": {
            "text/plain": [
              "0.9287096533905173"
            ]
          },
          "execution_count": 96,
          "metadata": {},
          "output_type": "execute_result"
        }
      ],
      "source": [
        "#tuned model\n",
        "xg_model = XGBRegressor(**xg_best)\n",
        "\n",
        "#retrain with full data\n",
        "xg_tuned_clf = Pipeline(steps=[('preprocessor', preprocessor),\n",
        "                      ('model', xg_model)])\n",
        "xg_tuned_clf.fit(X_train, y_train)\n",
        "xg_tuned_clf.score(X_test, y_test)"
      ]
    },
    {
      "cell_type": "markdown",
      "metadata": {
        "id": "-9lYzX9wfeWV"
      },
      "source": [
        "### Results Analysis"
      ]
    },
    {
      "cell_type": "code",
      "execution_count": null,
      "metadata": {
        "id": "aXCdM9seffvM"
      },
      "outputs": [],
      "source": [
        "def show_results(actual, pred):\n",
        "    rsquared = r2_score(actual, pred)\n",
        "    mae = mean_absolute_error(actual, pred)\n",
        "    rmse = mean_squared_error(actual, pred, squared=False)\n",
        "    return pd.DataFrame([rsquared, mae, rmse], index=[\"$R^2$\", \"MAE\", \"RMSE\"])"
      ]
    },
    {
      "cell_type": "code",
      "execution_count": null,
      "metadata": {
        "id": "yEAwJg6IfsxB"
      },
      "outputs": [],
      "source": [
        "#RF\n",
        "rf_base_pred = rf_clf.predict(X_test)\n",
        "rf_tuned_pred = rf_tuned_clf.predict(X_test)\n",
        "\n",
        "#XG\n",
        "xg_base_pred = xg_clf.predict(X_test)\n",
        "xg_tuned_pred = xg_tuned_clf.predict(X_test)"
      ]
    },
    {
      "cell_type": "code",
      "execution_count": null,
      "metadata": {
        "colab": {
          "base_uri": "https://localhost:8080/",
          "height": 143
        },
        "id": "LNOhMrfofvdl",
        "outputId": "a045a6ae-7d9a-4abc-a8a3-cc1305aa637d"
      },
      "outputs": [
        {
          "data": {
            "text/html": [
              "\n",
              "  <div id=\"df-380a9d93-0f4a-4fba-a3f5-66f887603417\">\n",
              "    <div class=\"colab-df-container\">\n",
              "      <div>\n",
              "<style scoped>\n",
              "    .dataframe tbody tr th:only-of-type {\n",
              "        vertical-align: middle;\n",
              "    }\n",
              "\n",
              "    .dataframe tbody tr th {\n",
              "        vertical-align: top;\n",
              "    }\n",
              "\n",
              "    .dataframe thead th {\n",
              "        text-align: right;\n",
              "    }\n",
              "</style>\n",
              "<table border=\"1\" class=\"dataframe\">\n",
              "  <thead>\n",
              "    <tr style=\"text-align: right;\">\n",
              "      <th></th>\n",
              "      <th>rf_base</th>\n",
              "      <th>rf_tuned</th>\n",
              "      <th>xg_base</th>\n",
              "      <th>xg_tuned</th>\n",
              "    </tr>\n",
              "  </thead>\n",
              "  <tbody>\n",
              "    <tr>\n",
              "      <th>$R^2$</th>\n",
              "      <td>0.9325</td>\n",
              "      <td>0.9074</td>\n",
              "      <td>0.9071</td>\n",
              "      <td>0.9287</td>\n",
              "    </tr>\n",
              "    <tr>\n",
              "      <th>MAE</th>\n",
              "      <td>985.4608</td>\n",
              "      <td>1594.6024</td>\n",
              "      <td>2254.2145</td>\n",
              "      <td>1022.0877</td>\n",
              "    </tr>\n",
              "    <tr>\n",
              "      <th>RMSE</th>\n",
              "      <td>2893.8126</td>\n",
              "      <td>3389.7427</td>\n",
              "      <td>3395.0300</td>\n",
              "      <td>2974.0423</td>\n",
              "    </tr>\n",
              "  </tbody>\n",
              "</table>\n",
              "</div>\n",
              "      <button class=\"colab-df-convert\" onclick=\"convertToInteractive('df-380a9d93-0f4a-4fba-a3f5-66f887603417')\"\n",
              "              title=\"Convert this dataframe to an interactive table.\"\n",
              "              style=\"display:none;\">\n",
              "        \n",
              "  <svg xmlns=\"http://www.w3.org/2000/svg\" height=\"24px\"viewBox=\"0 0 24 24\"\n",
              "       width=\"24px\">\n",
              "    <path d=\"M0 0h24v24H0V0z\" fill=\"none\"/>\n",
              "    <path d=\"M18.56 5.44l.94 2.06.94-2.06 2.06-.94-2.06-.94-.94-2.06-.94 2.06-2.06.94zm-11 1L8.5 8.5l.94-2.06 2.06-.94-2.06-.94L8.5 2.5l-.94 2.06-2.06.94zm10 10l.94 2.06.94-2.06 2.06-.94-2.06-.94-.94-2.06-.94 2.06-2.06.94z\"/><path d=\"M17.41 7.96l-1.37-1.37c-.4-.4-.92-.59-1.43-.59-.52 0-1.04.2-1.43.59L10.3 9.45l-7.72 7.72c-.78.78-.78 2.05 0 2.83L4 21.41c.39.39.9.59 1.41.59.51 0 1.02-.2 1.41-.59l7.78-7.78 2.81-2.81c.8-.78.8-2.07 0-2.86zM5.41 20L4 18.59l7.72-7.72 1.47 1.35L5.41 20z\"/>\n",
              "  </svg>\n",
              "      </button>\n",
              "      \n",
              "  <style>\n",
              "    .colab-df-container {\n",
              "      display:flex;\n",
              "      flex-wrap:wrap;\n",
              "      gap: 12px;\n",
              "    }\n",
              "\n",
              "    .colab-df-convert {\n",
              "      background-color: #E8F0FE;\n",
              "      border: none;\n",
              "      border-radius: 50%;\n",
              "      cursor: pointer;\n",
              "      display: none;\n",
              "      fill: #1967D2;\n",
              "      height: 32px;\n",
              "      padding: 0 0 0 0;\n",
              "      width: 32px;\n",
              "    }\n",
              "\n",
              "    .colab-df-convert:hover {\n",
              "      background-color: #E2EBFA;\n",
              "      box-shadow: 0px 1px 2px rgba(60, 64, 67, 0.3), 0px 1px 3px 1px rgba(60, 64, 67, 0.15);\n",
              "      fill: #174EA6;\n",
              "    }\n",
              "\n",
              "    [theme=dark] .colab-df-convert {\n",
              "      background-color: #3B4455;\n",
              "      fill: #D2E3FC;\n",
              "    }\n",
              "\n",
              "    [theme=dark] .colab-df-convert:hover {\n",
              "      background-color: #434B5C;\n",
              "      box-shadow: 0px 1px 3px 1px rgba(0, 0, 0, 0.15);\n",
              "      filter: drop-shadow(0px 1px 2px rgba(0, 0, 0, 0.3));\n",
              "      fill: #FFFFFF;\n",
              "    }\n",
              "  </style>\n",
              "\n",
              "      <script>\n",
              "        const buttonEl =\n",
              "          document.querySelector('#df-380a9d93-0f4a-4fba-a3f5-66f887603417 button.colab-df-convert');\n",
              "        buttonEl.style.display =\n",
              "          google.colab.kernel.accessAllowed ? 'block' : 'none';\n",
              "\n",
              "        async function convertToInteractive(key) {\n",
              "          const element = document.querySelector('#df-380a9d93-0f4a-4fba-a3f5-66f887603417');\n",
              "          const dataTable =\n",
              "            await google.colab.kernel.invokeFunction('convertToInteractive',\n",
              "                                                     [key], {});\n",
              "          if (!dataTable) return;\n",
              "\n",
              "          const docLinkHtml = 'Like what you see? Visit the ' +\n",
              "            '<a target=\"_blank\" href=https://colab.research.google.com/notebooks/data_table.ipynb>data table notebook</a>'\n",
              "            + ' to learn more about interactive tables.';\n",
              "          element.innerHTML = '';\n",
              "          dataTable['output_type'] = 'display_data';\n",
              "          await google.colab.output.renderOutput(dataTable, element);\n",
              "          const docLink = document.createElement('div');\n",
              "          docLink.innerHTML = docLinkHtml;\n",
              "          element.appendChild(docLink);\n",
              "        }\n",
              "      </script>\n",
              "    </div>\n",
              "  </div>\n",
              "  "
            ],
            "text/plain": [
              "         rf_base   rf_tuned    xg_base   xg_tuned\n",
              "$R^2$     0.9325     0.9074     0.9071     0.9287\n",
              "MAE     985.4608  1594.6024  2254.2145  1022.0877\n",
              "RMSE   2893.8126  3389.7427  3395.0300  2974.0423"
            ]
          },
          "execution_count": 99,
          "metadata": {},
          "output_type": "execute_result"
        }
      ],
      "source": [
        "temp = pd.DataFrame()\n",
        "temp[\"rf_base\"] = show_results(y_test, rf_base_pred)\n",
        "temp[\"rf_tuned\"] = show_results(y_test, rf_tuned_pred)\n",
        "temp[\"xg_base\"] = show_results(y_test, xg_base_pred)\n",
        "temp[\"xg_tuned\"] = show_results(y_test, xg_tuned_pred)\n",
        "temp.round(4)"
      ]
    },
    {
      "cell_type": "code",
      "execution_count": null,
      "metadata": {
        "colab": {
          "base_uri": "https://localhost:8080/",
          "height": 424
        },
        "id": "ash929HDf0KA",
        "outputId": "dcb92b8b-0c2c-4542-9a85-b6765ec212f2"
      },
      "outputs": [
        {
          "data": {
            "text/html": [
              "\n",
              "  <div id=\"df-c7a3f041-696b-4560-afd1-4234fca95882\">\n",
              "    <div class=\"colab-df-container\">\n",
              "      <div>\n",
              "<style scoped>\n",
              "    .dataframe tbody tr th:only-of-type {\n",
              "        vertical-align: middle;\n",
              "    }\n",
              "\n",
              "    .dataframe tbody tr th {\n",
              "        vertical-align: top;\n",
              "    }\n",
              "\n",
              "    .dataframe thead th {\n",
              "        text-align: right;\n",
              "    }\n",
              "</style>\n",
              "<table border=\"1\" class=\"dataframe\">\n",
              "  <thead>\n",
              "    <tr style=\"text-align: right;\">\n",
              "      <th></th>\n",
              "      <th>b_rf_pred</th>\n",
              "      <th>b_xg_pred</th>\n",
              "      <th>actual</th>\n",
              "      <th>rf_pred</th>\n",
              "      <th>xg_pred</th>\n",
              "    </tr>\n",
              "  </thead>\n",
              "  <tbody>\n",
              "    <tr>\n",
              "      <th>0</th>\n",
              "      <td>2700.000</td>\n",
              "      <td>7992.915039</td>\n",
              "      <td>2700</td>\n",
              "      <td>2813.934</td>\n",
              "      <td>1959.696045</td>\n",
              "    </tr>\n",
              "    <tr>\n",
              "      <th>1</th>\n",
              "      <td>13000.000</td>\n",
              "      <td>10365.029297</td>\n",
              "      <td>13000</td>\n",
              "      <td>11629.932</td>\n",
              "      <td>12943.867188</td>\n",
              "    </tr>\n",
              "    <tr>\n",
              "      <th>2</th>\n",
              "      <td>9200.000</td>\n",
              "      <td>9299.228516</td>\n",
              "      <td>9200</td>\n",
              "      <td>9052.131</td>\n",
              "      <td>9354.661133</td>\n",
              "    </tr>\n",
              "    <tr>\n",
              "      <th>3</th>\n",
              "      <td>8500.000</td>\n",
              "      <td>8730.935547</td>\n",
              "      <td>8500</td>\n",
              "      <td>7968.770</td>\n",
              "      <td>8443.152344</td>\n",
              "    </tr>\n",
              "    <tr>\n",
              "      <th>4</th>\n",
              "      <td>20065.539</td>\n",
              "      <td>15938.090820</td>\n",
              "      <td>3620</td>\n",
              "      <td>12068.525</td>\n",
              "      <td>20471.695312</td>\n",
              "    </tr>\n",
              "    <tr>\n",
              "      <th>...</th>\n",
              "      <td>...</td>\n",
              "      <td>...</td>\n",
              "      <td>...</td>\n",
              "      <td>...</td>\n",
              "      <td>...</td>\n",
              "    </tr>\n",
              "    <tr>\n",
              "      <th>1068</th>\n",
              "      <td>8900.749</td>\n",
              "      <td>8328.272461</td>\n",
              "      <td>7200</td>\n",
              "      <td>7959.549</td>\n",
              "      <td>8934.851562</td>\n",
              "    </tr>\n",
              "    <tr>\n",
              "      <th>1069</th>\n",
              "      <td>13000.000</td>\n",
              "      <td>10365.029297</td>\n",
              "      <td>13000</td>\n",
              "      <td>11629.932</td>\n",
              "      <td>12993.083008</td>\n",
              "    </tr>\n",
              "    <tr>\n",
              "      <th>1070</th>\n",
              "      <td>13600.000</td>\n",
              "      <td>10700.594727</td>\n",
              "      <td>13600</td>\n",
              "      <td>12872.678</td>\n",
              "      <td>13383.647461</td>\n",
              "    </tr>\n",
              "    <tr>\n",
              "      <th>1071</th>\n",
              "      <td>3670.089</td>\n",
              "      <td>6660.996094</td>\n",
              "      <td>2100</td>\n",
              "      <td>6191.414</td>\n",
              "      <td>3672.756104</td>\n",
              "    </tr>\n",
              "    <tr>\n",
              "      <th>1072</th>\n",
              "      <td>30225.000</td>\n",
              "      <td>28451.179688</td>\n",
              "      <td>30225</td>\n",
              "      <td>30088.900</td>\n",
              "      <td>30220.001953</td>\n",
              "    </tr>\n",
              "  </tbody>\n",
              "</table>\n",
              "<p>1073 rows × 5 columns</p>\n",
              "</div>\n",
              "      <button class=\"colab-df-convert\" onclick=\"convertToInteractive('df-c7a3f041-696b-4560-afd1-4234fca95882')\"\n",
              "              title=\"Convert this dataframe to an interactive table.\"\n",
              "              style=\"display:none;\">\n",
              "        \n",
              "  <svg xmlns=\"http://www.w3.org/2000/svg\" height=\"24px\"viewBox=\"0 0 24 24\"\n",
              "       width=\"24px\">\n",
              "    <path d=\"M0 0h24v24H0V0z\" fill=\"none\"/>\n",
              "    <path d=\"M18.56 5.44l.94 2.06.94-2.06 2.06-.94-2.06-.94-.94-2.06-.94 2.06-2.06.94zm-11 1L8.5 8.5l.94-2.06 2.06-.94-2.06-.94L8.5 2.5l-.94 2.06-2.06.94zm10 10l.94 2.06.94-2.06 2.06-.94-2.06-.94-.94-2.06-.94 2.06-2.06.94z\"/><path d=\"M17.41 7.96l-1.37-1.37c-.4-.4-.92-.59-1.43-.59-.52 0-1.04.2-1.43.59L10.3 9.45l-7.72 7.72c-.78.78-.78 2.05 0 2.83L4 21.41c.39.39.9.59 1.41.59.51 0 1.02-.2 1.41-.59l7.78-7.78 2.81-2.81c.8-.78.8-2.07 0-2.86zM5.41 20L4 18.59l7.72-7.72 1.47 1.35L5.41 20z\"/>\n",
              "  </svg>\n",
              "      </button>\n",
              "      \n",
              "  <style>\n",
              "    .colab-df-container {\n",
              "      display:flex;\n",
              "      flex-wrap:wrap;\n",
              "      gap: 12px;\n",
              "    }\n",
              "\n",
              "    .colab-df-convert {\n",
              "      background-color: #E8F0FE;\n",
              "      border: none;\n",
              "      border-radius: 50%;\n",
              "      cursor: pointer;\n",
              "      display: none;\n",
              "      fill: #1967D2;\n",
              "      height: 32px;\n",
              "      padding: 0 0 0 0;\n",
              "      width: 32px;\n",
              "    }\n",
              "\n",
              "    .colab-df-convert:hover {\n",
              "      background-color: #E2EBFA;\n",
              "      box-shadow: 0px 1px 2px rgba(60, 64, 67, 0.3), 0px 1px 3px 1px rgba(60, 64, 67, 0.15);\n",
              "      fill: #174EA6;\n",
              "    }\n",
              "\n",
              "    [theme=dark] .colab-df-convert {\n",
              "      background-color: #3B4455;\n",
              "      fill: #D2E3FC;\n",
              "    }\n",
              "\n",
              "    [theme=dark] .colab-df-convert:hover {\n",
              "      background-color: #434B5C;\n",
              "      box-shadow: 0px 1px 3px 1px rgba(0, 0, 0, 0.15);\n",
              "      filter: drop-shadow(0px 1px 2px rgba(0, 0, 0, 0.3));\n",
              "      fill: #FFFFFF;\n",
              "    }\n",
              "  </style>\n",
              "\n",
              "      <script>\n",
              "        const buttonEl =\n",
              "          document.querySelector('#df-c7a3f041-696b-4560-afd1-4234fca95882 button.colab-df-convert');\n",
              "        buttonEl.style.display =\n",
              "          google.colab.kernel.accessAllowed ? 'block' : 'none';\n",
              "\n",
              "        async function convertToInteractive(key) {\n",
              "          const element = document.querySelector('#df-c7a3f041-696b-4560-afd1-4234fca95882');\n",
              "          const dataTable =\n",
              "            await google.colab.kernel.invokeFunction('convertToInteractive',\n",
              "                                                     [key], {});\n",
              "          if (!dataTable) return;\n",
              "\n",
              "          const docLinkHtml = 'Like what you see? Visit the ' +\n",
              "            '<a target=\"_blank\" href=https://colab.research.google.com/notebooks/data_table.ipynb>data table notebook</a>'\n",
              "            + ' to learn more about interactive tables.';\n",
              "          element.innerHTML = '';\n",
              "          dataTable['output_type'] = 'display_data';\n",
              "          await google.colab.output.renderOutput(dataTable, element);\n",
              "          const docLink = document.createElement('div');\n",
              "          docLink.innerHTML = docLinkHtml;\n",
              "          element.appendChild(docLink);\n",
              "        }\n",
              "      </script>\n",
              "    </div>\n",
              "  </div>\n",
              "  "
            ],
            "text/plain": [
              "      b_rf_pred     b_xg_pred  actual    rf_pred       xg_pred\n",
              "0      2700.000   7992.915039    2700   2813.934   1959.696045\n",
              "1     13000.000  10365.029297   13000  11629.932  12943.867188\n",
              "2      9200.000   9299.228516    9200   9052.131   9354.661133\n",
              "3      8500.000   8730.935547    8500   7968.770   8443.152344\n",
              "4     20065.539  15938.090820    3620  12068.525  20471.695312\n",
              "...         ...           ...     ...        ...           ...\n",
              "1068   8900.749   8328.272461    7200   7959.549   8934.851562\n",
              "1069  13000.000  10365.029297   13000  11629.932  12993.083008\n",
              "1070  13600.000  10700.594727   13600  12872.678  13383.647461\n",
              "1071   3670.089   6660.996094    2100   6191.414   3672.756104\n",
              "1072  30225.000  28451.179688   30225  30088.900  30220.001953\n",
              "\n",
              "[1073 rows x 5 columns]"
            ]
          },
          "execution_count": 100,
          "metadata": {},
          "output_type": "execute_result"
        }
      ],
      "source": [
        "#compare predictions to actual data\n",
        "temp = pd.DataFrame()\n",
        "temp[\"b_rf_pred\"] = rf_clf.predict(X_test)\n",
        "temp[\"b_xg_pred\"] = xg_clf.predict(X_test)\n",
        "temp[\"actual\"] = y_test.values\n",
        "temp[\"rf_pred\"] = rf_tuned_clf.predict(X_test)\n",
        "temp[\"xg_pred\"] = xg_tuned_clf.predict(X_test)\n",
        "temp.round(3)"
      ]
    }
  ],
  "metadata": {
    "colab": {
      "collapsed_sections": [],
      "name": "prophet.ipynb",
      "provenance": []
    },
    "kernelspec": {
      "display_name": "Python 3",
      "name": "python3"
    },
    "language_info": {
      "codemirror_mode": {
        "name": "ipython",
        "version": 3
      },
      "file_extension": ".py",
      "mimetype": "text/x-python",
      "name": "python",
      "nbconvert_exporter": "python",
      "pygments_lexer": "ipython3",
      "version": "3.8.3"
    },
    "widgets": {
      "application/vnd.jupyter.widget-state+json": {
        "003f1ab1f510449681e508bda7a789cf": {
          "model_module": "@jupyter-widgets/controls",
          "model_module_version": "1.5.0",
          "model_name": "FloatProgressModel",
          "state": {
            "_dom_classes": [],
            "_model_module": "@jupyter-widgets/controls",
            "_model_module_version": "1.5.0",
            "_model_name": "FloatProgressModel",
            "_view_count": null,
            "_view_module": "@jupyter-widgets/controls",
            "_view_module_version": "1.5.0",
            "_view_name": "ProgressView",
            "bar_style": "success",
            "description": "",
            "description_tooltip": null,
            "layout": "IPY_MODEL_f4f90d0528a541e283a6a6fcec426685",
            "max": 20,
            "min": 0,
            "orientation": "horizontal",
            "style": "IPY_MODEL_08267a69209b48b9a61e187df9914f34",
            "value": 20
          }
        },
        "064fb77e85bd453f8bbd5af7460613f6": {
          "model_module": "@jupyter-widgets/base",
          "model_module_version": "1.2.0",
          "model_name": "LayoutModel",
          "state": {
            "_model_module": "@jupyter-widgets/base",
            "_model_module_version": "1.2.0",
            "_model_name": "LayoutModel",
            "_view_count": null,
            "_view_module": "@jupyter-widgets/base",
            "_view_module_version": "1.2.0",
            "_view_name": "LayoutView",
            "align_content": null,
            "align_items": null,
            "align_self": null,
            "border": null,
            "bottom": null,
            "display": null,
            "flex": null,
            "flex_flow": null,
            "grid_area": null,
            "grid_auto_columns": null,
            "grid_auto_flow": null,
            "grid_auto_rows": null,
            "grid_column": null,
            "grid_gap": null,
            "grid_row": null,
            "grid_template_areas": null,
            "grid_template_columns": null,
            "grid_template_rows": null,
            "height": null,
            "justify_content": null,
            "justify_items": null,
            "left": null,
            "margin": null,
            "max_height": null,
            "max_width": null,
            "min_height": null,
            "min_width": null,
            "object_fit": null,
            "object_position": null,
            "order": null,
            "overflow": null,
            "overflow_x": null,
            "overflow_y": null,
            "padding": null,
            "right": null,
            "top": null,
            "visibility": null,
            "width": null
          }
        },
        "08267a69209b48b9a61e187df9914f34": {
          "model_module": "@jupyter-widgets/controls",
          "model_module_version": "1.5.0",
          "model_name": "ProgressStyleModel",
          "state": {
            "_model_module": "@jupyter-widgets/controls",
            "_model_module_version": "1.5.0",
            "_model_name": "ProgressStyleModel",
            "_view_count": null,
            "_view_module": "@jupyter-widgets/base",
            "_view_module_version": "1.2.0",
            "_view_name": "StyleView",
            "bar_color": null,
            "description_width": ""
          }
        },
        "0e4d96b04123486688116016882dd37c": {
          "model_module": "@jupyter-widgets/controls",
          "model_module_version": "1.5.0",
          "model_name": "ProgressStyleModel",
          "state": {
            "_model_module": "@jupyter-widgets/controls",
            "_model_module_version": "1.5.0",
            "_model_name": "ProgressStyleModel",
            "_view_count": null,
            "_view_module": "@jupyter-widgets/base",
            "_view_module_version": "1.2.0",
            "_view_name": "StyleView",
            "bar_color": null,
            "description_width": ""
          }
        },
        "129d9c103f9f4813820fa212282b0157": {
          "model_module": "@jupyter-widgets/controls",
          "model_module_version": "1.5.0",
          "model_name": "DescriptionStyleModel",
          "state": {
            "_model_module": "@jupyter-widgets/controls",
            "_model_module_version": "1.5.0",
            "_model_name": "DescriptionStyleModel",
            "_view_count": null,
            "_view_module": "@jupyter-widgets/base",
            "_view_module_version": "1.2.0",
            "_view_name": "StyleView",
            "description_width": ""
          }
        },
        "1a120f5136cd431786719aa5ed93b699": {
          "model_module": "@jupyter-widgets/base",
          "model_module_version": "1.2.0",
          "model_name": "LayoutModel",
          "state": {
            "_model_module": "@jupyter-widgets/base",
            "_model_module_version": "1.2.0",
            "_model_name": "LayoutModel",
            "_view_count": null,
            "_view_module": "@jupyter-widgets/base",
            "_view_module_version": "1.2.0",
            "_view_name": "LayoutView",
            "align_content": null,
            "align_items": null,
            "align_self": null,
            "border": null,
            "bottom": null,
            "display": null,
            "flex": null,
            "flex_flow": null,
            "grid_area": null,
            "grid_auto_columns": null,
            "grid_auto_flow": null,
            "grid_auto_rows": null,
            "grid_column": null,
            "grid_gap": null,
            "grid_row": null,
            "grid_template_areas": null,
            "grid_template_columns": null,
            "grid_template_rows": null,
            "height": null,
            "justify_content": null,
            "justify_items": null,
            "left": null,
            "margin": null,
            "max_height": null,
            "max_width": null,
            "min_height": null,
            "min_width": null,
            "object_fit": null,
            "object_position": null,
            "order": null,
            "overflow": null,
            "overflow_x": null,
            "overflow_y": null,
            "padding": null,
            "right": null,
            "top": null,
            "visibility": null,
            "width": null
          }
        },
        "1bc759c132cc44759a6649308499f34a": {
          "model_module": "@jupyter-widgets/controls",
          "model_module_version": "1.5.0",
          "model_name": "HBoxModel",
          "state": {
            "_dom_classes": [],
            "_model_module": "@jupyter-widgets/controls",
            "_model_module_version": "1.5.0",
            "_model_name": "HBoxModel",
            "_view_count": null,
            "_view_module": "@jupyter-widgets/controls",
            "_view_module_version": "1.5.0",
            "_view_name": "HBoxView",
            "box_style": "",
            "children": [
              "IPY_MODEL_c777be89ed4e47958b785e17e05c5cd9",
              "IPY_MODEL_6fcf6d68d49c47a3a84ce6c61957204d",
              "IPY_MODEL_409d32ef845c408c8ea9d7a152884d30"
            ],
            "layout": "IPY_MODEL_c209b291ead94179af64700f0957e62c"
          }
        },
        "297c8e279e2d4aa79267cc39d05fa153": {
          "model_module": "@jupyter-widgets/controls",
          "model_module_version": "1.5.0",
          "model_name": "DescriptionStyleModel",
          "state": {
            "_model_module": "@jupyter-widgets/controls",
            "_model_module_version": "1.5.0",
            "_model_name": "DescriptionStyleModel",
            "_view_count": null,
            "_view_module": "@jupyter-widgets/base",
            "_view_module_version": "1.2.0",
            "_view_name": "StyleView",
            "description_width": ""
          }
        },
        "3b5f37683ccc44cb8ec7b51494dfe8a8": {
          "model_module": "@jupyter-widgets/base",
          "model_module_version": "1.2.0",
          "model_name": "LayoutModel",
          "state": {
            "_model_module": "@jupyter-widgets/base",
            "_model_module_version": "1.2.0",
            "_model_name": "LayoutModel",
            "_view_count": null,
            "_view_module": "@jupyter-widgets/base",
            "_view_module_version": "1.2.0",
            "_view_name": "LayoutView",
            "align_content": null,
            "align_items": null,
            "align_self": null,
            "border": null,
            "bottom": null,
            "display": null,
            "flex": null,
            "flex_flow": null,
            "grid_area": null,
            "grid_auto_columns": null,
            "grid_auto_flow": null,
            "grid_auto_rows": null,
            "grid_column": null,
            "grid_gap": null,
            "grid_row": null,
            "grid_template_areas": null,
            "grid_template_columns": null,
            "grid_template_rows": null,
            "height": null,
            "justify_content": null,
            "justify_items": null,
            "left": null,
            "margin": null,
            "max_height": null,
            "max_width": null,
            "min_height": null,
            "min_width": null,
            "object_fit": null,
            "object_position": null,
            "order": null,
            "overflow": null,
            "overflow_x": null,
            "overflow_y": null,
            "padding": null,
            "right": null,
            "top": null,
            "visibility": null,
            "width": null
          }
        },
        "409d32ef845c408c8ea9d7a152884d30": {
          "model_module": "@jupyter-widgets/controls",
          "model_module_version": "1.5.0",
          "model_name": "HTMLModel",
          "state": {
            "_dom_classes": [],
            "_model_module": "@jupyter-widgets/controls",
            "_model_module_version": "1.5.0",
            "_model_name": "HTMLModel",
            "_view_count": null,
            "_view_module": "@jupyter-widgets/controls",
            "_view_module_version": "1.5.0",
            "_view_name": "HTMLView",
            "description": "",
            "description_tooltip": null,
            "layout": "IPY_MODEL_e974577750ce4c04bb80e5c9a0fc4f5f",
            "placeholder": "​",
            "style": "IPY_MODEL_297c8e279e2d4aa79267cc39d05fa153",
            "value": " 50/50 [02:07&lt;00:00,  2.47s/it]"
          }
        },
        "6fcf6d68d49c47a3a84ce6c61957204d": {
          "model_module": "@jupyter-widgets/controls",
          "model_module_version": "1.5.0",
          "model_name": "FloatProgressModel",
          "state": {
            "_dom_classes": [],
            "_model_module": "@jupyter-widgets/controls",
            "_model_module_version": "1.5.0",
            "_model_name": "FloatProgressModel",
            "_view_count": null,
            "_view_module": "@jupyter-widgets/controls",
            "_view_module_version": "1.5.0",
            "_view_name": "ProgressView",
            "bar_style": "success",
            "description": "",
            "description_tooltip": null,
            "layout": "IPY_MODEL_d66a1aee79b34cab86763edce4434b42",
            "max": 50,
            "min": 0,
            "orientation": "horizontal",
            "style": "IPY_MODEL_0e4d96b04123486688116016882dd37c",
            "value": 50
          }
        },
        "9f92c00d6bf1474b8d8681db4acff6f8": {
          "model_module": "@jupyter-widgets/controls",
          "model_module_version": "1.5.0",
          "model_name": "DescriptionStyleModel",
          "state": {
            "_model_module": "@jupyter-widgets/controls",
            "_model_module_version": "1.5.0",
            "_model_name": "DescriptionStyleModel",
            "_view_count": null,
            "_view_module": "@jupyter-widgets/base",
            "_view_module_version": "1.2.0",
            "_view_name": "StyleView",
            "description_width": ""
          }
        },
        "a6d2b5f9843b4be7ba739d4c37d2164d": {
          "model_module": "@jupyter-widgets/controls",
          "model_module_version": "1.5.0",
          "model_name": "DescriptionStyleModel",
          "state": {
            "_model_module": "@jupyter-widgets/controls",
            "_model_module_version": "1.5.0",
            "_model_name": "DescriptionStyleModel",
            "_view_count": null,
            "_view_module": "@jupyter-widgets/base",
            "_view_module_version": "1.2.0",
            "_view_name": "StyleView",
            "description_width": ""
          }
        },
        "c209b291ead94179af64700f0957e62c": {
          "model_module": "@jupyter-widgets/base",
          "model_module_version": "1.2.0",
          "model_name": "LayoutModel",
          "state": {
            "_model_module": "@jupyter-widgets/base",
            "_model_module_version": "1.2.0",
            "_model_name": "LayoutModel",
            "_view_count": null,
            "_view_module": "@jupyter-widgets/base",
            "_view_module_version": "1.2.0",
            "_view_name": "LayoutView",
            "align_content": null,
            "align_items": null,
            "align_self": null,
            "border": null,
            "bottom": null,
            "display": null,
            "flex": null,
            "flex_flow": null,
            "grid_area": null,
            "grid_auto_columns": null,
            "grid_auto_flow": null,
            "grid_auto_rows": null,
            "grid_column": null,
            "grid_gap": null,
            "grid_row": null,
            "grid_template_areas": null,
            "grid_template_columns": null,
            "grid_template_rows": null,
            "height": null,
            "justify_content": null,
            "justify_items": null,
            "left": null,
            "margin": null,
            "max_height": null,
            "max_width": null,
            "min_height": null,
            "min_width": null,
            "object_fit": null,
            "object_position": null,
            "order": null,
            "overflow": null,
            "overflow_x": null,
            "overflow_y": null,
            "padding": null,
            "right": null,
            "top": null,
            "visibility": null,
            "width": null
          }
        },
        "c777be89ed4e47958b785e17e05c5cd9": {
          "model_module": "@jupyter-widgets/controls",
          "model_module_version": "1.5.0",
          "model_name": "HTMLModel",
          "state": {
            "_dom_classes": [],
            "_model_module": "@jupyter-widgets/controls",
            "_model_module_version": "1.5.0",
            "_model_name": "HTMLModel",
            "_view_count": null,
            "_view_module": "@jupyter-widgets/controls",
            "_view_module_version": "1.5.0",
            "_view_name": "HTMLView",
            "description": "",
            "description_tooltip": null,
            "layout": "IPY_MODEL_f3cd446d4ebf47f996e22a0560c41416",
            "placeholder": "​",
            "style": "IPY_MODEL_129d9c103f9f4813820fa212282b0157",
            "value": "100%"
          }
        },
        "d65dfdc40e384bc9bab4cf55b39e81f8": {
          "model_module": "@jupyter-widgets/controls",
          "model_module_version": "1.5.0",
          "model_name": "HTMLModel",
          "state": {
            "_dom_classes": [],
            "_model_module": "@jupyter-widgets/controls",
            "_model_module_version": "1.5.0",
            "_model_name": "HTMLModel",
            "_view_count": null,
            "_view_module": "@jupyter-widgets/controls",
            "_view_module_version": "1.5.0",
            "_view_name": "HTMLView",
            "description": "",
            "description_tooltip": null,
            "layout": "IPY_MODEL_064fb77e85bd453f8bbd5af7460613f6",
            "placeholder": "​",
            "style": "IPY_MODEL_a6d2b5f9843b4be7ba739d4c37d2164d",
            "value": " 20/20 [09:04&lt;00:00, 24.11s/it]"
          }
        },
        "d66a1aee79b34cab86763edce4434b42": {
          "model_module": "@jupyter-widgets/base",
          "model_module_version": "1.2.0",
          "model_name": "LayoutModel",
          "state": {
            "_model_module": "@jupyter-widgets/base",
            "_model_module_version": "1.2.0",
            "_model_name": "LayoutModel",
            "_view_count": null,
            "_view_module": "@jupyter-widgets/base",
            "_view_module_version": "1.2.0",
            "_view_name": "LayoutView",
            "align_content": null,
            "align_items": null,
            "align_self": null,
            "border": null,
            "bottom": null,
            "display": null,
            "flex": null,
            "flex_flow": null,
            "grid_area": null,
            "grid_auto_columns": null,
            "grid_auto_flow": null,
            "grid_auto_rows": null,
            "grid_column": null,
            "grid_gap": null,
            "grid_row": null,
            "grid_template_areas": null,
            "grid_template_columns": null,
            "grid_template_rows": null,
            "height": null,
            "justify_content": null,
            "justify_items": null,
            "left": null,
            "margin": null,
            "max_height": null,
            "max_width": null,
            "min_height": null,
            "min_width": null,
            "object_fit": null,
            "object_position": null,
            "order": null,
            "overflow": null,
            "overflow_x": null,
            "overflow_y": null,
            "padding": null,
            "right": null,
            "top": null,
            "visibility": null,
            "width": null
          }
        },
        "e974577750ce4c04bb80e5c9a0fc4f5f": {
          "model_module": "@jupyter-widgets/base",
          "model_module_version": "1.2.0",
          "model_name": "LayoutModel",
          "state": {
            "_model_module": "@jupyter-widgets/base",
            "_model_module_version": "1.2.0",
            "_model_name": "LayoutModel",
            "_view_count": null,
            "_view_module": "@jupyter-widgets/base",
            "_view_module_version": "1.2.0",
            "_view_name": "LayoutView",
            "align_content": null,
            "align_items": null,
            "align_self": null,
            "border": null,
            "bottom": null,
            "display": null,
            "flex": null,
            "flex_flow": null,
            "grid_area": null,
            "grid_auto_columns": null,
            "grid_auto_flow": null,
            "grid_auto_rows": null,
            "grid_column": null,
            "grid_gap": null,
            "grid_row": null,
            "grid_template_areas": null,
            "grid_template_columns": null,
            "grid_template_rows": null,
            "height": null,
            "justify_content": null,
            "justify_items": null,
            "left": null,
            "margin": null,
            "max_height": null,
            "max_width": null,
            "min_height": null,
            "min_width": null,
            "object_fit": null,
            "object_position": null,
            "order": null,
            "overflow": null,
            "overflow_x": null,
            "overflow_y": null,
            "padding": null,
            "right": null,
            "top": null,
            "visibility": null,
            "width": null
          }
        },
        "f3cd446d4ebf47f996e22a0560c41416": {
          "model_module": "@jupyter-widgets/base",
          "model_module_version": "1.2.0",
          "model_name": "LayoutModel",
          "state": {
            "_model_module": "@jupyter-widgets/base",
            "_model_module_version": "1.2.0",
            "_model_name": "LayoutModel",
            "_view_count": null,
            "_view_module": "@jupyter-widgets/base",
            "_view_module_version": "1.2.0",
            "_view_name": "LayoutView",
            "align_content": null,
            "align_items": null,
            "align_self": null,
            "border": null,
            "bottom": null,
            "display": null,
            "flex": null,
            "flex_flow": null,
            "grid_area": null,
            "grid_auto_columns": null,
            "grid_auto_flow": null,
            "grid_auto_rows": null,
            "grid_column": null,
            "grid_gap": null,
            "grid_row": null,
            "grid_template_areas": null,
            "grid_template_columns": null,
            "grid_template_rows": null,
            "height": null,
            "justify_content": null,
            "justify_items": null,
            "left": null,
            "margin": null,
            "max_height": null,
            "max_width": null,
            "min_height": null,
            "min_width": null,
            "object_fit": null,
            "object_position": null,
            "order": null,
            "overflow": null,
            "overflow_x": null,
            "overflow_y": null,
            "padding": null,
            "right": null,
            "top": null,
            "visibility": null,
            "width": null
          }
        },
        "f4f90d0528a541e283a6a6fcec426685": {
          "model_module": "@jupyter-widgets/base",
          "model_module_version": "1.2.0",
          "model_name": "LayoutModel",
          "state": {
            "_model_module": "@jupyter-widgets/base",
            "_model_module_version": "1.2.0",
            "_model_name": "LayoutModel",
            "_view_count": null,
            "_view_module": "@jupyter-widgets/base",
            "_view_module_version": "1.2.0",
            "_view_name": "LayoutView",
            "align_content": null,
            "align_items": null,
            "align_self": null,
            "border": null,
            "bottom": null,
            "display": null,
            "flex": null,
            "flex_flow": null,
            "grid_area": null,
            "grid_auto_columns": null,
            "grid_auto_flow": null,
            "grid_auto_rows": null,
            "grid_column": null,
            "grid_gap": null,
            "grid_row": null,
            "grid_template_areas": null,
            "grid_template_columns": null,
            "grid_template_rows": null,
            "height": null,
            "justify_content": null,
            "justify_items": null,
            "left": null,
            "margin": null,
            "max_height": null,
            "max_width": null,
            "min_height": null,
            "min_width": null,
            "object_fit": null,
            "object_position": null,
            "order": null,
            "overflow": null,
            "overflow_x": null,
            "overflow_y": null,
            "padding": null,
            "right": null,
            "top": null,
            "visibility": null,
            "width": null
          }
        },
        "fcf980db9e6c4ba4bfeeafb80c0ed25b": {
          "model_module": "@jupyter-widgets/controls",
          "model_module_version": "1.5.0",
          "model_name": "HTMLModel",
          "state": {
            "_dom_classes": [],
            "_model_module": "@jupyter-widgets/controls",
            "_model_module_version": "1.5.0",
            "_model_name": "HTMLModel",
            "_view_count": null,
            "_view_module": "@jupyter-widgets/controls",
            "_view_module_version": "1.5.0",
            "_view_name": "HTMLView",
            "description": "",
            "description_tooltip": null,
            "layout": "IPY_MODEL_3b5f37683ccc44cb8ec7b51494dfe8a8",
            "placeholder": "​",
            "style": "IPY_MODEL_9f92c00d6bf1474b8d8681db4acff6f8",
            "value": "100%"
          }
        },
        "fdc4266b106745be971c3a4cab8f07bc": {
          "model_module": "@jupyter-widgets/controls",
          "model_module_version": "1.5.0",
          "model_name": "HBoxModel",
          "state": {
            "_dom_classes": [],
            "_model_module": "@jupyter-widgets/controls",
            "_model_module_version": "1.5.0",
            "_model_name": "HBoxModel",
            "_view_count": null,
            "_view_module": "@jupyter-widgets/controls",
            "_view_module_version": "1.5.0",
            "_view_name": "HBoxView",
            "box_style": "",
            "children": [
              "IPY_MODEL_fcf980db9e6c4ba4bfeeafb80c0ed25b",
              "IPY_MODEL_003f1ab1f510449681e508bda7a789cf",
              "IPY_MODEL_d65dfdc40e384bc9bab4cf55b39e81f8"
            ],
            "layout": "IPY_MODEL_1a120f5136cd431786719aa5ed93b699"
          }
        }
      }
    }
  },
  "nbformat": 4,
  "nbformat_minor": 0
}
